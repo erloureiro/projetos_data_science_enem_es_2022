{
 "cells": [
  {
   "cell_type": "markdown",
   "id": "bda923b0",
   "metadata": {},
   "source": [
    "## Regressão vetorial de suporte: opção à regressão linear múltipla"
   ]
  },
  {
   "cell_type": "code",
   "execution_count": 1,
   "id": "7ab037bd",
   "metadata": {
    "id": "P1k_GEUd62ik"
   },
   "outputs": [],
   "source": [
    "import numpy as np\n",
    "import pandas as pd"
   ]
  },
  {
   "cell_type": "code",
   "execution_count": 2,
   "id": "39927a75",
   "metadata": {
    "id": "DzMEX3BJoN3u"
   },
   "outputs": [],
   "source": [
    "enem_es = pd.read_csv('enem_2022_es_tratado.csv', sep=',', encoding='iso-8859-1')"
   ]
  },
  {
   "cell_type": "markdown",
   "id": "a27717a3",
   "metadata": {},
   "source": [
    "Análise Inicial"
   ]
  },
  {
   "cell_type": "code",
   "execution_count": 3,
   "id": "6b6d96e7",
   "metadata": {},
   "outputs": [
    {
     "data": {
      "text/html": [
       "<div>\n",
       "<style scoped>\n",
       "    .dataframe tbody tr th:only-of-type {\n",
       "        vertical-align: middle;\n",
       "    }\n",
       "\n",
       "    .dataframe tbody tr th {\n",
       "        vertical-align: top;\n",
       "    }\n",
       "\n",
       "    .dataframe thead th {\n",
       "        text-align: right;\n",
       "    }\n",
       "</style>\n",
       "<table border=\"1\" class=\"dataframe\">\n",
       "  <thead>\n",
       "    <tr style=\"text-align: right;\">\n",
       "      <th></th>\n",
       "      <th>NU_INSCRICAO</th>\n",
       "      <th>FAIXA_ETARIA</th>\n",
       "      <th>SEXO</th>\n",
       "      <th>ESTADO_CIVIL</th>\n",
       "      <th>RACA</th>\n",
       "      <th>NACIONALIDADE</th>\n",
       "      <th>TP_ST_CONCLUSAO</th>\n",
       "      <th>ESCOLA</th>\n",
       "      <th>NO_MUNICIPIO_ESC</th>\n",
       "      <th>NO_MUNICIPIO_PROVA</th>\n",
       "      <th>...</th>\n",
       "      <th>NOTA_MT</th>\n",
       "      <th>TP_LINGUA</th>\n",
       "      <th>TP_STATUS_REDACAO</th>\n",
       "      <th>COMP1</th>\n",
       "      <th>COMP2</th>\n",
       "      <th>COMP3</th>\n",
       "      <th>COMP4</th>\n",
       "      <th>COMP5</th>\n",
       "      <th>NOTA_REDACAO</th>\n",
       "      <th>INTERNET</th>\n",
       "    </tr>\n",
       "  </thead>\n",
       "  <tbody>\n",
       "    <tr>\n",
       "      <th>0</th>\n",
       "      <td>2,10E+11</td>\n",
       "      <td>21</td>\n",
       "      <td>M</td>\n",
       "      <td>1</td>\n",
       "      <td>parda</td>\n",
       "      <td>1</td>\n",
       "      <td>1</td>\n",
       "      <td>nao_respondeu</td>\n",
       "      <td>NaN</td>\n",
       "      <td>Cariacica</td>\n",
       "      <td>...</td>\n",
       "      <td>416.0</td>\n",
       "      <td>espanhol</td>\n",
       "      <td>1.0</td>\n",
       "      <td>120.0</td>\n",
       "      <td>40.0</td>\n",
       "      <td>40.0</td>\n",
       "      <td>100.0</td>\n",
       "      <td>20.0</td>\n",
       "      <td>320.0</td>\n",
       "      <td>sim</td>\n",
       "    </tr>\n",
       "    <tr>\n",
       "      <th>1</th>\n",
       "      <td>2,10E+11</td>\n",
       "      <td>19</td>\n",
       "      <td>F</td>\n",
       "      <td>1</td>\n",
       "      <td>parda</td>\n",
       "      <td>1</td>\n",
       "      <td>1</td>\n",
       "      <td>nao_respondeu</td>\n",
       "      <td>NaN</td>\n",
       "      <td>Colatina</td>\n",
       "      <td>...</td>\n",
       "      <td>460.8</td>\n",
       "      <td>espanhol</td>\n",
       "      <td>1.0</td>\n",
       "      <td>100.0</td>\n",
       "      <td>140.0</td>\n",
       "      <td>100.0</td>\n",
       "      <td>140.0</td>\n",
       "      <td>120.0</td>\n",
       "      <td>600.0</td>\n",
       "      <td>sim</td>\n",
       "    </tr>\n",
       "    <tr>\n",
       "      <th>2</th>\n",
       "      <td>2,10E+11</td>\n",
       "      <td>17</td>\n",
       "      <td>F</td>\n",
       "      <td>1</td>\n",
       "      <td>parda</td>\n",
       "      <td>1</td>\n",
       "      <td>2</td>\n",
       "      <td>privada</td>\n",
       "      <td>NaN</td>\n",
       "      <td>Colatina</td>\n",
       "      <td>...</td>\n",
       "      <td>449.3</td>\n",
       "      <td>espanhol</td>\n",
       "      <td>1.0</td>\n",
       "      <td>160.0</td>\n",
       "      <td>160.0</td>\n",
       "      <td>140.0</td>\n",
       "      <td>160.0</td>\n",
       "      <td>160.0</td>\n",
       "      <td>780.0</td>\n",
       "      <td>sim</td>\n",
       "    </tr>\n",
       "    <tr>\n",
       "      <th>3</th>\n",
       "      <td>2,10E+11</td>\n",
       "      <td>41_45</td>\n",
       "      <td>F</td>\n",
       "      <td>3</td>\n",
       "      <td>parda</td>\n",
       "      <td>1</td>\n",
       "      <td>1</td>\n",
       "      <td>nao_respondeu</td>\n",
       "      <td>NaN</td>\n",
       "      <td>Vila Velha</td>\n",
       "      <td>...</td>\n",
       "      <td>437.6</td>\n",
       "      <td>espanhol</td>\n",
       "      <td>1.0</td>\n",
       "      <td>120.0</td>\n",
       "      <td>120.0</td>\n",
       "      <td>120.0</td>\n",
       "      <td>120.0</td>\n",
       "      <td>100.0</td>\n",
       "      <td>580.0</td>\n",
       "      <td>sim</td>\n",
       "    </tr>\n",
       "    <tr>\n",
       "      <th>4</th>\n",
       "      <td>2,10E+11</td>\n",
       "      <td>17</td>\n",
       "      <td>M</td>\n",
       "      <td>1</td>\n",
       "      <td>parda</td>\n",
       "      <td>1</td>\n",
       "      <td>2</td>\n",
       "      <td>publica</td>\n",
       "      <td>Viana</td>\n",
       "      <td>Cariacica</td>\n",
       "      <td>...</td>\n",
       "      <td>464.2</td>\n",
       "      <td>ingles</td>\n",
       "      <td>1.0</td>\n",
       "      <td>120.0</td>\n",
       "      <td>120.0</td>\n",
       "      <td>120.0</td>\n",
       "      <td>160.0</td>\n",
       "      <td>140.0</td>\n",
       "      <td>660.0</td>\n",
       "      <td>nao</td>\n",
       "    </tr>\n",
       "    <tr>\n",
       "      <th>...</th>\n",
       "      <td>...</td>\n",
       "      <td>...</td>\n",
       "      <td>...</td>\n",
       "      <td>...</td>\n",
       "      <td>...</td>\n",
       "      <td>...</td>\n",
       "      <td>...</td>\n",
       "      <td>...</td>\n",
       "      <td>...</td>\n",
       "      <td>...</td>\n",
       "      <td>...</td>\n",
       "      <td>...</td>\n",
       "      <td>...</td>\n",
       "      <td>...</td>\n",
       "      <td>...</td>\n",
       "      <td>...</td>\n",
       "      <td>...</td>\n",
       "      <td>...</td>\n",
       "      <td>...</td>\n",
       "      <td>...</td>\n",
       "      <td>...</td>\n",
       "    </tr>\n",
       "    <tr>\n",
       "      <th>11812</th>\n",
       "      <td>2,10E+11</td>\n",
       "      <td>18</td>\n",
       "      <td>M</td>\n",
       "      <td>1</td>\n",
       "      <td>branca</td>\n",
       "      <td>1</td>\n",
       "      <td>2</td>\n",
       "      <td>publica</td>\n",
       "      <td>Vila Velha</td>\n",
       "      <td>Vila Velha</td>\n",
       "      <td>...</td>\n",
       "      <td>596.5</td>\n",
       "      <td>ingles</td>\n",
       "      <td>1.0</td>\n",
       "      <td>80.0</td>\n",
       "      <td>120.0</td>\n",
       "      <td>80.0</td>\n",
       "      <td>100.0</td>\n",
       "      <td>60.0</td>\n",
       "      <td>440.0</td>\n",
       "      <td>sim</td>\n",
       "    </tr>\n",
       "    <tr>\n",
       "      <th>11813</th>\n",
       "      <td>2,10E+11</td>\n",
       "      <td>17</td>\n",
       "      <td>F</td>\n",
       "      <td>1</td>\n",
       "      <td>parda</td>\n",
       "      <td>1</td>\n",
       "      <td>2</td>\n",
       "      <td>publica</td>\n",
       "      <td>Serra</td>\n",
       "      <td>Serra</td>\n",
       "      <td>...</td>\n",
       "      <td>630.6</td>\n",
       "      <td>espanhol</td>\n",
       "      <td>1.0</td>\n",
       "      <td>160.0</td>\n",
       "      <td>140.0</td>\n",
       "      <td>120.0</td>\n",
       "      <td>160.0</td>\n",
       "      <td>120.0</td>\n",
       "      <td>700.0</td>\n",
       "      <td>sim</td>\n",
       "    </tr>\n",
       "    <tr>\n",
       "      <th>11814</th>\n",
       "      <td>2,10E+11</td>\n",
       "      <td>36_40</td>\n",
       "      <td>F</td>\n",
       "      <td>2</td>\n",
       "      <td>parda</td>\n",
       "      <td>1</td>\n",
       "      <td>1</td>\n",
       "      <td>nao_respondeu</td>\n",
       "      <td>NaN</td>\n",
       "      <td>Vila Velha</td>\n",
       "      <td>...</td>\n",
       "      <td>457.0</td>\n",
       "      <td>espanhol</td>\n",
       "      <td>1.0</td>\n",
       "      <td>120.0</td>\n",
       "      <td>160.0</td>\n",
       "      <td>120.0</td>\n",
       "      <td>120.0</td>\n",
       "      <td>160.0</td>\n",
       "      <td>680.0</td>\n",
       "      <td>sim</td>\n",
       "    </tr>\n",
       "    <tr>\n",
       "      <th>11815</th>\n",
       "      <td>2,10E+11</td>\n",
       "      <td>19</td>\n",
       "      <td>F</td>\n",
       "      <td>1</td>\n",
       "      <td>parda</td>\n",
       "      <td>1</td>\n",
       "      <td>1</td>\n",
       "      <td>nao_respondeu</td>\n",
       "      <td>NaN</td>\n",
       "      <td>Vila Velha</td>\n",
       "      <td>...</td>\n",
       "      <td>545.6</td>\n",
       "      <td>ingles</td>\n",
       "      <td>1.0</td>\n",
       "      <td>120.0</td>\n",
       "      <td>160.0</td>\n",
       "      <td>120.0</td>\n",
       "      <td>160.0</td>\n",
       "      <td>140.0</td>\n",
       "      <td>700.0</td>\n",
       "      <td>sim</td>\n",
       "    </tr>\n",
       "    <tr>\n",
       "      <th>11816</th>\n",
       "      <td>2,10E+11</td>\n",
       "      <td>18</td>\n",
       "      <td>M</td>\n",
       "      <td>1</td>\n",
       "      <td>parda</td>\n",
       "      <td>1</td>\n",
       "      <td>2</td>\n",
       "      <td>publica</td>\n",
       "      <td>Vitória</td>\n",
       "      <td>Vitória</td>\n",
       "      <td>...</td>\n",
       "      <td>473.8</td>\n",
       "      <td>espanhol</td>\n",
       "      <td>1.0</td>\n",
       "      <td>80.0</td>\n",
       "      <td>40.0</td>\n",
       "      <td>40.0</td>\n",
       "      <td>120.0</td>\n",
       "      <td>40.0</td>\n",
       "      <td>320.0</td>\n",
       "      <td>sim</td>\n",
       "    </tr>\n",
       "  </tbody>\n",
       "</table>\n",
       "<p>11817 rows × 27 columns</p>\n",
       "</div>"
      ],
      "text/plain": [
       "      NU_INSCRICAO FAIXA_ETARIA SEXO  ESTADO_CIVIL    RACA  NACIONALIDADE  \\\n",
       "0         2,10E+11           21    M             1   parda              1   \n",
       "1         2,10E+11           19    F             1   parda              1   \n",
       "2         2,10E+11           17    F             1   parda              1   \n",
       "3         2,10E+11        41_45    F             3   parda              1   \n",
       "4         2,10E+11           17    M             1   parda              1   \n",
       "...            ...          ...  ...           ...     ...            ...   \n",
       "11812     2,10E+11           18    M             1  branca              1   \n",
       "11813     2,10E+11           17    F             1   parda              1   \n",
       "11814     2,10E+11        36_40    F             2   parda              1   \n",
       "11815     2,10E+11           19    F             1   parda              1   \n",
       "11816     2,10E+11           18    M             1   parda              1   \n",
       "\n",
       "       TP_ST_CONCLUSAO         ESCOLA NO_MUNICIPIO_ESC NO_MUNICIPIO_PROVA  \\\n",
       "0                    1  nao_respondeu              NaN          Cariacica   \n",
       "1                    1  nao_respondeu              NaN           Colatina   \n",
       "2                    2        privada              NaN           Colatina   \n",
       "3                    1  nao_respondeu              NaN         Vila Velha   \n",
       "4                    2        publica            Viana          Cariacica   \n",
       "...                ...            ...              ...                ...   \n",
       "11812                2        publica       Vila Velha         Vila Velha   \n",
       "11813                2        publica            Serra              Serra   \n",
       "11814                1  nao_respondeu              NaN         Vila Velha   \n",
       "11815                1  nao_respondeu              NaN         Vila Velha   \n",
       "11816                2        publica          Vitória            Vitória   \n",
       "\n",
       "       ...  NOTA_MT  TP_LINGUA  TP_STATUS_REDACAO  COMP1  COMP2  COMP3  COMP4  \\\n",
       "0      ...    416.0   espanhol                1.0  120.0   40.0   40.0  100.0   \n",
       "1      ...    460.8   espanhol                1.0  100.0  140.0  100.0  140.0   \n",
       "2      ...    449.3   espanhol                1.0  160.0  160.0  140.0  160.0   \n",
       "3      ...    437.6   espanhol                1.0  120.0  120.0  120.0  120.0   \n",
       "4      ...    464.2     ingles                1.0  120.0  120.0  120.0  160.0   \n",
       "...    ...      ...        ...                ...    ...    ...    ...    ...   \n",
       "11812  ...    596.5     ingles                1.0   80.0  120.0   80.0  100.0   \n",
       "11813  ...    630.6   espanhol                1.0  160.0  140.0  120.0  160.0   \n",
       "11814  ...    457.0   espanhol                1.0  120.0  160.0  120.0  120.0   \n",
       "11815  ...    545.6     ingles                1.0  120.0  160.0  120.0  160.0   \n",
       "11816  ...    473.8   espanhol                1.0   80.0   40.0   40.0  120.0   \n",
       "\n",
       "       COMP5 NOTA_REDACAO  INTERNET  \n",
       "0       20.0        320.0       sim  \n",
       "1      120.0        600.0       sim  \n",
       "2      160.0        780.0       sim  \n",
       "3      100.0        580.0       sim  \n",
       "4      140.0        660.0       nao  \n",
       "...      ...          ...       ...  \n",
       "11812   60.0        440.0       sim  \n",
       "11813  120.0        700.0       sim  \n",
       "11814  160.0        680.0       sim  \n",
       "11815  140.0        700.0       sim  \n",
       "11816   40.0        320.0       sim  \n",
       "\n",
       "[11817 rows x 27 columns]"
      ]
     },
     "execution_count": 3,
     "metadata": {},
     "output_type": "execute_result"
    }
   ],
   "source": [
    "enem_es"
   ]
  },
  {
   "cell_type": "code",
   "execution_count": 4,
   "id": "f95fe043",
   "metadata": {},
   "outputs": [
    {
     "data": {
      "text/plain": [
       "(11817, 27)"
      ]
     },
     "execution_count": 4,
     "metadata": {},
     "output_type": "execute_result"
    }
   ],
   "source": [
    "enem_es.shape"
   ]
  },
  {
   "cell_type": "markdown",
   "id": "b755cbf5",
   "metadata": {},
   "source": [
    "Objetivo: criar um modelo matemático para prever a nota de redação tendo como variáveis independentes as notas de seus componentes."
   ]
  },
  {
   "cell_type": "markdown",
   "id": "ddc3846c",
   "metadata": {},
   "source": [
    "#### selecionar Município"
   ]
  },
  {
   "cell_type": "code",
   "execution_count": 5,
   "id": "1f0f50e2",
   "metadata": {
    "id": "QjUHhWqFoVG4"
   },
   "outputs": [],
   "source": [
    "municipiox = enem_es.loc[enem_es.NO_MUNICIPIO_ESC == 'Viana']"
   ]
  },
  {
   "cell_type": "code",
   "execution_count": 6,
   "id": "134c4172",
   "metadata": {
    "colab": {
     "base_uri": "https://localhost:8080/"
    },
    "id": "ro1T9FRnoz3u",
    "outputId": "f8869266-757e-4cfd-cd45-15e5014f6dec"
   },
   "outputs": [
    {
     "data": {
      "text/plain": [
       "(68, 27)"
      ]
     },
     "execution_count": 6,
     "metadata": {},
     "output_type": "execute_result"
    }
   ],
   "source": [
    "municipiox.shape"
   ]
  },
  {
   "cell_type": "code",
   "execution_count": 7,
   "id": "c5cdcf9a",
   "metadata": {
    "colab": {
     "base_uri": "https://localhost:8080/",
     "height": 215
    },
    "id": "5AYuP9cMcRhz",
    "outputId": "39e17f82-332a-4261-fe30-90e4e7759b42"
   },
   "outputs": [
    {
     "data": {
      "text/html": [
       "<div>\n",
       "<style scoped>\n",
       "    .dataframe tbody tr th:only-of-type {\n",
       "        vertical-align: middle;\n",
       "    }\n",
       "\n",
       "    .dataframe tbody tr th {\n",
       "        vertical-align: top;\n",
       "    }\n",
       "\n",
       "    .dataframe thead th {\n",
       "        text-align: right;\n",
       "    }\n",
       "</style>\n",
       "<table border=\"1\" class=\"dataframe\">\n",
       "  <thead>\n",
       "    <tr style=\"text-align: right;\">\n",
       "      <th></th>\n",
       "      <th>NU_INSCRICAO</th>\n",
       "      <th>FAIXA_ETARIA</th>\n",
       "      <th>SEXO</th>\n",
       "      <th>ESTADO_CIVIL</th>\n",
       "      <th>RACA</th>\n",
       "      <th>NACIONALIDADE</th>\n",
       "      <th>TP_ST_CONCLUSAO</th>\n",
       "      <th>ESCOLA</th>\n",
       "      <th>NO_MUNICIPIO_ESC</th>\n",
       "      <th>NO_MUNICIPIO_PROVA</th>\n",
       "      <th>...</th>\n",
       "      <th>NOTA_MT</th>\n",
       "      <th>TP_LINGUA</th>\n",
       "      <th>TP_STATUS_REDACAO</th>\n",
       "      <th>COMP1</th>\n",
       "      <th>COMP2</th>\n",
       "      <th>COMP3</th>\n",
       "      <th>COMP4</th>\n",
       "      <th>COMP5</th>\n",
       "      <th>NOTA_REDACAO</th>\n",
       "      <th>INTERNET</th>\n",
       "    </tr>\n",
       "  </thead>\n",
       "  <tbody>\n",
       "    <tr>\n",
       "      <th>4</th>\n",
       "      <td>2,10E+11</td>\n",
       "      <td>17</td>\n",
       "      <td>M</td>\n",
       "      <td>1</td>\n",
       "      <td>parda</td>\n",
       "      <td>1</td>\n",
       "      <td>2</td>\n",
       "      <td>publica</td>\n",
       "      <td>Viana</td>\n",
       "      <td>Cariacica</td>\n",
       "      <td>...</td>\n",
       "      <td>464.2</td>\n",
       "      <td>ingles</td>\n",
       "      <td>1.0</td>\n",
       "      <td>120.0</td>\n",
       "      <td>120.0</td>\n",
       "      <td>120.0</td>\n",
       "      <td>160.0</td>\n",
       "      <td>140.0</td>\n",
       "      <td>660.0</td>\n",
       "      <td>nao</td>\n",
       "    </tr>\n",
       "    <tr>\n",
       "      <th>678</th>\n",
       "      <td>2,10E+11</td>\n",
       "      <td>18</td>\n",
       "      <td>F</td>\n",
       "      <td>1</td>\n",
       "      <td>parda</td>\n",
       "      <td>1</td>\n",
       "      <td>2</td>\n",
       "      <td>publica</td>\n",
       "      <td>Viana</td>\n",
       "      <td>Viana</td>\n",
       "      <td>...</td>\n",
       "      <td>497.9</td>\n",
       "      <td>espanhol</td>\n",
       "      <td>1.0</td>\n",
       "      <td>140.0</td>\n",
       "      <td>180.0</td>\n",
       "      <td>160.0</td>\n",
       "      <td>180.0</td>\n",
       "      <td>120.0</td>\n",
       "      <td>780.0</td>\n",
       "      <td>sim</td>\n",
       "    </tr>\n",
       "    <tr>\n",
       "      <th>692</th>\n",
       "      <td>2,10E+11</td>\n",
       "      <td>17</td>\n",
       "      <td>M</td>\n",
       "      <td>1</td>\n",
       "      <td>preta</td>\n",
       "      <td>1</td>\n",
       "      <td>2</td>\n",
       "      <td>publica</td>\n",
       "      <td>Viana</td>\n",
       "      <td>Viana</td>\n",
       "      <td>...</td>\n",
       "      <td>514.8</td>\n",
       "      <td>ingles</td>\n",
       "      <td>1.0</td>\n",
       "      <td>100.0</td>\n",
       "      <td>180.0</td>\n",
       "      <td>100.0</td>\n",
       "      <td>120.0</td>\n",
       "      <td>120.0</td>\n",
       "      <td>620.0</td>\n",
       "      <td>sim</td>\n",
       "    </tr>\n",
       "    <tr>\n",
       "      <th>818</th>\n",
       "      <td>2,10E+11</td>\n",
       "      <td>18</td>\n",
       "      <td>F</td>\n",
       "      <td>1</td>\n",
       "      <td>parda</td>\n",
       "      <td>1</td>\n",
       "      <td>2</td>\n",
       "      <td>publica</td>\n",
       "      <td>Viana</td>\n",
       "      <td>Viana</td>\n",
       "      <td>...</td>\n",
       "      <td>504.7</td>\n",
       "      <td>espanhol</td>\n",
       "      <td>1.0</td>\n",
       "      <td>140.0</td>\n",
       "      <td>180.0</td>\n",
       "      <td>160.0</td>\n",
       "      <td>200.0</td>\n",
       "      <td>200.0</td>\n",
       "      <td>880.0</td>\n",
       "      <td>sim</td>\n",
       "    </tr>\n",
       "    <tr>\n",
       "      <th>1309</th>\n",
       "      <td>2,10E+11</td>\n",
       "      <td>18</td>\n",
       "      <td>F</td>\n",
       "      <td>1</td>\n",
       "      <td>branca</td>\n",
       "      <td>1</td>\n",
       "      <td>2</td>\n",
       "      <td>publica</td>\n",
       "      <td>Viana</td>\n",
       "      <td>Viana</td>\n",
       "      <td>...</td>\n",
       "      <td>567.7</td>\n",
       "      <td>espanhol</td>\n",
       "      <td>1.0</td>\n",
       "      <td>140.0</td>\n",
       "      <td>120.0</td>\n",
       "      <td>100.0</td>\n",
       "      <td>120.0</td>\n",
       "      <td>140.0</td>\n",
       "      <td>620.0</td>\n",
       "      <td>sim</td>\n",
       "    </tr>\n",
       "  </tbody>\n",
       "</table>\n",
       "<p>5 rows × 27 columns</p>\n",
       "</div>"
      ],
      "text/plain": [
       "     NU_INSCRICAO FAIXA_ETARIA SEXO  ESTADO_CIVIL    RACA  NACIONALIDADE  \\\n",
       "4        2,10E+11           17    M             1   parda              1   \n",
       "678      2,10E+11           18    F             1   parda              1   \n",
       "692      2,10E+11           17    M             1   preta              1   \n",
       "818      2,10E+11           18    F             1   parda              1   \n",
       "1309     2,10E+11           18    F             1  branca              1   \n",
       "\n",
       "      TP_ST_CONCLUSAO   ESCOLA NO_MUNICIPIO_ESC NO_MUNICIPIO_PROVA  ...  \\\n",
       "4                   2  publica            Viana          Cariacica  ...   \n",
       "678                 2  publica            Viana              Viana  ...   \n",
       "692                 2  publica            Viana              Viana  ...   \n",
       "818                 2  publica            Viana              Viana  ...   \n",
       "1309                2  publica            Viana              Viana  ...   \n",
       "\n",
       "      NOTA_MT  TP_LINGUA  TP_STATUS_REDACAO  COMP1  COMP2  COMP3  COMP4  \\\n",
       "4       464.2     ingles                1.0  120.0  120.0  120.0  160.0   \n",
       "678     497.9   espanhol                1.0  140.0  180.0  160.0  180.0   \n",
       "692     514.8     ingles                1.0  100.0  180.0  100.0  120.0   \n",
       "818     504.7   espanhol                1.0  140.0  180.0  160.0  200.0   \n",
       "1309    567.7   espanhol                1.0  140.0  120.0  100.0  120.0   \n",
       "\n",
       "      COMP5 NOTA_REDACAO  INTERNET  \n",
       "4     140.0        660.0       nao  \n",
       "678   120.0        780.0       sim  \n",
       "692   120.0        620.0       sim  \n",
       "818   200.0        880.0       sim  \n",
       "1309  140.0        620.0       sim  \n",
       "\n",
       "[5 rows x 27 columns]"
      ]
     },
     "execution_count": 7,
     "metadata": {},
     "output_type": "execute_result"
    }
   ],
   "source": [
    "municipiox.head()"
   ]
  },
  {
   "cell_type": "markdown",
   "id": "1cf36eb7",
   "metadata": {
    "id": "CBuFd2yGfSMP"
   },
   "source": [
    "1) Analisar a classificação das variáveis"
   ]
  },
  {
   "cell_type": "code",
   "execution_count": 8,
   "id": "c7d006b2",
   "metadata": {
    "colab": {
     "base_uri": "https://localhost:8080/"
    },
    "id": "VZfjhBVufRdz",
    "outputId": "7978b2e3-9782-489f-f3b9-7a7b26e0e676"
   },
   "outputs": [
    {
     "data": {
      "text/plain": [
       "NU_INSCRICAO           object\n",
       "FAIXA_ETARIA           object\n",
       "SEXO                   object\n",
       "ESTADO_CIVIL            int64\n",
       "RACA                   object\n",
       "NACIONALIDADE           int64\n",
       "TP_ST_CONCLUSAO         int64\n",
       "ESCOLA                 object\n",
       "NO_MUNICIPIO_ESC       object\n",
       "NO_MUNICIPIO_PROVA     object\n",
       "TP_PRESENCA_CN          int64\n",
       "TP_PRESENCA_CH          int64\n",
       "TP_PRESENCA_LC          int64\n",
       "TP_PRESENCA_MT          int64\n",
       "NOTA_CN               float64\n",
       "NOTA_CH               float64\n",
       "NOTA_LC               float64\n",
       "NOTA_MT               float64\n",
       "TP_LINGUA              object\n",
       "TP_STATUS_REDACAO     float64\n",
       "COMP1                 float64\n",
       "COMP2                 float64\n",
       "COMP3                 float64\n",
       "COMP4                 float64\n",
       "COMP5                 float64\n",
       "NOTA_REDACAO          float64\n",
       "INTERNET               object\n",
       "dtype: object"
      ]
     },
     "execution_count": 8,
     "metadata": {},
     "output_type": "execute_result"
    }
   ],
   "source": [
    "municipiox.dtypes"
   ]
  },
  {
   "cell_type": "markdown",
   "id": "579e3f90",
   "metadata": {
    "id": "6pMJjefKgP8u"
   },
   "source": [
    "2) Analisar valores missing"
   ]
  },
  {
   "cell_type": "code",
   "execution_count": 9,
   "id": "3c55377a",
   "metadata": {
    "colab": {
     "base_uri": "https://localhost:8080/"
    },
    "id": "Jk34lwvkgTdy",
    "outputId": "787502dd-2eaa-4f9d-9338-e80132ae9662"
   },
   "outputs": [
    {
     "data": {
      "text/plain": [
       "NU_INSCRICAO          0\n",
       "FAIXA_ETARIA          0\n",
       "SEXO                  0\n",
       "ESTADO_CIVIL          0\n",
       "RACA                  0\n",
       "NACIONALIDADE         0\n",
       "TP_ST_CONCLUSAO       0\n",
       "ESCOLA                0\n",
       "NO_MUNICIPIO_ESC      0\n",
       "NO_MUNICIPIO_PROVA    0\n",
       "TP_PRESENCA_CN        0\n",
       "TP_PRESENCA_CH        0\n",
       "TP_PRESENCA_LC        0\n",
       "TP_PRESENCA_MT        0\n",
       "NOTA_CN               0\n",
       "NOTA_CH               0\n",
       "NOTA_LC               0\n",
       "NOTA_MT               0\n",
       "TP_LINGUA             0\n",
       "TP_STATUS_REDACAO     0\n",
       "COMP1                 0\n",
       "COMP2                 0\n",
       "COMP3                 0\n",
       "COMP4                 0\n",
       "COMP5                 0\n",
       "NOTA_REDACAO          0\n",
       "INTERNET              0\n",
       "dtype: int64"
      ]
     },
     "execution_count": 9,
     "metadata": {},
     "output_type": "execute_result"
    }
   ],
   "source": [
    "municipiox.isnull().sum()"
   ]
  },
  {
   "cell_type": "markdown",
   "id": "d6c15582",
   "metadata": {},
   "source": [
    "Separando as variáveis"
   ]
  },
  {
   "cell_type": "code",
   "execution_count": 10,
   "id": "35d151fe",
   "metadata": {},
   "outputs": [
    {
     "data": {
      "text/html": [
       "<div>\n",
       "<style scoped>\n",
       "    .dataframe tbody tr th:only-of-type {\n",
       "        vertical-align: middle;\n",
       "    }\n",
       "\n",
       "    .dataframe tbody tr th {\n",
       "        vertical-align: top;\n",
       "    }\n",
       "\n",
       "    .dataframe thead th {\n",
       "        text-align: right;\n",
       "    }\n",
       "</style>\n",
       "<table border=\"1\" class=\"dataframe\">\n",
       "  <thead>\n",
       "    <tr style=\"text-align: right;\">\n",
       "      <th></th>\n",
       "      <th>COMP2</th>\n",
       "      <th>COMP4</th>\n",
       "      <th>COMP5</th>\n",
       "    </tr>\n",
       "  </thead>\n",
       "  <tbody>\n",
       "    <tr>\n",
       "      <th>4</th>\n",
       "      <td>120.0</td>\n",
       "      <td>160.0</td>\n",
       "      <td>140.0</td>\n",
       "    </tr>\n",
       "    <tr>\n",
       "      <th>678</th>\n",
       "      <td>180.0</td>\n",
       "      <td>180.0</td>\n",
       "      <td>120.0</td>\n",
       "    </tr>\n",
       "    <tr>\n",
       "      <th>692</th>\n",
       "      <td>180.0</td>\n",
       "      <td>120.0</td>\n",
       "      <td>120.0</td>\n",
       "    </tr>\n",
       "    <tr>\n",
       "      <th>818</th>\n",
       "      <td>180.0</td>\n",
       "      <td>200.0</td>\n",
       "      <td>200.0</td>\n",
       "    </tr>\n",
       "    <tr>\n",
       "      <th>1309</th>\n",
       "      <td>120.0</td>\n",
       "      <td>120.0</td>\n",
       "      <td>140.0</td>\n",
       "    </tr>\n",
       "    <tr>\n",
       "      <th>...</th>\n",
       "      <td>...</td>\n",
       "      <td>...</td>\n",
       "      <td>...</td>\n",
       "    </tr>\n",
       "    <tr>\n",
       "      <th>11266</th>\n",
       "      <td>100.0</td>\n",
       "      <td>120.0</td>\n",
       "      <td>120.0</td>\n",
       "    </tr>\n",
       "    <tr>\n",
       "      <th>11287</th>\n",
       "      <td>120.0</td>\n",
       "      <td>120.0</td>\n",
       "      <td>40.0</td>\n",
       "    </tr>\n",
       "    <tr>\n",
       "      <th>11443</th>\n",
       "      <td>200.0</td>\n",
       "      <td>180.0</td>\n",
       "      <td>160.0</td>\n",
       "    </tr>\n",
       "    <tr>\n",
       "      <th>11516</th>\n",
       "      <td>200.0</td>\n",
       "      <td>180.0</td>\n",
       "      <td>120.0</td>\n",
       "    </tr>\n",
       "    <tr>\n",
       "      <th>11696</th>\n",
       "      <td>120.0</td>\n",
       "      <td>100.0</td>\n",
       "      <td>40.0</td>\n",
       "    </tr>\n",
       "  </tbody>\n",
       "</table>\n",
       "<p>68 rows × 3 columns</p>\n",
       "</div>"
      ],
      "text/plain": [
       "       COMP2  COMP4  COMP5\n",
       "4      120.0  160.0  140.0\n",
       "678    180.0  180.0  120.0\n",
       "692    180.0  120.0  120.0\n",
       "818    180.0  200.0  200.0\n",
       "1309   120.0  120.0  140.0\n",
       "...      ...    ...    ...\n",
       "11266  100.0  120.0  120.0\n",
       "11287  120.0  120.0   40.0\n",
       "11443  200.0  180.0  160.0\n",
       "11516  200.0  180.0  120.0\n",
       "11696  120.0  100.0   40.0\n",
       "\n",
       "[68 rows x 3 columns]"
      ]
     },
     "execution_count": 10,
     "metadata": {},
     "output_type": "execute_result"
    }
   ],
   "source": [
    "independente = municipiox[['COMP2', 'COMP4', 'COMP5']]\n",
    "independente"
   ]
  },
  {
   "cell_type": "code",
   "execution_count": 11,
   "id": "19af7ab7",
   "metadata": {},
   "outputs": [
    {
     "data": {
      "text/plain": [
       "(68, 3)"
      ]
     },
     "execution_count": 11,
     "metadata": {},
     "output_type": "execute_result"
    }
   ],
   "source": [
    "independente.shape"
   ]
  },
  {
   "cell_type": "code",
   "execution_count": 12,
   "id": "713b58e4",
   "metadata": {},
   "outputs": [
    {
     "data": {
      "text/html": [
       "<div>\n",
       "<style scoped>\n",
       "    .dataframe tbody tr th:only-of-type {\n",
       "        vertical-align: middle;\n",
       "    }\n",
       "\n",
       "    .dataframe tbody tr th {\n",
       "        vertical-align: top;\n",
       "    }\n",
       "\n",
       "    .dataframe thead th {\n",
       "        text-align: right;\n",
       "    }\n",
       "</style>\n",
       "<table border=\"1\" class=\"dataframe\">\n",
       "  <thead>\n",
       "    <tr style=\"text-align: right;\">\n",
       "      <th></th>\n",
       "      <th>NOTA_REDACAO</th>\n",
       "    </tr>\n",
       "  </thead>\n",
       "  <tbody>\n",
       "    <tr>\n",
       "      <th>4</th>\n",
       "      <td>660.0</td>\n",
       "    </tr>\n",
       "    <tr>\n",
       "      <th>678</th>\n",
       "      <td>780.0</td>\n",
       "    </tr>\n",
       "    <tr>\n",
       "      <th>692</th>\n",
       "      <td>620.0</td>\n",
       "    </tr>\n",
       "    <tr>\n",
       "      <th>818</th>\n",
       "      <td>880.0</td>\n",
       "    </tr>\n",
       "    <tr>\n",
       "      <th>1309</th>\n",
       "      <td>620.0</td>\n",
       "    </tr>\n",
       "    <tr>\n",
       "      <th>...</th>\n",
       "      <td>...</td>\n",
       "    </tr>\n",
       "    <tr>\n",
       "      <th>11266</th>\n",
       "      <td>600.0</td>\n",
       "    </tr>\n",
       "    <tr>\n",
       "      <th>11287</th>\n",
       "      <td>460.0</td>\n",
       "    </tr>\n",
       "    <tr>\n",
       "      <th>11443</th>\n",
       "      <td>860.0</td>\n",
       "    </tr>\n",
       "    <tr>\n",
       "      <th>11516</th>\n",
       "      <td>760.0</td>\n",
       "    </tr>\n",
       "    <tr>\n",
       "      <th>11696</th>\n",
       "      <td>460.0</td>\n",
       "    </tr>\n",
       "  </tbody>\n",
       "</table>\n",
       "<p>68 rows × 1 columns</p>\n",
       "</div>"
      ],
      "text/plain": [
       "       NOTA_REDACAO\n",
       "4             660.0\n",
       "678           780.0\n",
       "692           620.0\n",
       "818           880.0\n",
       "1309          620.0\n",
       "...             ...\n",
       "11266         600.0\n",
       "11287         460.0\n",
       "11443         860.0\n",
       "11516         760.0\n",
       "11696         460.0\n",
       "\n",
       "[68 rows x 1 columns]"
      ]
     },
     "execution_count": 12,
     "metadata": {},
     "output_type": "execute_result"
    }
   ],
   "source": [
    "dependente = municipiox[['NOTA_REDACAO']]\n",
    "dependente"
   ]
  },
  {
   "cell_type": "code",
   "execution_count": 13,
   "id": "6ae8aea8",
   "metadata": {},
   "outputs": [
    {
     "data": {
      "text/plain": [
       "(68, 1)"
      ]
     },
     "execution_count": 13,
     "metadata": {},
     "output_type": "execute_result"
    }
   ],
   "source": [
    "dependente.shape"
   ]
  },
  {
   "cell_type": "markdown",
   "id": "e1305797",
   "metadata": {},
   "source": [
    "## Usando a Máquina de Vetores de Suporte para Regressão (SVR)"
   ]
  },
  {
   "cell_type": "code",
   "execution_count": 14,
   "id": "5de8214c",
   "metadata": {},
   "outputs": [
    {
     "name": "stderr",
     "output_type": "stream",
     "text": [
      "C:\\Users\\eduardo.ramos\\AppData\\Local\\anaconda3\\Lib\\site-packages\\sklearn\\utils\\validation.py:1184: DataConversionWarning: A column-vector y was passed when a 1d array was expected. Please change the shape of y to (n_samples, ), for example using ravel().\n",
      "  y = column_or_1d(y, warn=True)\n"
     ]
    },
    {
     "data": {
      "text/html": [
       "<style>#sk-container-id-1 {color: black;}#sk-container-id-1 pre{padding: 0;}#sk-container-id-1 div.sk-toggleable {background-color: white;}#sk-container-id-1 label.sk-toggleable__label {cursor: pointer;display: block;width: 100%;margin-bottom: 0;padding: 0.3em;box-sizing: border-box;text-align: center;}#sk-container-id-1 label.sk-toggleable__label-arrow:before {content: \"▸\";float: left;margin-right: 0.25em;color: #696969;}#sk-container-id-1 label.sk-toggleable__label-arrow:hover:before {color: black;}#sk-container-id-1 div.sk-estimator:hover label.sk-toggleable__label-arrow:before {color: black;}#sk-container-id-1 div.sk-toggleable__content {max-height: 0;max-width: 0;overflow: hidden;text-align: left;background-color: #f0f8ff;}#sk-container-id-1 div.sk-toggleable__content pre {margin: 0.2em;color: black;border-radius: 0.25em;background-color: #f0f8ff;}#sk-container-id-1 input.sk-toggleable__control:checked~div.sk-toggleable__content {max-height: 200px;max-width: 100%;overflow: auto;}#sk-container-id-1 input.sk-toggleable__control:checked~label.sk-toggleable__label-arrow:before {content: \"▾\";}#sk-container-id-1 div.sk-estimator input.sk-toggleable__control:checked~label.sk-toggleable__label {background-color: #d4ebff;}#sk-container-id-1 div.sk-label input.sk-toggleable__control:checked~label.sk-toggleable__label {background-color: #d4ebff;}#sk-container-id-1 input.sk-hidden--visually {border: 0;clip: rect(1px 1px 1px 1px);clip: rect(1px, 1px, 1px, 1px);height: 1px;margin: -1px;overflow: hidden;padding: 0;position: absolute;width: 1px;}#sk-container-id-1 div.sk-estimator {font-family: monospace;background-color: #f0f8ff;border: 1px dotted black;border-radius: 0.25em;box-sizing: border-box;margin-bottom: 0.5em;}#sk-container-id-1 div.sk-estimator:hover {background-color: #d4ebff;}#sk-container-id-1 div.sk-parallel-item::after {content: \"\";width: 100%;border-bottom: 1px solid gray;flex-grow: 1;}#sk-container-id-1 div.sk-label:hover label.sk-toggleable__label {background-color: #d4ebff;}#sk-container-id-1 div.sk-serial::before {content: \"\";position: absolute;border-left: 1px solid gray;box-sizing: border-box;top: 0;bottom: 0;left: 50%;z-index: 0;}#sk-container-id-1 div.sk-serial {display: flex;flex-direction: column;align-items: center;background-color: white;padding-right: 0.2em;padding-left: 0.2em;position: relative;}#sk-container-id-1 div.sk-item {position: relative;z-index: 1;}#sk-container-id-1 div.sk-parallel {display: flex;align-items: stretch;justify-content: center;background-color: white;position: relative;}#sk-container-id-1 div.sk-item::before, #sk-container-id-1 div.sk-parallel-item::before {content: \"\";position: absolute;border-left: 1px solid gray;box-sizing: border-box;top: 0;bottom: 0;left: 50%;z-index: -1;}#sk-container-id-1 div.sk-parallel-item {display: flex;flex-direction: column;z-index: 1;position: relative;background-color: white;}#sk-container-id-1 div.sk-parallel-item:first-child::after {align-self: flex-end;width: 50%;}#sk-container-id-1 div.sk-parallel-item:last-child::after {align-self: flex-start;width: 50%;}#sk-container-id-1 div.sk-parallel-item:only-child::after {width: 0;}#sk-container-id-1 div.sk-dashed-wrapped {border: 1px dashed gray;margin: 0 0.4em 0.5em 0.4em;box-sizing: border-box;padding-bottom: 0.4em;background-color: white;}#sk-container-id-1 div.sk-label label {font-family: monospace;font-weight: bold;display: inline-block;line-height: 1.2em;}#sk-container-id-1 div.sk-label-container {text-align: center;}#sk-container-id-1 div.sk-container {/* jupyter's `normalize.less` sets `[hidden] { display: none; }` but bootstrap.min.css set `[hidden] { display: none !important; }` so we also need the `!important` here to be able to override the default hidden behavior on the sphinx rendered scikit-learn.org. See: https://github.com/scikit-learn/scikit-learn/issues/21755 */display: inline-block !important;position: relative;}#sk-container-id-1 div.sk-text-repr-fallback {display: none;}</style><div id=\"sk-container-id-1\" class=\"sk-top-container\"><div class=\"sk-text-repr-fallback\"><pre>SVR(kernel=&#x27;linear&#x27;)</pre><b>In a Jupyter environment, please rerun this cell to show the HTML representation or trust the notebook. <br />On GitHub, the HTML representation is unable to render, please try loading this page with nbviewer.org.</b></div><div class=\"sk-container\" hidden><div class=\"sk-item\"><div class=\"sk-estimator sk-toggleable\"><input class=\"sk-toggleable__control sk-hidden--visually\" id=\"sk-estimator-id-1\" type=\"checkbox\" checked><label for=\"sk-estimator-id-1\" class=\"sk-toggleable__label sk-toggleable__label-arrow\">SVR</label><div class=\"sk-toggleable__content\"><pre>SVR(kernel=&#x27;linear&#x27;)</pre></div></div></div></div></div>"
      ],
      "text/plain": [
       "SVR(kernel='linear')"
      ]
     },
     "execution_count": 14,
     "metadata": {},
     "output_type": "execute_result"
    }
   ],
   "source": [
    "# parâmetros para o kernel = linear, sigmoid, rbf, poly\n",
    "# verificar qual parâmetro do kernel apresenta o melhor score\n",
    "from sklearn.svm import SVR\n",
    "svr = SVR(kernel='linear')\n",
    "svr.fit(independente, dependente)"
   ]
  },
  {
   "cell_type": "code",
   "execution_count": 15,
   "id": "69705ccd",
   "metadata": {},
   "outputs": [
    {
     "data": {
      "text/plain": [
       "0.9737489271807558"
      ]
     },
     "execution_count": 15,
     "metadata": {},
     "output_type": "execute_result"
    }
   ],
   "source": [
    "svr.score(independente, dependente)"
   ]
  },
  {
   "cell_type": "code",
   "execution_count": 16,
   "id": "6556fd55",
   "metadata": {
    "scrolled": true
   },
   "outputs": [
    {
     "data": {
      "text/plain": [
       "array([667.04122405, 764.79438826, 672.95898149, 894.18256438,\n",
       "       605.81761954,  65.6172409 , 556.4294326 , 581.12352607,\n",
       "       433.98215871, 581.12352607, 691.73534995, 655.20580647,\n",
       "       722.34713599, 703.57079996, 556.4294326 , 655.20580647,\n",
       "       642.34716301, 630.511713  , 432.95898149, 832.95895986,\n",
       "       402.34716301, 507.04126188, 667.04122405, 808.26488261,\n",
       "       636.42943801, 402.34716301, 820.10030019, 581.12352607,\n",
       "       556.4294326 , 924.79438285, 359.89987832, 894.18258059,\n",
       "       432.95896527, 752.95895446, 894.18258059, 556.4294326 ,\n",
       "       642.34716301, 611.73534454, 581.12352607, 630.511713  ,\n",
       "       359.89991075, 611.73532833, 623.57079455, 672.95896527,\n",
       "       661.12351526, 531.73533914, 310.51169138, 482.3471522 ,\n",
       "       402.34716301, 329.28807606, 359.89987832, 599.89991075,\n",
       "       501.12353688, 501.12353688, 556.4294326 , 599.89991075,\n",
       "       894.18258059, 531.73533914, 581.12352607, 869.48848713,\n",
       "       869.48848713, 507.04124567, 359.89987832, 550.5117076 ,\n",
       "       482.3471522 , 844.79439366, 795.40620673, 451.73534995])"
      ]
     },
     "execution_count": 16,
     "metadata": {},
     "output_type": "execute_result"
    }
   ],
   "source": [
    "previsoes = svr.predict(independente)\n",
    "previsoes"
   ]
  },
  {
   "cell_type": "code",
   "execution_count": 17,
   "id": "6985948c",
   "metadata": {},
   "outputs": [
    {
     "data": {
      "text/plain": [
       "array([65.6172409])"
      ]
     },
     "execution_count": 17,
     "metadata": {},
     "output_type": "execute_result"
    }
   ],
   "source": [
    "svr.intercept_"
   ]
  },
  {
   "cell_type": "code",
   "execution_count": 18,
   "id": "506a1af2",
   "metadata": {},
   "outputs": [
    {
     "data": {
      "text/plain": [
       "array([[1.53059092, 1.53059011, 1.23470467]])"
      ]
     },
     "execution_count": 18,
     "metadata": {},
     "output_type": "execute_result"
    }
   ],
   "source": [
    "svr.coef_"
   ]
  },
  {
   "cell_type": "code",
   "execution_count": 19,
   "id": "be4076d0",
   "metadata": {},
   "outputs": [
    {
     "name": "stdout",
     "output_type": "stream",
     "text": [
      "Equação: NOTA REDAÇÃO = 65.62 + 1.53*COMP2 + 1.53*COMP4 + 1.23*COMP5\n"
     ]
    }
   ],
   "source": [
    "print(\"Equação: NOTA REDAÇÃO = {:.2f} + {:.2f}*COMP2 + {:.2f}*COMP4 + \\\n",
    "{:.2f}*COMP5\".format(svr.intercept_[0], svr.coef_[0][0], svr.coef_[0][1], svr.coef_[0][2]))"
   ]
  },
  {
   "cell_type": "markdown",
   "id": "176c9513",
   "metadata": {},
   "source": [
    "#### Métricas"
   ]
  },
  {
   "cell_type": "code",
   "execution_count": 20,
   "id": "fbc3c1d0",
   "metadata": {},
   "outputs": [],
   "source": [
    "from sklearn.metrics import mean_absolute_error, mean_squared_error"
   ]
  },
  {
   "cell_type": "code",
   "execution_count": 21,
   "id": "afb84d88",
   "metadata": {},
   "outputs": [
    {
     "data": {
      "text/plain": [
       "21.542566004712597"
      ]
     },
     "execution_count": 21,
     "metadata": {},
     "output_type": "execute_result"
    }
   ],
   "source": [
    "# Erro médio Absoluto\n",
    "mean_absolute_error(dependente, previsoes)"
   ]
  },
  {
   "cell_type": "code",
   "execution_count": 22,
   "id": "c1c7501f",
   "metadata": {},
   "outputs": [
    {
     "data": {
      "text/plain": [
       "772.44235941436"
      ]
     },
     "execution_count": 22,
     "metadata": {},
     "output_type": "execute_result"
    }
   ],
   "source": [
    "# Erro quadrático médio\n",
    "mean_squared_error(dependente, previsoes)"
   ]
  },
  {
   "cell_type": "code",
   "execution_count": 23,
   "id": "81d6c50d",
   "metadata": {},
   "outputs": [
    {
     "data": {
      "text/plain": [
       "27.792847270734246"
      ]
     },
     "execution_count": 23,
     "metadata": {},
     "output_type": "execute_result"
    }
   ],
   "source": [
    "# Raiz do erro quadrático médio (RMSE)\n",
    "np.sqrt(mean_squared_error(dependente, previsoes))"
   ]
  },
  {
   "cell_type": "markdown",
   "id": "ab758555",
   "metadata": {},
   "source": [
    "### PREVISÕES"
   ]
  },
  {
   "cell_type": "code",
   "execution_count": 24,
   "id": "ffa92130",
   "metadata": {},
   "outputs": [
    {
     "data": {
      "text/html": [
       "<div>\n",
       "<style scoped>\n",
       "    .dataframe tbody tr th:only-of-type {\n",
       "        vertical-align: middle;\n",
       "    }\n",
       "\n",
       "    .dataframe tbody tr th {\n",
       "        vertical-align: top;\n",
       "    }\n",
       "\n",
       "    .dataframe thead th {\n",
       "        text-align: right;\n",
       "    }\n",
       "</style>\n",
       "<table border=\"1\" class=\"dataframe\">\n",
       "  <thead>\n",
       "    <tr style=\"text-align: right;\">\n",
       "      <th></th>\n",
       "      <th>PREVISOES</th>\n",
       "    </tr>\n",
       "  </thead>\n",
       "  <tbody>\n",
       "    <tr>\n",
       "      <th>0</th>\n",
       "      <td>667.041224</td>\n",
       "    </tr>\n",
       "    <tr>\n",
       "      <th>1</th>\n",
       "      <td>764.794388</td>\n",
       "    </tr>\n",
       "    <tr>\n",
       "      <th>2</th>\n",
       "      <td>672.958981</td>\n",
       "    </tr>\n",
       "    <tr>\n",
       "      <th>3</th>\n",
       "      <td>894.182564</td>\n",
       "    </tr>\n",
       "    <tr>\n",
       "      <th>4</th>\n",
       "      <td>605.817620</td>\n",
       "    </tr>\n",
       "    <tr>\n",
       "      <th>...</th>\n",
       "      <td>...</td>\n",
       "    </tr>\n",
       "    <tr>\n",
       "      <th>63</th>\n",
       "      <td>550.511708</td>\n",
       "    </tr>\n",
       "    <tr>\n",
       "      <th>64</th>\n",
       "      <td>482.347152</td>\n",
       "    </tr>\n",
       "    <tr>\n",
       "      <th>65</th>\n",
       "      <td>844.794394</td>\n",
       "    </tr>\n",
       "    <tr>\n",
       "      <th>66</th>\n",
       "      <td>795.406207</td>\n",
       "    </tr>\n",
       "    <tr>\n",
       "      <th>67</th>\n",
       "      <td>451.735350</td>\n",
       "    </tr>\n",
       "  </tbody>\n",
       "</table>\n",
       "<p>68 rows × 1 columns</p>\n",
       "</div>"
      ],
      "text/plain": [
       "     PREVISOES\n",
       "0   667.041224\n",
       "1   764.794388\n",
       "2   672.958981\n",
       "3   894.182564\n",
       "4   605.817620\n",
       "..         ...\n",
       "63  550.511708\n",
       "64  482.347152\n",
       "65  844.794394\n",
       "66  795.406207\n",
       "67  451.735350\n",
       "\n",
       "[68 rows x 1 columns]"
      ]
     },
     "execution_count": 24,
     "metadata": {},
     "output_type": "execute_result"
    }
   ],
   "source": [
    "previsoesdf = pd.DataFrame(previsoes, columns = ['PREVISOES'])\n",
    "previsoesdf"
   ]
  },
  {
   "cell_type": "code",
   "execution_count": 25,
   "id": "e78e4dd0",
   "metadata": {},
   "outputs": [],
   "source": [
    "municipiox.reset_index(inplace=True, drop=True)"
   ]
  },
  {
   "cell_type": "code",
   "execution_count": 26,
   "id": "83768fa6",
   "metadata": {},
   "outputs": [
    {
     "data": {
      "text/html": [
       "<div>\n",
       "<style scoped>\n",
       "    .dataframe tbody tr th:only-of-type {\n",
       "        vertical-align: middle;\n",
       "    }\n",
       "\n",
       "    .dataframe tbody tr th {\n",
       "        vertical-align: top;\n",
       "    }\n",
       "\n",
       "    .dataframe thead th {\n",
       "        text-align: right;\n",
       "    }\n",
       "</style>\n",
       "<table border=\"1\" class=\"dataframe\">\n",
       "  <thead>\n",
       "    <tr style=\"text-align: right;\">\n",
       "      <th></th>\n",
       "      <th>NU_INSCRICAO</th>\n",
       "      <th>FAIXA_ETARIA</th>\n",
       "      <th>SEXO</th>\n",
       "      <th>ESTADO_CIVIL</th>\n",
       "      <th>RACA</th>\n",
       "      <th>NACIONALIDADE</th>\n",
       "      <th>TP_ST_CONCLUSAO</th>\n",
       "      <th>ESCOLA</th>\n",
       "      <th>NO_MUNICIPIO_ESC</th>\n",
       "      <th>NO_MUNICIPIO_PROVA</th>\n",
       "      <th>...</th>\n",
       "      <th>TP_LINGUA</th>\n",
       "      <th>TP_STATUS_REDACAO</th>\n",
       "      <th>COMP1</th>\n",
       "      <th>COMP2</th>\n",
       "      <th>COMP3</th>\n",
       "      <th>COMP4</th>\n",
       "      <th>COMP5</th>\n",
       "      <th>NOTA_REDACAO</th>\n",
       "      <th>INTERNET</th>\n",
       "      <th>PREVISOES</th>\n",
       "    </tr>\n",
       "  </thead>\n",
       "  <tbody>\n",
       "    <tr>\n",
       "      <th>0</th>\n",
       "      <td>2,10E+11</td>\n",
       "      <td>17</td>\n",
       "      <td>M</td>\n",
       "      <td>1</td>\n",
       "      <td>parda</td>\n",
       "      <td>1</td>\n",
       "      <td>2</td>\n",
       "      <td>publica</td>\n",
       "      <td>Viana</td>\n",
       "      <td>Cariacica</td>\n",
       "      <td>...</td>\n",
       "      <td>ingles</td>\n",
       "      <td>1.0</td>\n",
       "      <td>120.0</td>\n",
       "      <td>120.0</td>\n",
       "      <td>120.0</td>\n",
       "      <td>160.0</td>\n",
       "      <td>140.0</td>\n",
       "      <td>660.0</td>\n",
       "      <td>nao</td>\n",
       "      <td>667.041224</td>\n",
       "    </tr>\n",
       "    <tr>\n",
       "      <th>1</th>\n",
       "      <td>2,10E+11</td>\n",
       "      <td>18</td>\n",
       "      <td>F</td>\n",
       "      <td>1</td>\n",
       "      <td>parda</td>\n",
       "      <td>1</td>\n",
       "      <td>2</td>\n",
       "      <td>publica</td>\n",
       "      <td>Viana</td>\n",
       "      <td>Viana</td>\n",
       "      <td>...</td>\n",
       "      <td>espanhol</td>\n",
       "      <td>1.0</td>\n",
       "      <td>140.0</td>\n",
       "      <td>180.0</td>\n",
       "      <td>160.0</td>\n",
       "      <td>180.0</td>\n",
       "      <td>120.0</td>\n",
       "      <td>780.0</td>\n",
       "      <td>sim</td>\n",
       "      <td>764.794388</td>\n",
       "    </tr>\n",
       "    <tr>\n",
       "      <th>2</th>\n",
       "      <td>2,10E+11</td>\n",
       "      <td>17</td>\n",
       "      <td>M</td>\n",
       "      <td>1</td>\n",
       "      <td>preta</td>\n",
       "      <td>1</td>\n",
       "      <td>2</td>\n",
       "      <td>publica</td>\n",
       "      <td>Viana</td>\n",
       "      <td>Viana</td>\n",
       "      <td>...</td>\n",
       "      <td>ingles</td>\n",
       "      <td>1.0</td>\n",
       "      <td>100.0</td>\n",
       "      <td>180.0</td>\n",
       "      <td>100.0</td>\n",
       "      <td>120.0</td>\n",
       "      <td>120.0</td>\n",
       "      <td>620.0</td>\n",
       "      <td>sim</td>\n",
       "      <td>672.958981</td>\n",
       "    </tr>\n",
       "    <tr>\n",
       "      <th>3</th>\n",
       "      <td>2,10E+11</td>\n",
       "      <td>18</td>\n",
       "      <td>F</td>\n",
       "      <td>1</td>\n",
       "      <td>parda</td>\n",
       "      <td>1</td>\n",
       "      <td>2</td>\n",
       "      <td>publica</td>\n",
       "      <td>Viana</td>\n",
       "      <td>Viana</td>\n",
       "      <td>...</td>\n",
       "      <td>espanhol</td>\n",
       "      <td>1.0</td>\n",
       "      <td>140.0</td>\n",
       "      <td>180.0</td>\n",
       "      <td>160.0</td>\n",
       "      <td>200.0</td>\n",
       "      <td>200.0</td>\n",
       "      <td>880.0</td>\n",
       "      <td>sim</td>\n",
       "      <td>894.182564</td>\n",
       "    </tr>\n",
       "    <tr>\n",
       "      <th>4</th>\n",
       "      <td>2,10E+11</td>\n",
       "      <td>18</td>\n",
       "      <td>F</td>\n",
       "      <td>1</td>\n",
       "      <td>branca</td>\n",
       "      <td>1</td>\n",
       "      <td>2</td>\n",
       "      <td>publica</td>\n",
       "      <td>Viana</td>\n",
       "      <td>Viana</td>\n",
       "      <td>...</td>\n",
       "      <td>espanhol</td>\n",
       "      <td>1.0</td>\n",
       "      <td>140.0</td>\n",
       "      <td>120.0</td>\n",
       "      <td>100.0</td>\n",
       "      <td>120.0</td>\n",
       "      <td>140.0</td>\n",
       "      <td>620.0</td>\n",
       "      <td>sim</td>\n",
       "      <td>605.817620</td>\n",
       "    </tr>\n",
       "    <tr>\n",
       "      <th>...</th>\n",
       "      <td>...</td>\n",
       "      <td>...</td>\n",
       "      <td>...</td>\n",
       "      <td>...</td>\n",
       "      <td>...</td>\n",
       "      <td>...</td>\n",
       "      <td>...</td>\n",
       "      <td>...</td>\n",
       "      <td>...</td>\n",
       "      <td>...</td>\n",
       "      <td>...</td>\n",
       "      <td>...</td>\n",
       "      <td>...</td>\n",
       "      <td>...</td>\n",
       "      <td>...</td>\n",
       "      <td>...</td>\n",
       "      <td>...</td>\n",
       "      <td>...</td>\n",
       "      <td>...</td>\n",
       "      <td>...</td>\n",
       "      <td>...</td>\n",
       "    </tr>\n",
       "    <tr>\n",
       "      <th>63</th>\n",
       "      <td>2,10E+11</td>\n",
       "      <td>17</td>\n",
       "      <td>F</td>\n",
       "      <td>1</td>\n",
       "      <td>branca</td>\n",
       "      <td>1</td>\n",
       "      <td>2</td>\n",
       "      <td>publica</td>\n",
       "      <td>Viana</td>\n",
       "      <td>Cariacica</td>\n",
       "      <td>...</td>\n",
       "      <td>ingles</td>\n",
       "      <td>1.0</td>\n",
       "      <td>140.0</td>\n",
       "      <td>100.0</td>\n",
       "      <td>120.0</td>\n",
       "      <td>120.0</td>\n",
       "      <td>120.0</td>\n",
       "      <td>600.0</td>\n",
       "      <td>sim</td>\n",
       "      <td>550.511708</td>\n",
       "    </tr>\n",
       "    <tr>\n",
       "      <th>64</th>\n",
       "      <td>2,10E+11</td>\n",
       "      <td>19</td>\n",
       "      <td>M</td>\n",
       "      <td>1</td>\n",
       "      <td>preta</td>\n",
       "      <td>1</td>\n",
       "      <td>2</td>\n",
       "      <td>publica</td>\n",
       "      <td>Viana</td>\n",
       "      <td>Viana</td>\n",
       "      <td>...</td>\n",
       "      <td>ingles</td>\n",
       "      <td>1.0</td>\n",
       "      <td>100.0</td>\n",
       "      <td>120.0</td>\n",
       "      <td>80.0</td>\n",
       "      <td>120.0</td>\n",
       "      <td>40.0</td>\n",
       "      <td>460.0</td>\n",
       "      <td>sim</td>\n",
       "      <td>482.347152</td>\n",
       "    </tr>\n",
       "    <tr>\n",
       "      <th>65</th>\n",
       "      <td>2,10E+11</td>\n",
       "      <td>18</td>\n",
       "      <td>M</td>\n",
       "      <td>1</td>\n",
       "      <td>branca</td>\n",
       "      <td>1</td>\n",
       "      <td>2</td>\n",
       "      <td>publica</td>\n",
       "      <td>Viana</td>\n",
       "      <td>Viana</td>\n",
       "      <td>...</td>\n",
       "      <td>ingles</td>\n",
       "      <td>1.0</td>\n",
       "      <td>160.0</td>\n",
       "      <td>200.0</td>\n",
       "      <td>160.0</td>\n",
       "      <td>180.0</td>\n",
       "      <td>160.0</td>\n",
       "      <td>860.0</td>\n",
       "      <td>sim</td>\n",
       "      <td>844.794394</td>\n",
       "    </tr>\n",
       "    <tr>\n",
       "      <th>66</th>\n",
       "      <td>2,10E+11</td>\n",
       "      <td>17</td>\n",
       "      <td>F</td>\n",
       "      <td>3</td>\n",
       "      <td>branca</td>\n",
       "      <td>1</td>\n",
       "      <td>2</td>\n",
       "      <td>publica</td>\n",
       "      <td>Viana</td>\n",
       "      <td>Viana</td>\n",
       "      <td>...</td>\n",
       "      <td>ingles</td>\n",
       "      <td>1.0</td>\n",
       "      <td>120.0</td>\n",
       "      <td>200.0</td>\n",
       "      <td>140.0</td>\n",
       "      <td>180.0</td>\n",
       "      <td>120.0</td>\n",
       "      <td>760.0</td>\n",
       "      <td>sim</td>\n",
       "      <td>795.406207</td>\n",
       "    </tr>\n",
       "    <tr>\n",
       "      <th>67</th>\n",
       "      <td>2,10E+11</td>\n",
       "      <td>18</td>\n",
       "      <td>F</td>\n",
       "      <td>1</td>\n",
       "      <td>parda</td>\n",
       "      <td>1</td>\n",
       "      <td>2</td>\n",
       "      <td>publica</td>\n",
       "      <td>Viana</td>\n",
       "      <td>Viana</td>\n",
       "      <td>...</td>\n",
       "      <td>ingles</td>\n",
       "      <td>1.0</td>\n",
       "      <td>120.0</td>\n",
       "      <td>120.0</td>\n",
       "      <td>80.0</td>\n",
       "      <td>100.0</td>\n",
       "      <td>40.0</td>\n",
       "      <td>460.0</td>\n",
       "      <td>sim</td>\n",
       "      <td>451.735350</td>\n",
       "    </tr>\n",
       "  </tbody>\n",
       "</table>\n",
       "<p>68 rows × 28 columns</p>\n",
       "</div>"
      ],
      "text/plain": [
       "   NU_INSCRICAO FAIXA_ETARIA SEXO  ESTADO_CIVIL    RACA  NACIONALIDADE  \\\n",
       "0      2,10E+11           17    M             1   parda              1   \n",
       "1      2,10E+11           18    F             1   parda              1   \n",
       "2      2,10E+11           17    M             1   preta              1   \n",
       "3      2,10E+11           18    F             1   parda              1   \n",
       "4      2,10E+11           18    F             1  branca              1   \n",
       "..          ...          ...  ...           ...     ...            ...   \n",
       "63     2,10E+11           17    F             1  branca              1   \n",
       "64     2,10E+11           19    M             1   preta              1   \n",
       "65     2,10E+11           18    M             1  branca              1   \n",
       "66     2,10E+11           17    F             3  branca              1   \n",
       "67     2,10E+11           18    F             1   parda              1   \n",
       "\n",
       "    TP_ST_CONCLUSAO   ESCOLA NO_MUNICIPIO_ESC NO_MUNICIPIO_PROVA  ...  \\\n",
       "0                 2  publica            Viana          Cariacica  ...   \n",
       "1                 2  publica            Viana              Viana  ...   \n",
       "2                 2  publica            Viana              Viana  ...   \n",
       "3                 2  publica            Viana              Viana  ...   \n",
       "4                 2  publica            Viana              Viana  ...   \n",
       "..              ...      ...              ...                ...  ...   \n",
       "63                2  publica            Viana          Cariacica  ...   \n",
       "64                2  publica            Viana              Viana  ...   \n",
       "65                2  publica            Viana              Viana  ...   \n",
       "66                2  publica            Viana              Viana  ...   \n",
       "67                2  publica            Viana              Viana  ...   \n",
       "\n",
       "    TP_LINGUA  TP_STATUS_REDACAO  COMP1  COMP2  COMP3  COMP4  COMP5  \\\n",
       "0      ingles                1.0  120.0  120.0  120.0  160.0  140.0   \n",
       "1    espanhol                1.0  140.0  180.0  160.0  180.0  120.0   \n",
       "2      ingles                1.0  100.0  180.0  100.0  120.0  120.0   \n",
       "3    espanhol                1.0  140.0  180.0  160.0  200.0  200.0   \n",
       "4    espanhol                1.0  140.0  120.0  100.0  120.0  140.0   \n",
       "..        ...                ...    ...    ...    ...    ...    ...   \n",
       "63     ingles                1.0  140.0  100.0  120.0  120.0  120.0   \n",
       "64     ingles                1.0  100.0  120.0   80.0  120.0   40.0   \n",
       "65     ingles                1.0  160.0  200.0  160.0  180.0  160.0   \n",
       "66     ingles                1.0  120.0  200.0  140.0  180.0  120.0   \n",
       "67     ingles                1.0  120.0  120.0   80.0  100.0   40.0   \n",
       "\n",
       "    NOTA_REDACAO INTERNET   PREVISOES  \n",
       "0          660.0      nao  667.041224  \n",
       "1          780.0      sim  764.794388  \n",
       "2          620.0      sim  672.958981  \n",
       "3          880.0      sim  894.182564  \n",
       "4          620.0      sim  605.817620  \n",
       "..           ...      ...         ...  \n",
       "63         600.0      sim  550.511708  \n",
       "64         460.0      sim  482.347152  \n",
       "65         860.0      sim  844.794394  \n",
       "66         760.0      sim  795.406207  \n",
       "67         460.0      sim  451.735350  \n",
       "\n",
       "[68 rows x 28 columns]"
      ]
     },
     "execution_count": 26,
     "metadata": {},
     "output_type": "execute_result"
    }
   ],
   "source": [
    "municipiox1 = pd.concat([municipiox, previsoesdf], axis=1)\n",
    "municipiox1"
   ]
  },
  {
   "cell_type": "code",
   "execution_count": 27,
   "id": "a4d3238c",
   "metadata": {},
   "outputs": [],
   "source": [
    "import seaborn as sns"
   ]
  },
  {
   "cell_type": "code",
   "execution_count": 28,
   "id": "0500dbd2",
   "metadata": {},
   "outputs": [
    {
     "data": {
      "image/png": "[encoded data removed]",
      "text/plain": [
       "<Figure size 500x500 with 1 Axes>"
      ]
     },
     "metadata": {},
     "output_type": "display_data"
    }
   ],
   "source": [
    "sns.lmplot(x='PREVISOES', y='NOTA_REDACAO', data= municipiox1);"
   ]
  },
  {
   "cell_type": "code",
   "execution_count": 29,
   "id": "71c064d1",
   "metadata": {},
   "outputs": [
    {
     "name": "stderr",
     "output_type": "stream",
     "text": [
      "C:\\Users\\eduardo.ramos\\AppData\\Local\\anaconda3\\Lib\\site-packages\\sklearn\\base.py:464: UserWarning: X does not have valid feature names, but SVR was fitted with feature names\n",
      "  warnings.warn(\n"
     ]
    },
    {
     "data": {
      "text/plain": [
       "array([823.5707432])"
      ]
     },
     "execution_count": 29,
     "metadata": {},
     "output_type": "execute_result"
    }
   ],
   "source": [
    "# supondo tirar = 150 no COMP2, 200 no COMP4 e 180 no COMP5\n",
    "nota_redacao = svr.predict([[150, 200, 180]])\n",
    "nota_redacao"
   ]
  },
  {
   "cell_type": "markdown",
   "id": "834fbb1d",
   "metadata": {},
   "source": [
    "### SVR com Escalonamento (importante quando a escala das variáveis é muito diferente)"
   ]
  },
  {
   "cell_type": "markdown",
   "id": "340b1478",
   "metadata": {},
   "source": [
    "Padronização de escala (trabalha com a média e o desvio padrão, ou seja, média próxima a 0 e desvio padrão próximo de 1)"
   ]
  },
  {
   "cell_type": "code",
   "execution_count": 30,
   "id": "aa59937d",
   "metadata": {},
   "outputs": [],
   "source": [
    "from sklearn.preprocessing import StandardScaler\n",
    "escalax = StandardScaler()"
   ]
  },
  {
   "cell_type": "code",
   "execution_count": 31,
   "id": "28ff2a99",
   "metadata": {},
   "outputs": [
    {
     "data": {
      "text/plain": [
       "array([[-0.26267484,  0.97235431,  0.50966882],\n",
       "       [ 1.04429265,  1.59612877,  0.16988961],\n",
       "       [ 1.04429265, -0.27519462,  0.16988961],\n",
       "       [ 1.04429265,  2.21990324,  1.52900647],\n",
       "       [-0.26267484, -0.27519462,  0.50966882],\n",
       "       [-2.87660982, -4.0178414 , -1.86878568],\n",
       "       [-0.26267484, -0.27519462, -0.16988961],\n",
       "       [-0.26267484, -0.27519462,  0.16988961],\n",
       "       [-2.00529816, -0.27519462, -0.16988961],\n",
       "       [-0.26267484, -0.27519462,  0.16988961],\n",
       "       [ 0.60863682, -0.27519462,  0.84944804],\n",
       "       [-0.26267484, -0.27519462,  1.18922725],\n",
       "       [ 0.17298099,  0.97235431,  0.84944804],\n",
       "       [ 1.47994848, -0.27519462,  0.16988961],\n",
       "       [-0.26267484, -0.27519462, -0.16988961],\n",
       "       [-0.26267484, -0.27519462,  1.18922725],\n",
       "       [ 0.60863682, -0.27519462,  0.16988961],\n",
       "       [-0.26267484, -0.27519462,  0.84944804],\n",
       "       [ 0.17298099, -0.89896908, -1.86878568],\n",
       "       [ 1.04429265,  0.97235431,  1.52900647],\n",
       "       [-0.26267484, -0.89896908, -1.86878568],\n",
       "       [ 0.17298099, -0.89896908, -0.84944804],\n",
       "       [-0.26267484,  0.97235431,  0.50966882],\n",
       "       [ 1.47994848,  0.34857985,  1.18922725],\n",
       "       [ 0.17298099, -0.27519462,  0.50966882],\n",
       "       [-0.26267484, -0.89896908, -1.86878568],\n",
       "       [ 1.47994848,  1.59612877,  0.50966882],\n",
       "       [-0.26267484, -0.27519462,  0.16988961],\n",
       "       [-0.26267484, -0.27519462, -0.16988961],\n",
       "       [ 1.47994848,  2.21990324,  1.52900647],\n",
       "       [-2.00529816, -0.27519462, -1.18922725],\n",
       "       [ 1.47994848,  1.59612877,  1.52900647],\n",
       "       [-0.26267484, -0.27519462, -1.86878568],\n",
       "       [ 0.60863682,  0.97235431,  0.84944804],\n",
       "       [ 1.47994848,  1.59612877,  1.52900647],\n",
       "       [-0.26267484, -0.27519462, -0.16988961],\n",
       "       [ 0.60863682, -0.27519462,  0.16988961],\n",
       "       [ 0.17298099, -0.27519462,  0.16988961],\n",
       "       [-0.26267484, -0.27519462,  0.16988961],\n",
       "       [-0.26267484, -0.27519462,  0.84944804],\n",
       "       [-1.1339865 , -1.52274354, -1.18922725],\n",
       "       [-0.26267484,  0.34857985,  0.16988961],\n",
       "       [ 1.04429265, -0.27519462, -0.50966882],\n",
       "       [ 0.60863682,  0.34857985,  0.16988961],\n",
       "       [-0.26267484,  0.34857985,  0.84944804],\n",
       "       [-0.26267484, -0.27519462, -0.50966882],\n",
       "       [-2.00529816, -0.27519462, -1.86878568],\n",
       "       [-0.26267484, -0.27519462, -1.18922725],\n",
       "       [-0.26267484, -0.89896908, -1.86878568],\n",
       "       [-2.00529816, -0.89896908, -1.18922725],\n",
       "       [-2.00529816, -0.27519462, -1.18922725],\n",
       "       [-0.26267484, -0.89896908,  0.84944804],\n",
       "       [-0.26267484, -0.89896908, -0.50966882],\n",
       "       [-0.26267484, -0.89896908, -0.50966882],\n",
       "       [-0.26267484, -0.27519462, -0.16988961],\n",
       "       [-0.26267484, -0.89896908,  0.84944804],\n",
       "       [ 1.47994848,  1.59612877,  1.52900647],\n",
       "       [-0.26267484, -0.27519462, -0.50966882],\n",
       "       [-0.26267484, -0.27519462,  0.16988961],\n",
       "       [ 1.47994848,  1.59612877,  1.18922725],\n",
       "       [ 1.47994848,  1.59612877,  1.18922725],\n",
       "       [-0.26267484, -0.27519462, -0.84944804],\n",
       "       [-2.00529816, -0.27519462, -1.18922725],\n",
       "       [-0.69833067, -0.27519462,  0.16988961],\n",
       "       [-0.26267484, -0.27519462, -1.18922725],\n",
       "       [ 1.47994848,  1.59612877,  0.84944804],\n",
       "       [ 1.47994848,  1.59612877,  0.16988961],\n",
       "       [-0.26267484, -0.89896908, -1.18922725]])"
      ]
     },
     "execution_count": 31,
     "metadata": {},
     "output_type": "execute_result"
    }
   ],
   "source": [
    "independente_escala = escalax.fit_transform(independente)\n",
    "independente_escala"
   ]
  },
  {
   "cell_type": "code",
   "execution_count": 32,
   "id": "5f1a654a",
   "metadata": {},
   "outputs": [
    {
     "data": {
      "text/plain": [
       "array([[ 0.36177956],\n",
       "       [ 1.06133435],\n",
       "       [ 0.12859463],\n",
       "       [ 1.64429667],\n",
       "       [ 0.12859463],\n",
       "       [-3.48577178],\n",
       "       [-0.22118276],\n",
       "       [-0.1045903 ],\n",
       "       [-0.57096016],\n",
       "       [-0.22118276],\n",
       "       [ 0.47837202],\n",
       "       [ 0.01200217],\n",
       "       [ 0.71155695],\n",
       "       [ 0.47837202],\n",
       "       [-0.22118276],\n",
       "       [ 0.36177956],\n",
       "       [ 0.01200217],\n",
       "       [ 0.24518709],\n",
       "       [-0.80414509],\n",
       "       [ 1.29451928],\n",
       "       [-1.03733002],\n",
       "       [-0.45436769],\n",
       "       [ 0.24518709],\n",
       "       [ 0.82814942],\n",
       "       [ 0.24518709],\n",
       "       [-0.92073755],\n",
       "       [ 1.29451928],\n",
       "       [ 0.01200217],\n",
       "       [-0.1045903 ],\n",
       "       [ 1.8774816 ],\n",
       "       [-1.50369988],\n",
       "       [ 1.76088914],\n",
       "       [-1.03733002],\n",
       "       [ 0.94474188],\n",
       "       [ 1.8774816 ],\n",
       "       [-0.1045903 ],\n",
       "       [-0.1045903 ],\n",
       "       [ 0.12859463],\n",
       "       [-0.22118276],\n",
       "       [ 0.24518709],\n",
       "       [-1.38710741],\n",
       "       [ 0.12859463],\n",
       "       [ 0.01200217],\n",
       "       [ 0.36177956],\n",
       "       [ 0.36177956],\n",
       "       [-0.33777523],\n",
       "       [-1.73688481],\n",
       "       [-0.45436769],\n",
       "       [-1.27051495],\n",
       "       [-1.62029234],\n",
       "       [-1.50369988],\n",
       "       [-0.1045903 ],\n",
       "       [-0.80414509],\n",
       "       [-0.80414509],\n",
       "       [ 0.01200217],\n",
       "       [ 0.01200217],\n",
       "       [ 1.8774816 ],\n",
       "       [-0.45436769],\n",
       "       [ 0.12859463],\n",
       "       [ 1.76088914],\n",
       "       [ 1.41111174],\n",
       "       [-0.33777523],\n",
       "       [-1.38710741],\n",
       "       [ 0.01200217],\n",
       "       [-0.80414509],\n",
       "       [ 1.52770421],\n",
       "       [ 0.94474188],\n",
       "       [-0.80414509]])"
      ]
     },
     "execution_count": 32,
     "metadata": {},
     "output_type": "execute_result"
    }
   ],
   "source": [
    "escalay = StandardScaler()\n",
    "dependente_escala = escalay.fit_transform(dependente)\n",
    "dependente_escala"
   ]
  },
  {
   "cell_type": "code",
   "execution_count": 37,
   "id": "cce4445e",
   "metadata": {},
   "outputs": [
    {
     "data": {
      "text/html": [
       "<style>#sk-container-id-3 {color: black;}#sk-container-id-3 pre{padding: 0;}#sk-container-id-3 div.sk-toggleable {background-color: white;}#sk-container-id-3 label.sk-toggleable__label {cursor: pointer;display: block;width: 100%;margin-bottom: 0;padding: 0.3em;box-sizing: border-box;text-align: center;}#sk-container-id-3 label.sk-toggleable__label-arrow:before {content: \"▸\";float: left;margin-right: 0.25em;color: #696969;}#sk-container-id-3 label.sk-toggleable__label-arrow:hover:before {color: black;}#sk-container-id-3 div.sk-estimator:hover label.sk-toggleable__label-arrow:before {color: black;}#sk-container-id-3 div.sk-toggleable__content {max-height: 0;max-width: 0;overflow: hidden;text-align: left;background-color: #f0f8ff;}#sk-container-id-3 div.sk-toggleable__content pre {margin: 0.2em;color: black;border-radius: 0.25em;background-color: #f0f8ff;}#sk-container-id-3 input.sk-toggleable__control:checked~div.sk-toggleable__content {max-height: 200px;max-width: 100%;overflow: auto;}#sk-container-id-3 input.sk-toggleable__control:checked~label.sk-toggleable__label-arrow:before {content: \"▾\";}#sk-container-id-3 div.sk-estimator input.sk-toggleable__control:checked~label.sk-toggleable__label {background-color: #d4ebff;}#sk-container-id-3 div.sk-label input.sk-toggleable__control:checked~label.sk-toggleable__label {background-color: #d4ebff;}#sk-container-id-3 input.sk-hidden--visually {border: 0;clip: rect(1px 1px 1px 1px);clip: rect(1px, 1px, 1px, 1px);height: 1px;margin: -1px;overflow: hidden;padding: 0;position: absolute;width: 1px;}#sk-container-id-3 div.sk-estimator {font-family: monospace;background-color: #f0f8ff;border: 1px dotted black;border-radius: 0.25em;box-sizing: border-box;margin-bottom: 0.5em;}#sk-container-id-3 div.sk-estimator:hover {background-color: #d4ebff;}#sk-container-id-3 div.sk-parallel-item::after {content: \"\";width: 100%;border-bottom: 1px solid gray;flex-grow: 1;}#sk-container-id-3 div.sk-label:hover label.sk-toggleable__label {background-color: #d4ebff;}#sk-container-id-3 div.sk-serial::before {content: \"\";position: absolute;border-left: 1px solid gray;box-sizing: border-box;top: 0;bottom: 0;left: 50%;z-index: 0;}#sk-container-id-3 div.sk-serial {display: flex;flex-direction: column;align-items: center;background-color: white;padding-right: 0.2em;padding-left: 0.2em;position: relative;}#sk-container-id-3 div.sk-item {position: relative;z-index: 1;}#sk-container-id-3 div.sk-parallel {display: flex;align-items: stretch;justify-content: center;background-color: white;position: relative;}#sk-container-id-3 div.sk-item::before, #sk-container-id-3 div.sk-parallel-item::before {content: \"\";position: absolute;border-left: 1px solid gray;box-sizing: border-box;top: 0;bottom: 0;left: 50%;z-index: -1;}#sk-container-id-3 div.sk-parallel-item {display: flex;flex-direction: column;z-index: 1;position: relative;background-color: white;}#sk-container-id-3 div.sk-parallel-item:first-child::after {align-self: flex-end;width: 50%;}#sk-container-id-3 div.sk-parallel-item:last-child::after {align-self: flex-start;width: 50%;}#sk-container-id-3 div.sk-parallel-item:only-child::after {width: 0;}#sk-container-id-3 div.sk-dashed-wrapped {border: 1px dashed gray;margin: 0 0.4em 0.5em 0.4em;box-sizing: border-box;padding-bottom: 0.4em;background-color: white;}#sk-container-id-3 div.sk-label label {font-family: monospace;font-weight: bold;display: inline-block;line-height: 1.2em;}#sk-container-id-3 div.sk-label-container {text-align: center;}#sk-container-id-3 div.sk-container {/* jupyter's `normalize.less` sets `[hidden] { display: none; }` but bootstrap.min.css set `[hidden] { display: none !important; }` so we also need the `!important` here to be able to override the default hidden behavior on the sphinx rendered scikit-learn.org. See: https://github.com/scikit-learn/scikit-learn/issues/21755 */display: inline-block !important;position: relative;}#sk-container-id-3 div.sk-text-repr-fallback {display: none;}</style><div id=\"sk-container-id-3\" class=\"sk-top-container\"><div class=\"sk-text-repr-fallback\"><pre>SVR(kernel=&#x27;linear&#x27;)</pre><b>In a Jupyter environment, please rerun this cell to show the HTML representation or trust the notebook. <br />On GitHub, the HTML representation is unable to render, please try loading this page with nbviewer.org.</b></div><div class=\"sk-container\" hidden><div class=\"sk-item\"><div class=\"sk-estimator sk-toggleable\"><input class=\"sk-toggleable__control sk-hidden--visually\" id=\"sk-estimator-id-3\" type=\"checkbox\" checked><label for=\"sk-estimator-id-3\" class=\"sk-toggleable__label sk-toggleable__label-arrow\">SVR</label><div class=\"sk-toggleable__content\"><pre>SVR(kernel=&#x27;linear&#x27;)</pre></div></div></div></div></div>"
      ],
      "text/plain": [
       "SVR(kernel='linear')"
      ]
     },
     "execution_count": 37,
     "metadata": {},
     "output_type": "execute_result"
    }
   ],
   "source": [
    "# parâmetros para o kernel = linear, sigmoid, rbf, poly\n",
    "# verificar qual parâmetro do kernel apresenta o melhor score\n",
    "from sklearn.svm import SVR\n",
    "svr2 = SVR(kernel='linear')\n",
    "svr2.fit(independente_escala, dependente_escala.ravel())\n",
    "# .ravel() é para retornar matriz 1D (vai retirar um dos colchetes do array da variável dependente)"
   ]
  },
  {
   "cell_type": "code",
   "execution_count": 38,
   "id": "b5e4990c",
   "metadata": {},
   "outputs": [
    {
     "data": {
      "text/plain": [
       "0.9754909220406844"
      ]
     },
     "execution_count": 38,
     "metadata": {},
     "output_type": "execute_result"
    }
   ],
   "source": [
    "svr2.score(independente_escala, dependente_escala)"
   ]
  },
  {
   "cell_type": "code",
   "execution_count": 39,
   "id": "caa8f51f",
   "metadata": {},
   "outputs": [
    {
     "data": {
      "text/plain": [
       "array([ 0.4444152 ,  1.04002277,  0.38560752,  1.80590166,  0.00813836,\n",
       "       -3.28804653, -0.26573188, -0.12879676, -0.95160424, -0.12879676,\n",
       "        0.48800966,  0.28200859,  0.75281841,  0.55707561, -0.26573188,\n",
       "        0.28200859,  0.21413942,  0.14507348, -0.99707779,  1.36962482,\n",
       "       -1.16854588, -0.58627244,  0.4444152 ,  1.18601938,  0.17960645,\n",
       "       -1.16854588,  1.34842598, -0.12879676, -0.26573188,  1.97736975,\n",
       "       -1.36240959,  1.75923134, -0.95040746,  0.9242865 ,  1.75923134,\n",
       "       -0.26573188,  0.21413942,  0.04267133, -0.12879676,  0.14507348,\n",
       "       -1.45575025,  0.08934166,  0.11173728,  0.43227784,  0.3632119 ,\n",
       "       -0.40266699, -1.63627983, -0.67653723, -1.16854588, -1.58054801,\n",
       "       -1.36240959, -0.07306494, -0.62080541, -0.62080541, -0.26573188,\n",
       "       -0.07306494,  1.75923134, -0.40266699, -0.12879676,  1.62229622,\n",
       "        1.62229622, -0.53960211, -1.36240959, -0.30026485, -0.67653723,\n",
       "        1.4853611 ,  1.21149087, -0.89467565])"
      ]
     },
     "execution_count": 39,
     "metadata": {},
     "output_type": "execute_result"
    }
   ],
   "source": [
    "previsoes_escala = svr2.predict(independente_escala)\n",
    "previsoes_escala"
   ]
  },
  {
   "cell_type": "markdown",
   "id": "0c9f5539",
   "metadata": {},
   "source": [
    "Revertendo a transformação da escala"
   ]
  },
  {
   "cell_type": "code",
   "execution_count": 41,
   "id": "aa301edb",
   "metadata": {},
   "outputs": [],
   "source": [
    "dependente_inverse = escalay.inverse_transform(dependente_escala)\n",
    "previsoes_inverse = escalay.inverse_transform(previsoes_escala.reshape(-1, 1))"
   ]
  },
  {
   "cell_type": "code",
   "execution_count": 42,
   "id": "e350babf",
   "metadata": {},
   "outputs": [
    {
     "data": {
      "text/plain": [
       "array([[660.],\n",
       "       [780.],\n",
       "       [620.],\n",
       "       [880.],\n",
       "       [620.],\n",
       "       [  0.],\n",
       "       [560.],\n",
       "       [580.],\n",
       "       [500.],\n",
       "       [560.],\n",
       "       [680.],\n",
       "       [600.],\n",
       "       [720.],\n",
       "       [680.],\n",
       "       [560.],\n",
       "       [660.],\n",
       "       [600.],\n",
       "       [640.],\n",
       "       [460.],\n",
       "       [820.],\n",
       "       [420.],\n",
       "       [520.],\n",
       "       [640.],\n",
       "       [740.],\n",
       "       [640.],\n",
       "       [440.],\n",
       "       [820.],\n",
       "       [600.],\n",
       "       [580.],\n",
       "       [920.],\n",
       "       [340.],\n",
       "       [900.],\n",
       "       [420.],\n",
       "       [760.],\n",
       "       [920.],\n",
       "       [580.],\n",
       "       [580.],\n",
       "       [620.],\n",
       "       [560.],\n",
       "       [640.],\n",
       "       [360.],\n",
       "       [620.],\n",
       "       [600.],\n",
       "       [660.],\n",
       "       [660.],\n",
       "       [540.],\n",
       "       [300.],\n",
       "       [520.],\n",
       "       [380.],\n",
       "       [320.],\n",
       "       [340.],\n",
       "       [580.],\n",
       "       [460.],\n",
       "       [460.],\n",
       "       [600.],\n",
       "       [600.],\n",
       "       [920.],\n",
       "       [520.],\n",
       "       [620.],\n",
       "       [900.],\n",
       "       [840.],\n",
       "       [540.],\n",
       "       [360.],\n",
       "       [600.],\n",
       "       [460.],\n",
       "       [860.],\n",
       "       [760.],\n",
       "       [460.]])"
      ]
     },
     "execution_count": 42,
     "metadata": {},
     "output_type": "execute_result"
    }
   ],
   "source": [
    "dependente_inverse"
   ]
  },
  {
   "cell_type": "code",
   "execution_count": 43,
   "id": "6de4bacf",
   "metadata": {},
   "outputs": [
    {
     "data": {
      "text/plain": [
       "array([[674.17512507],\n",
       "       [776.34426229],\n",
       "       [664.08739225],\n",
       "       [907.72134413],\n",
       "       [599.3372117 ],\n",
       "       [ 33.91732892],\n",
       "       [552.35814912],\n",
       "       [575.84768041],\n",
       "       [434.70520001],\n",
       "       [575.84768041],\n",
       "       [681.65321755],\n",
       "       [646.31627428],\n",
       "       [727.07789363],\n",
       "       [693.50062952],\n",
       "       [552.35814912],\n",
       "       [646.31627428],\n",
       "       [634.67415497],\n",
       "       [622.82674299],\n",
       "       [426.90477327],\n",
       "       [832.88343077],\n",
       "       [397.491536  ],\n",
       "       [497.37336714],\n",
       "       [674.17512507],\n",
       "       [801.38818008],\n",
       "       [628.75044898],\n",
       "       [397.491536  ],\n",
       "       [829.24703086],\n",
       "       [575.84768041],\n",
       "       [552.35814912],\n",
       "       [937.13458141],\n",
       "       [364.23660614],\n",
       "       [899.71562473],\n",
       "       [434.91049268],\n",
       "       [756.49113091],\n",
       "       [899.71562473],\n",
       "       [552.35814912],\n",
       "       [634.67415497],\n",
       "       [605.26091769],\n",
       "       [575.84768041],\n",
       "       [622.82674299],\n",
       "       [348.22516734],\n",
       "       [613.2666371 ],\n",
       "       [617.10832967],\n",
       "       [672.09311165],\n",
       "       [660.24569967],\n",
       "       [528.86861783],\n",
       "       [317.25754357],\n",
       "       [481.88955526],\n",
       "       [397.491536  ],\n",
       "       [326.81764946],\n",
       "       [364.23660614],\n",
       "       [585.40778631],\n",
       "       [491.44966115],\n",
       "       [491.44966115],\n",
       "       [552.35814912],\n",
       "       [585.40778631],\n",
       "       [899.71562473],\n",
       "       [528.86861783],\n",
       "       [575.84768041],\n",
       "       [876.22609344],\n",
       "       [876.22609344],\n",
       "       [505.37908655],\n",
       "       [364.23660614],\n",
       "       [546.43444314],\n",
       "       [481.88955526],\n",
       "       [852.73656215],\n",
       "       [805.75749957],\n",
       "       [444.47059857]])"
      ]
     },
     "execution_count": 43,
     "metadata": {},
     "output_type": "execute_result"
    }
   ],
   "source": [
    "previsoes_inverse"
   ]
  },
  {
   "cell_type": "markdown",
   "id": "582541e4",
   "metadata": {},
   "source": [
    "### MÉTRICAS"
   ]
  },
  {
   "cell_type": "code",
   "execution_count": 44,
   "id": "87ce0888",
   "metadata": {},
   "outputs": [],
   "source": [
    "from sklearn.metrics import mean_absolute_error, mean_squared_error"
   ]
  },
  {
   "cell_type": "code",
   "execution_count": 45,
   "id": "811917f5",
   "metadata": {},
   "outputs": [
    {
     "data": {
      "text/plain": [
       "22.066160693515393"
      ]
     },
     "execution_count": 45,
     "metadata": {},
     "output_type": "execute_result"
    }
   ],
   "source": [
    "# Erro médio Absoluto\n",
    "mean_absolute_error(dependente_inverse, previsoes_inverse)"
   ]
  },
  {
   "cell_type": "code",
   "execution_count": 46,
   "id": "76fb08b2",
   "metadata": {},
   "outputs": [
    {
     "data": {
      "text/plain": [
       "721.1838592777655"
      ]
     },
     "execution_count": 46,
     "metadata": {},
     "output_type": "execute_result"
    }
   ],
   "source": [
    "# Erro quadrático médio\n",
    "mean_squared_error(dependente_inverse, previsoes_inverse)"
   ]
  },
  {
   "cell_type": "code",
   "execution_count": 47,
   "id": "59abd1c4",
   "metadata": {},
   "outputs": [
    {
     "data": {
      "text/plain": [
       "26.854866584620478"
      ]
     },
     "execution_count": 47,
     "metadata": {},
     "output_type": "execute_result"
    }
   ],
   "source": [
    "# Raiz do erro quadrático médio (RMSE)\n",
    "np.sqrt(mean_squared_error(dependente_inverse, previsoes_inverse))"
   ]
  },
  {
   "cell_type": "markdown",
   "id": "2efdb995",
   "metadata": {},
   "source": [
    "Neste caso, como as variáveis não estavam em escalas distintas os valores das métricas não variaram tanto."
   ]
  }
 ],
 "metadata": {
  "kernelspec": {
   "display_name": "Python 3 (ipykernel)",
   "language": "python",
   "name": "python3"
  },
  "language_info": {
   "codemirror_mode": {
    "name": "ipython",
    "version": 3
   },
   "file_extension": ".py",
   "mimetype": "text/x-python",
   "name": "python",
   "nbconvert_exporter": "python",
   "pygments_lexer": "ipython3",
   "version": "3.11.4"
  }
 },
 "nbformat": 4,
 "nbformat_minor": 5
}
