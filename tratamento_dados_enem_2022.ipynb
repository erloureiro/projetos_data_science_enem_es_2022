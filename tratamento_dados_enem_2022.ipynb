{
 "cells": [
  {
   "cell_type": "markdown",
   "id": "a3528c88",
   "metadata": {
    "id": "fQJ5CYV9Te0X"
   },
   "source": [
    "# **PROJETO ANÁLISE ESTATÍSTICA DO ENEM 2022**"
   ]
  },
  {
   "cell_type": "markdown",
   "id": "4edcb0a8",
   "metadata": {
    "id": "kXFCCsVHTtTP"
   },
   "source": [
    "Este projeto analisa os resultados do ENEM no estado do Espírito Santo do ano de 2022."
   ]
  },
  {
   "cell_type": "markdown",
   "id": "8c032de2",
   "metadata": {
    "id": "5ZQ2nYhQUc3G"
   },
   "source": [
    "Os dados foram extraídos do site do INEP:\n",
    "\n",
    "https://www.gov.br/inep/pt-br/acesso-a-informacao/dados-abertos/microdados/enem"
   ]
  },
  {
   "cell_type": "code",
   "execution_count": 1,
   "id": "b1a07cbd",
   "metadata": {
    "id": "nWvIcticlCs2"
   },
   "outputs": [],
   "source": [
    "import numpy as np\n",
    "import pandas as pd"
   ]
  },
  {
   "cell_type": "code",
   "execution_count": 2,
   "id": "16a4ba38",
   "metadata": {
    "id": "LRIrwcC8kUhT"
   },
   "outputs": [],
   "source": [
    "dados = pd.read_csv('microdados_enem_2022_es.csv', sep=';', encoding='iso-8859-1')\n",
    "# encoding: codificação de caracteres, normalmente utiliza-se o iso-8859-1, utf-8, latin-1)"
   ]
  },
  {
   "cell_type": "markdown",
   "id": "8d5b7d43",
   "metadata": {
    "id": "oKrNiwgYQmvK"
   },
   "source": [
    "## Extração e Limpeza dos dados"
   ]
  },
  {
   "cell_type": "code",
   "execution_count": 3,
   "id": "10bb9a86",
   "metadata": {},
   "outputs": [],
   "source": [
    "pd.options.display.max_columns = 39"
   ]
  },
  {
   "cell_type": "code",
   "execution_count": 4,
   "id": "208f74fb",
   "metadata": {},
   "outputs": [
    {
     "data": {
      "text/html": [
       "<div>\n",
       "<style scoped>\n",
       "    .dataframe tbody tr th:only-of-type {\n",
       "        vertical-align: middle;\n",
       "    }\n",
       "\n",
       "    .dataframe tbody tr th {\n",
       "        vertical-align: top;\n",
       "    }\n",
       "\n",
       "    .dataframe thead th {\n",
       "        text-align: right;\n",
       "    }\n",
       "</style>\n",
       "<table border=\"1\" class=\"dataframe\">\n",
       "  <thead>\n",
       "    <tr style=\"text-align: right;\">\n",
       "      <th></th>\n",
       "      <th>NU_INSCRICAO</th>\n",
       "      <th>TP_FAIXA_ETARIA</th>\n",
       "      <th>TP_SEXO</th>\n",
       "      <th>TP_ESTADO_CIVIL</th>\n",
       "      <th>TP_COR_RACA</th>\n",
       "      <th>TP_NACIONALIDADE</th>\n",
       "      <th>TP_ST_CONCLUSAO</th>\n",
       "      <th>TP_ANO_CONCLUIU</th>\n",
       "      <th>TP_ESCOLA</th>\n",
       "      <th>TP_ENSINO</th>\n",
       "      <th>IN_TREINEIRO</th>\n",
       "      <th>CO_MUNICIPIO_ESC</th>\n",
       "      <th>NO_MUNICIPIO_ESC</th>\n",
       "      <th>CO_UF_ESC</th>\n",
       "      <th>SG_UF_ESC</th>\n",
       "      <th>CO_MUNICIPIO_PROVA</th>\n",
       "      <th>NO_MUNICIPIO_PROVA</th>\n",
       "      <th>CO_UF_PROVA</th>\n",
       "      <th>SG_UF_PROVA</th>\n",
       "      <th>TP_DEPENDENCIA_ADM_ESC</th>\n",
       "      <th>TP_LOCALIZACAO_ESC</th>\n",
       "      <th>TP_SIT_FUNC_ESC</th>\n",
       "      <th>TP_PRESENCA_CN</th>\n",
       "      <th>TP_PRESENCA_CH</th>\n",
       "      <th>TP_PRESENCA_LC</th>\n",
       "      <th>TP_PRESENCA_MT</th>\n",
       "      <th>NU_NOTA_CN</th>\n",
       "      <th>NU_NOTA_CH</th>\n",
       "      <th>NU_NOTA_LC</th>\n",
       "      <th>NU_NOTA_MT</th>\n",
       "      <th>TP_LINGUA</th>\n",
       "      <th>TP_STATUS_REDACAO</th>\n",
       "      <th>NU_NOTA_COMP1</th>\n",
       "      <th>NU_NOTA_COMP2</th>\n",
       "      <th>NU_NOTA_COMP3</th>\n",
       "      <th>NU_NOTA_COMP4</th>\n",
       "      <th>NU_NOTA_COMP5</th>\n",
       "      <th>NU_NOTA_REDACAO</th>\n",
       "      <th>Q025</th>\n",
       "    </tr>\n",
       "  </thead>\n",
       "  <tbody>\n",
       "    <tr>\n",
       "      <th>0</th>\n",
       "      <td>2,10E+11</td>\n",
       "      <td>6</td>\n",
       "      <td>M</td>\n",
       "      <td>1</td>\n",
       "      <td>3</td>\n",
       "      <td>1</td>\n",
       "      <td>1</td>\n",
       "      <td>2</td>\n",
       "      <td>1</td>\n",
       "      <td>NaN</td>\n",
       "      <td>0</td>\n",
       "      <td>NaN</td>\n",
       "      <td>NaN</td>\n",
       "      <td>NaN</td>\n",
       "      <td>NaN</td>\n",
       "      <td>3201308</td>\n",
       "      <td>Cariacica</td>\n",
       "      <td>32</td>\n",
       "      <td>ES</td>\n",
       "      <td>NaN</td>\n",
       "      <td>NaN</td>\n",
       "      <td>NaN</td>\n",
       "      <td>1</td>\n",
       "      <td>1</td>\n",
       "      <td>1</td>\n",
       "      <td>1</td>\n",
       "      <td>490.7</td>\n",
       "      <td>388.6</td>\n",
       "      <td>357.8</td>\n",
       "      <td>416.0</td>\n",
       "      <td>1</td>\n",
       "      <td>1.0</td>\n",
       "      <td>120.0</td>\n",
       "      <td>40.0</td>\n",
       "      <td>40.0</td>\n",
       "      <td>100.0</td>\n",
       "      <td>20.0</td>\n",
       "      <td>320.0</td>\n",
       "      <td>B</td>\n",
       "    </tr>\n",
       "    <tr>\n",
       "      <th>1</th>\n",
       "      <td>2,10E+11</td>\n",
       "      <td>4</td>\n",
       "      <td>F</td>\n",
       "      <td>1</td>\n",
       "      <td>3</td>\n",
       "      <td>1</td>\n",
       "      <td>1</td>\n",
       "      <td>1</td>\n",
       "      <td>1</td>\n",
       "      <td>NaN</td>\n",
       "      <td>0</td>\n",
       "      <td>NaN</td>\n",
       "      <td>NaN</td>\n",
       "      <td>NaN</td>\n",
       "      <td>NaN</td>\n",
       "      <td>3201506</td>\n",
       "      <td>Colatina</td>\n",
       "      <td>32</td>\n",
       "      <td>ES</td>\n",
       "      <td>NaN</td>\n",
       "      <td>NaN</td>\n",
       "      <td>NaN</td>\n",
       "      <td>1</td>\n",
       "      <td>1</td>\n",
       "      <td>1</td>\n",
       "      <td>1</td>\n",
       "      <td>522.3</td>\n",
       "      <td>473.5</td>\n",
       "      <td>448.5</td>\n",
       "      <td>460.8</td>\n",
       "      <td>1</td>\n",
       "      <td>1.0</td>\n",
       "      <td>100.0</td>\n",
       "      <td>140.0</td>\n",
       "      <td>100.0</td>\n",
       "      <td>140.0</td>\n",
       "      <td>120.0</td>\n",
       "      <td>600.0</td>\n",
       "      <td>B</td>\n",
       "    </tr>\n",
       "    <tr>\n",
       "      <th>2</th>\n",
       "      <td>2,10E+11</td>\n",
       "      <td>12</td>\n",
       "      <td>M</td>\n",
       "      <td>3</td>\n",
       "      <td>2</td>\n",
       "      <td>1</td>\n",
       "      <td>1</td>\n",
       "      <td>15</td>\n",
       "      <td>1</td>\n",
       "      <td>NaN</td>\n",
       "      <td>0</td>\n",
       "      <td>NaN</td>\n",
       "      <td>NaN</td>\n",
       "      <td>NaN</td>\n",
       "      <td>NaN</td>\n",
       "      <td>3205002</td>\n",
       "      <td>Serra</td>\n",
       "      <td>32</td>\n",
       "      <td>ES</td>\n",
       "      <td>NaN</td>\n",
       "      <td>NaN</td>\n",
       "      <td>NaN</td>\n",
       "      <td>0</td>\n",
       "      <td>0</td>\n",
       "      <td>0</td>\n",
       "      <td>0</td>\n",
       "      <td>NaN</td>\n",
       "      <td>NaN</td>\n",
       "      <td>NaN</td>\n",
       "      <td>NaN</td>\n",
       "      <td>0</td>\n",
       "      <td>NaN</td>\n",
       "      <td>NaN</td>\n",
       "      <td>NaN</td>\n",
       "      <td>NaN</td>\n",
       "      <td>NaN</td>\n",
       "      <td>NaN</td>\n",
       "      <td>NaN</td>\n",
       "      <td>B</td>\n",
       "    </tr>\n",
       "    <tr>\n",
       "      <th>3</th>\n",
       "      <td>2,10E+11</td>\n",
       "      <td>2</td>\n",
       "      <td>F</td>\n",
       "      <td>1</td>\n",
       "      <td>3</td>\n",
       "      <td>1</td>\n",
       "      <td>2</td>\n",
       "      <td>0</td>\n",
       "      <td>3</td>\n",
       "      <td>1.0</td>\n",
       "      <td>0</td>\n",
       "      <td>NaN</td>\n",
       "      <td>NaN</td>\n",
       "      <td>NaN</td>\n",
       "      <td>NaN</td>\n",
       "      <td>3201506</td>\n",
       "      <td>Colatina</td>\n",
       "      <td>32</td>\n",
       "      <td>ES</td>\n",
       "      <td>NaN</td>\n",
       "      <td>NaN</td>\n",
       "      <td>NaN</td>\n",
       "      <td>1</td>\n",
       "      <td>1</td>\n",
       "      <td>1</td>\n",
       "      <td>1</td>\n",
       "      <td>455.0</td>\n",
       "      <td>450.0</td>\n",
       "      <td>401.5</td>\n",
       "      <td>449.3</td>\n",
       "      <td>1</td>\n",
       "      <td>1.0</td>\n",
       "      <td>160.0</td>\n",
       "      <td>160.0</td>\n",
       "      <td>140.0</td>\n",
       "      <td>160.0</td>\n",
       "      <td>160.0</td>\n",
       "      <td>780.0</td>\n",
       "      <td>B</td>\n",
       "    </tr>\n",
       "    <tr>\n",
       "      <th>4</th>\n",
       "      <td>2,10E+11</td>\n",
       "      <td>7</td>\n",
       "      <td>M</td>\n",
       "      <td>1</td>\n",
       "      <td>0</td>\n",
       "      <td>1</td>\n",
       "      <td>1</td>\n",
       "      <td>2</td>\n",
       "      <td>1</td>\n",
       "      <td>NaN</td>\n",
       "      <td>0</td>\n",
       "      <td>NaN</td>\n",
       "      <td>NaN</td>\n",
       "      <td>NaN</td>\n",
       "      <td>NaN</td>\n",
       "      <td>3205309</td>\n",
       "      <td>Vitória</td>\n",
       "      <td>32</td>\n",
       "      <td>ES</td>\n",
       "      <td>NaN</td>\n",
       "      <td>NaN</td>\n",
       "      <td>NaN</td>\n",
       "      <td>0</td>\n",
       "      <td>0</td>\n",
       "      <td>0</td>\n",
       "      <td>0</td>\n",
       "      <td>NaN</td>\n",
       "      <td>NaN</td>\n",
       "      <td>NaN</td>\n",
       "      <td>NaN</td>\n",
       "      <td>0</td>\n",
       "      <td>NaN</td>\n",
       "      <td>NaN</td>\n",
       "      <td>NaN</td>\n",
       "      <td>NaN</td>\n",
       "      <td>NaN</td>\n",
       "      <td>NaN</td>\n",
       "      <td>NaN</td>\n",
       "      <td>B</td>\n",
       "    </tr>\n",
       "    <tr>\n",
       "      <th>...</th>\n",
       "      <td>...</td>\n",
       "      <td>...</td>\n",
       "      <td>...</td>\n",
       "      <td>...</td>\n",
       "      <td>...</td>\n",
       "      <td>...</td>\n",
       "      <td>...</td>\n",
       "      <td>...</td>\n",
       "      <td>...</td>\n",
       "      <td>...</td>\n",
       "      <td>...</td>\n",
       "      <td>...</td>\n",
       "      <td>...</td>\n",
       "      <td>...</td>\n",
       "      <td>...</td>\n",
       "      <td>...</td>\n",
       "      <td>...</td>\n",
       "      <td>...</td>\n",
       "      <td>...</td>\n",
       "      <td>...</td>\n",
       "      <td>...</td>\n",
       "      <td>...</td>\n",
       "      <td>...</td>\n",
       "      <td>...</td>\n",
       "      <td>...</td>\n",
       "      <td>...</td>\n",
       "      <td>...</td>\n",
       "      <td>...</td>\n",
       "      <td>...</td>\n",
       "      <td>...</td>\n",
       "      <td>...</td>\n",
       "      <td>...</td>\n",
       "      <td>...</td>\n",
       "      <td>...</td>\n",
       "      <td>...</td>\n",
       "      <td>...</td>\n",
       "      <td>...</td>\n",
       "      <td>...</td>\n",
       "      <td>...</td>\n",
       "    </tr>\n",
       "    <tr>\n",
       "      <th>18713</th>\n",
       "      <td>2,10E+11</td>\n",
       "      <td>2</td>\n",
       "      <td>F</td>\n",
       "      <td>1</td>\n",
       "      <td>3</td>\n",
       "      <td>1</td>\n",
       "      <td>2</td>\n",
       "      <td>0</td>\n",
       "      <td>2</td>\n",
       "      <td>1.0</td>\n",
       "      <td>0</td>\n",
       "      <td>3205002.0</td>\n",
       "      <td>Serra</td>\n",
       "      <td>32.0</td>\n",
       "      <td>ES</td>\n",
       "      <td>3205002</td>\n",
       "      <td>Serra</td>\n",
       "      <td>32</td>\n",
       "      <td>ES</td>\n",
       "      <td>2.0</td>\n",
       "      <td>1.0</td>\n",
       "      <td>1.0</td>\n",
       "      <td>1</td>\n",
       "      <td>1</td>\n",
       "      <td>1</td>\n",
       "      <td>1</td>\n",
       "      <td>435.9</td>\n",
       "      <td>570.3</td>\n",
       "      <td>478.6</td>\n",
       "      <td>630.6</td>\n",
       "      <td>1</td>\n",
       "      <td>1.0</td>\n",
       "      <td>160.0</td>\n",
       "      <td>140.0</td>\n",
       "      <td>120.0</td>\n",
       "      <td>160.0</td>\n",
       "      <td>120.0</td>\n",
       "      <td>700.0</td>\n",
       "      <td>B</td>\n",
       "    </tr>\n",
       "    <tr>\n",
       "      <th>18714</th>\n",
       "      <td>2,10E+11</td>\n",
       "      <td>13</td>\n",
       "      <td>F</td>\n",
       "      <td>2</td>\n",
       "      <td>3</td>\n",
       "      <td>1</td>\n",
       "      <td>1</td>\n",
       "      <td>16</td>\n",
       "      <td>1</td>\n",
       "      <td>NaN</td>\n",
       "      <td>0</td>\n",
       "      <td>NaN</td>\n",
       "      <td>NaN</td>\n",
       "      <td>NaN</td>\n",
       "      <td>NaN</td>\n",
       "      <td>3205200</td>\n",
       "      <td>Vila Velha</td>\n",
       "      <td>32</td>\n",
       "      <td>ES</td>\n",
       "      <td>NaN</td>\n",
       "      <td>NaN</td>\n",
       "      <td>NaN</td>\n",
       "      <td>1</td>\n",
       "      <td>1</td>\n",
       "      <td>1</td>\n",
       "      <td>1</td>\n",
       "      <td>439.0</td>\n",
       "      <td>521.9</td>\n",
       "      <td>542.6</td>\n",
       "      <td>457.0</td>\n",
       "      <td>1</td>\n",
       "      <td>1.0</td>\n",
       "      <td>120.0</td>\n",
       "      <td>160.0</td>\n",
       "      <td>120.0</td>\n",
       "      <td>120.0</td>\n",
       "      <td>160.0</td>\n",
       "      <td>680.0</td>\n",
       "      <td>B</td>\n",
       "    </tr>\n",
       "    <tr>\n",
       "      <th>18715</th>\n",
       "      <td>2,10E+11</td>\n",
       "      <td>2</td>\n",
       "      <td>F</td>\n",
       "      <td>1</td>\n",
       "      <td>3</td>\n",
       "      <td>1</td>\n",
       "      <td>3</td>\n",
       "      <td>0</td>\n",
       "      <td>1</td>\n",
       "      <td>NaN</td>\n",
       "      <td>1</td>\n",
       "      <td>NaN</td>\n",
       "      <td>NaN</td>\n",
       "      <td>NaN</td>\n",
       "      <td>NaN</td>\n",
       "      <td>3202801</td>\n",
       "      <td>Itapemirim</td>\n",
       "      <td>32</td>\n",
       "      <td>ES</td>\n",
       "      <td>NaN</td>\n",
       "      <td>NaN</td>\n",
       "      <td>NaN</td>\n",
       "      <td>1</td>\n",
       "      <td>1</td>\n",
       "      <td>1</td>\n",
       "      <td>1</td>\n",
       "      <td>452.7</td>\n",
       "      <td>541.2</td>\n",
       "      <td>591.2</td>\n",
       "      <td>557.9</td>\n",
       "      <td>1</td>\n",
       "      <td>1.0</td>\n",
       "      <td>160.0</td>\n",
       "      <td>160.0</td>\n",
       "      <td>140.0</td>\n",
       "      <td>160.0</td>\n",
       "      <td>80.0</td>\n",
       "      <td>700.0</td>\n",
       "      <td>B</td>\n",
       "    </tr>\n",
       "    <tr>\n",
       "      <th>18716</th>\n",
       "      <td>2,10E+11</td>\n",
       "      <td>4</td>\n",
       "      <td>F</td>\n",
       "      <td>1</td>\n",
       "      <td>3</td>\n",
       "      <td>1</td>\n",
       "      <td>1</td>\n",
       "      <td>2</td>\n",
       "      <td>1</td>\n",
       "      <td>NaN</td>\n",
       "      <td>0</td>\n",
       "      <td>NaN</td>\n",
       "      <td>NaN</td>\n",
       "      <td>NaN</td>\n",
       "      <td>NaN</td>\n",
       "      <td>3205200</td>\n",
       "      <td>Vila Velha</td>\n",
       "      <td>32</td>\n",
       "      <td>ES</td>\n",
       "      <td>NaN</td>\n",
       "      <td>NaN</td>\n",
       "      <td>NaN</td>\n",
       "      <td>1</td>\n",
       "      <td>1</td>\n",
       "      <td>1</td>\n",
       "      <td>1</td>\n",
       "      <td>599.2</td>\n",
       "      <td>646.5</td>\n",
       "      <td>654.3</td>\n",
       "      <td>545.6</td>\n",
       "      <td>0</td>\n",
       "      <td>1.0</td>\n",
       "      <td>120.0</td>\n",
       "      <td>160.0</td>\n",
       "      <td>120.0</td>\n",
       "      <td>160.0</td>\n",
       "      <td>140.0</td>\n",
       "      <td>700.0</td>\n",
       "      <td>B</td>\n",
       "    </tr>\n",
       "    <tr>\n",
       "      <th>18717</th>\n",
       "      <td>2,10E+11</td>\n",
       "      <td>3</td>\n",
       "      <td>M</td>\n",
       "      <td>1</td>\n",
       "      <td>3</td>\n",
       "      <td>1</td>\n",
       "      <td>2</td>\n",
       "      <td>0</td>\n",
       "      <td>2</td>\n",
       "      <td>1.0</td>\n",
       "      <td>0</td>\n",
       "      <td>3205309.0</td>\n",
       "      <td>Vitória</td>\n",
       "      <td>32.0</td>\n",
       "      <td>ES</td>\n",
       "      <td>3205309</td>\n",
       "      <td>Vitória</td>\n",
       "      <td>32</td>\n",
       "      <td>ES</td>\n",
       "      <td>2.0</td>\n",
       "      <td>1.0</td>\n",
       "      <td>1.0</td>\n",
       "      <td>1</td>\n",
       "      <td>1</td>\n",
       "      <td>1</td>\n",
       "      <td>1</td>\n",
       "      <td>402.4</td>\n",
       "      <td>450.1</td>\n",
       "      <td>344.9</td>\n",
       "      <td>473.8</td>\n",
       "      <td>1</td>\n",
       "      <td>1.0</td>\n",
       "      <td>80.0</td>\n",
       "      <td>40.0</td>\n",
       "      <td>40.0</td>\n",
       "      <td>120.0</td>\n",
       "      <td>40.0</td>\n",
       "      <td>320.0</td>\n",
       "      <td>B</td>\n",
       "    </tr>\n",
       "  </tbody>\n",
       "</table>\n",
       "<p>18718 rows × 39 columns</p>\n",
       "</div>"
      ],
      "text/plain": [
       "      NU_INSCRICAO  TP_FAIXA_ETARIA TP_SEXO  TP_ESTADO_CIVIL  TP_COR_RACA  \\\n",
       "0         2,10E+11                6       M                1            3   \n",
       "1         2,10E+11                4       F                1            3   \n",
       "2         2,10E+11               12       M                3            2   \n",
       "3         2,10E+11                2       F                1            3   \n",
       "4         2,10E+11                7       M                1            0   \n",
       "...            ...              ...     ...              ...          ...   \n",
       "18713     2,10E+11                2       F                1            3   \n",
       "18714     2,10E+11               13       F                2            3   \n",
       "18715     2,10E+11                2       F                1            3   \n",
       "18716     2,10E+11                4       F                1            3   \n",
       "18717     2,10E+11                3       M                1            3   \n",
       "\n",
       "       TP_NACIONALIDADE  TP_ST_CONCLUSAO  TP_ANO_CONCLUIU  TP_ESCOLA  \\\n",
       "0                     1                1                2          1   \n",
       "1                     1                1                1          1   \n",
       "2                     1                1               15          1   \n",
       "3                     1                2                0          3   \n",
       "4                     1                1                2          1   \n",
       "...                 ...              ...              ...        ...   \n",
       "18713                 1                2                0          2   \n",
       "18714                 1                1               16          1   \n",
       "18715                 1                3                0          1   \n",
       "18716                 1                1                2          1   \n",
       "18717                 1                2                0          2   \n",
       "\n",
       "       TP_ENSINO  IN_TREINEIRO  CO_MUNICIPIO_ESC NO_MUNICIPIO_ESC  CO_UF_ESC  \\\n",
       "0            NaN             0               NaN              NaN        NaN   \n",
       "1            NaN             0               NaN              NaN        NaN   \n",
       "2            NaN             0               NaN              NaN        NaN   \n",
       "3            1.0             0               NaN              NaN        NaN   \n",
       "4            NaN             0               NaN              NaN        NaN   \n",
       "...          ...           ...               ...              ...        ...   \n",
       "18713        1.0             0         3205002.0            Serra       32.0   \n",
       "18714        NaN             0               NaN              NaN        NaN   \n",
       "18715        NaN             1               NaN              NaN        NaN   \n",
       "18716        NaN             0               NaN              NaN        NaN   \n",
       "18717        1.0             0         3205309.0          Vitória       32.0   \n",
       "\n",
       "      SG_UF_ESC  CO_MUNICIPIO_PROVA NO_MUNICIPIO_PROVA  CO_UF_PROVA  \\\n",
       "0           NaN             3201308          Cariacica           32   \n",
       "1           NaN             3201506           Colatina           32   \n",
       "2           NaN             3205002              Serra           32   \n",
       "3           NaN             3201506           Colatina           32   \n",
       "4           NaN             3205309            Vitória           32   \n",
       "...         ...                 ...                ...          ...   \n",
       "18713        ES             3205002              Serra           32   \n",
       "18714       NaN             3205200         Vila Velha           32   \n",
       "18715       NaN             3202801         Itapemirim           32   \n",
       "18716       NaN             3205200         Vila Velha           32   \n",
       "18717        ES             3205309            Vitória           32   \n",
       "\n",
       "      SG_UF_PROVA  TP_DEPENDENCIA_ADM_ESC  TP_LOCALIZACAO_ESC  \\\n",
       "0              ES                     NaN                 NaN   \n",
       "1              ES                     NaN                 NaN   \n",
       "2              ES                     NaN                 NaN   \n",
       "3              ES                     NaN                 NaN   \n",
       "4              ES                     NaN                 NaN   \n",
       "...           ...                     ...                 ...   \n",
       "18713          ES                     2.0                 1.0   \n",
       "18714          ES                     NaN                 NaN   \n",
       "18715          ES                     NaN                 NaN   \n",
       "18716          ES                     NaN                 NaN   \n",
       "18717          ES                     2.0                 1.0   \n",
       "\n",
       "       TP_SIT_FUNC_ESC  TP_PRESENCA_CN  TP_PRESENCA_CH  TP_PRESENCA_LC  \\\n",
       "0                  NaN               1               1               1   \n",
       "1                  NaN               1               1               1   \n",
       "2                  NaN               0               0               0   \n",
       "3                  NaN               1               1               1   \n",
       "4                  NaN               0               0               0   \n",
       "...                ...             ...             ...             ...   \n",
       "18713              1.0               1               1               1   \n",
       "18714              NaN               1               1               1   \n",
       "18715              NaN               1               1               1   \n",
       "18716              NaN               1               1               1   \n",
       "18717              1.0               1               1               1   \n",
       "\n",
       "       TP_PRESENCA_MT  NU_NOTA_CN  NU_NOTA_CH  NU_NOTA_LC  NU_NOTA_MT  \\\n",
       "0                   1       490.7       388.6       357.8       416.0   \n",
       "1                   1       522.3       473.5       448.5       460.8   \n",
       "2                   0         NaN         NaN         NaN         NaN   \n",
       "3                   1       455.0       450.0       401.5       449.3   \n",
       "4                   0         NaN         NaN         NaN         NaN   \n",
       "...               ...         ...         ...         ...         ...   \n",
       "18713               1       435.9       570.3       478.6       630.6   \n",
       "18714               1       439.0       521.9       542.6       457.0   \n",
       "18715               1       452.7       541.2       591.2       557.9   \n",
       "18716               1       599.2       646.5       654.3       545.6   \n",
       "18717               1       402.4       450.1       344.9       473.8   \n",
       "\n",
       "       TP_LINGUA  TP_STATUS_REDACAO  NU_NOTA_COMP1  NU_NOTA_COMP2  \\\n",
       "0              1                1.0          120.0           40.0   \n",
       "1              1                1.0          100.0          140.0   \n",
       "2              0                NaN            NaN            NaN   \n",
       "3              1                1.0          160.0          160.0   \n",
       "4              0                NaN            NaN            NaN   \n",
       "...          ...                ...            ...            ...   \n",
       "18713          1                1.0          160.0          140.0   \n",
       "18714          1                1.0          120.0          160.0   \n",
       "18715          1                1.0          160.0          160.0   \n",
       "18716          0                1.0          120.0          160.0   \n",
       "18717          1                1.0           80.0           40.0   \n",
       "\n",
       "       NU_NOTA_COMP3  NU_NOTA_COMP4  NU_NOTA_COMP5  NU_NOTA_REDACAO Q025  \n",
       "0               40.0          100.0           20.0            320.0    B  \n",
       "1              100.0          140.0          120.0            600.0    B  \n",
       "2                NaN            NaN            NaN              NaN    B  \n",
       "3              140.0          160.0          160.0            780.0    B  \n",
       "4                NaN            NaN            NaN              NaN    B  \n",
       "...              ...            ...            ...              ...  ...  \n",
       "18713          120.0          160.0          120.0            700.0    B  \n",
       "18714          120.0          120.0          160.0            680.0    B  \n",
       "18715          140.0          160.0           80.0            700.0    B  \n",
       "18716          120.0          160.0          140.0            700.0    B  \n",
       "18717           40.0          120.0           40.0            320.0    B  \n",
       "\n",
       "[18718 rows x 39 columns]"
      ]
     },
     "execution_count": 4,
     "metadata": {},
     "output_type": "execute_result"
    }
   ],
   "source": [
    "dados"
   ]
  },
  {
   "cell_type": "code",
   "execution_count": 5,
   "id": "00286666",
   "metadata": {
    "colab": {
     "base_uri": "https://localhost:8080/"
    },
    "id": "BFS6iDf4wYG3",
    "outputId": "8f2b97b8-aa05-4a12-b51b-0eea9e41e24d"
   },
   "outputs": [
    {
     "data": {
      "text/plain": [
       "(18718, 39)"
      ]
     },
     "execution_count": 5,
     "metadata": {},
     "output_type": "execute_result"
    }
   ],
   "source": [
    "#O número total de inscritos em São Paulo foi de 18.717, sendo de 1,78% de todo o Brasil que foi de 1.048.576 inscritos. \n",
    "dados.shape"
   ]
  },
  {
   "cell_type": "code",
   "execution_count": 6,
   "id": "e0f31f53",
   "metadata": {
    "colab": {
     "base_uri": "https://localhost:8080/"
    },
    "id": "wopAqivQXpqI",
    "outputId": "caa18529-9035-474c-fc53-5d41909204a8"
   },
   "outputs": [
    {
     "data": {
      "text/plain": [
       "NU_INSCRICAO               object\n",
       "TP_FAIXA_ETARIA             int64\n",
       "TP_SEXO                    object\n",
       "TP_ESTADO_CIVIL             int64\n",
       "TP_COR_RACA                 int64\n",
       "TP_NACIONALIDADE            int64\n",
       "TP_ST_CONCLUSAO             int64\n",
       "TP_ANO_CONCLUIU             int64\n",
       "TP_ESCOLA                   int64\n",
       "TP_ENSINO                 float64\n",
       "IN_TREINEIRO                int64\n",
       "CO_MUNICIPIO_ESC          float64\n",
       "NO_MUNICIPIO_ESC           object\n",
       "CO_UF_ESC                 float64\n",
       "SG_UF_ESC                  object\n",
       "CO_MUNICIPIO_PROVA          int64\n",
       "NO_MUNICIPIO_PROVA         object\n",
       "CO_UF_PROVA                 int64\n",
       "SG_UF_PROVA                object\n",
       "TP_DEPENDENCIA_ADM_ESC    float64\n",
       "TP_LOCALIZACAO_ESC        float64\n",
       "TP_SIT_FUNC_ESC           float64\n",
       "TP_PRESENCA_CN              int64\n",
       "TP_PRESENCA_CH              int64\n",
       "TP_PRESENCA_LC              int64\n",
       "TP_PRESENCA_MT              int64\n",
       "NU_NOTA_CN                float64\n",
       "NU_NOTA_CH                float64\n",
       "NU_NOTA_LC                float64\n",
       "NU_NOTA_MT                float64\n",
       "TP_LINGUA                   int64\n",
       "TP_STATUS_REDACAO         float64\n",
       "NU_NOTA_COMP1             float64\n",
       "NU_NOTA_COMP2             float64\n",
       "NU_NOTA_COMP3             float64\n",
       "NU_NOTA_COMP4             float64\n",
       "NU_NOTA_COMP5             float64\n",
       "NU_NOTA_REDACAO           float64\n",
       "Q025                       object\n",
       "dtype: object"
      ]
     },
     "execution_count": 6,
     "metadata": {},
     "output_type": "execute_result"
    }
   ],
   "source": [
    "# Análise dos tipos de atributos.\n",
    "# object: strings\n",
    "# int64: inteiros\n",
    "# float64: reais\n",
    "# complex: complexos\n",
    "dados.dtypes"
   ]
  },
  {
   "cell_type": "code",
   "execution_count": 7,
   "id": "19625c30",
   "metadata": {
    "id": "BjCxJx81cwfM"
   },
   "outputs": [],
   "source": [
    "# como boa prática é recomendável criar uma nova variável\n",
    "dados1 = dados.drop(columns=['CO_MUNICIPIO_ESC'])"
   ]
  },
  {
   "cell_type": "code",
   "execution_count": 8,
   "id": "ac0d1291",
   "metadata": {
    "id": "JvmZesUudKEQ"
   },
   "outputs": [],
   "source": [
    "dados1 = dados1.drop(columns=['CO_UF_ESC','SG_UF_ESC','CO_MUNICIPIO_PROVA', 'CO_UF_PROVA', 'SG_UF_PROVA'])"
   ]
  },
  {
   "cell_type": "code",
   "execution_count": 9,
   "id": "58d91fb4",
   "metadata": {
    "id": "dW5foN0sezYl"
   },
   "outputs": [],
   "source": [
    "dados1 = dados1.drop(columns=['TP_ANO_CONCLUIU','TP_ENSINO','TP_DEPENDENCIA_ADM_ESC','TP_LOCALIZACAO_ESC','TP_SIT_FUNC_ESC'])"
   ]
  },
  {
   "cell_type": "code",
   "execution_count": 10,
   "id": "2fa606e1",
   "metadata": {},
   "outputs": [
    {
     "data": {
      "text/plain": [
       "(18718, 28)"
      ]
     },
     "execution_count": 10,
     "metadata": {},
     "output_type": "execute_result"
    }
   ],
   "source": [
    "dados1.shape"
   ]
  },
  {
   "cell_type": "code",
   "execution_count": 11,
   "id": "e0625dfb",
   "metadata": {},
   "outputs": [
    {
     "data": {
      "text/html": [
       "<div>\n",
       "<style scoped>\n",
       "    .dataframe tbody tr th:only-of-type {\n",
       "        vertical-align: middle;\n",
       "    }\n",
       "\n",
       "    .dataframe tbody tr th {\n",
       "        vertical-align: top;\n",
       "    }\n",
       "\n",
       "    .dataframe thead th {\n",
       "        text-align: right;\n",
       "    }\n",
       "</style>\n",
       "<table border=\"1\" class=\"dataframe\">\n",
       "  <thead>\n",
       "    <tr style=\"text-align: right;\">\n",
       "      <th></th>\n",
       "      <th>NU_INSCRICAO</th>\n",
       "      <th>TP_FAIXA_ETARIA</th>\n",
       "      <th>TP_SEXO</th>\n",
       "      <th>TP_ESTADO_CIVIL</th>\n",
       "      <th>TP_COR_RACA</th>\n",
       "      <th>TP_NACIONALIDADE</th>\n",
       "      <th>TP_ST_CONCLUSAO</th>\n",
       "      <th>TP_ESCOLA</th>\n",
       "      <th>IN_TREINEIRO</th>\n",
       "      <th>NO_MUNICIPIO_ESC</th>\n",
       "      <th>NO_MUNICIPIO_PROVA</th>\n",
       "      <th>TP_PRESENCA_CN</th>\n",
       "      <th>TP_PRESENCA_CH</th>\n",
       "      <th>TP_PRESENCA_LC</th>\n",
       "      <th>TP_PRESENCA_MT</th>\n",
       "      <th>NU_NOTA_CN</th>\n",
       "      <th>NU_NOTA_CH</th>\n",
       "      <th>NU_NOTA_LC</th>\n",
       "      <th>NU_NOTA_MT</th>\n",
       "      <th>TP_LINGUA</th>\n",
       "      <th>TP_STATUS_REDACAO</th>\n",
       "      <th>NU_NOTA_COMP1</th>\n",
       "      <th>NU_NOTA_COMP2</th>\n",
       "      <th>NU_NOTA_COMP3</th>\n",
       "      <th>NU_NOTA_COMP4</th>\n",
       "      <th>NU_NOTA_COMP5</th>\n",
       "      <th>NU_NOTA_REDACAO</th>\n",
       "      <th>Q025</th>\n",
       "    </tr>\n",
       "  </thead>\n",
       "  <tbody>\n",
       "    <tr>\n",
       "      <th>0</th>\n",
       "      <td>2,10E+11</td>\n",
       "      <td>6</td>\n",
       "      <td>M</td>\n",
       "      <td>1</td>\n",
       "      <td>3</td>\n",
       "      <td>1</td>\n",
       "      <td>1</td>\n",
       "      <td>1</td>\n",
       "      <td>0</td>\n",
       "      <td>NaN</td>\n",
       "      <td>Cariacica</td>\n",
       "      <td>1</td>\n",
       "      <td>1</td>\n",
       "      <td>1</td>\n",
       "      <td>1</td>\n",
       "      <td>490.7</td>\n",
       "      <td>388.6</td>\n",
       "      <td>357.8</td>\n",
       "      <td>416.0</td>\n",
       "      <td>1</td>\n",
       "      <td>1.0</td>\n",
       "      <td>120.0</td>\n",
       "      <td>40.0</td>\n",
       "      <td>40.0</td>\n",
       "      <td>100.0</td>\n",
       "      <td>20.0</td>\n",
       "      <td>320.0</td>\n",
       "      <td>B</td>\n",
       "    </tr>\n",
       "    <tr>\n",
       "      <th>1</th>\n",
       "      <td>2,10E+11</td>\n",
       "      <td>4</td>\n",
       "      <td>F</td>\n",
       "      <td>1</td>\n",
       "      <td>3</td>\n",
       "      <td>1</td>\n",
       "      <td>1</td>\n",
       "      <td>1</td>\n",
       "      <td>0</td>\n",
       "      <td>NaN</td>\n",
       "      <td>Colatina</td>\n",
       "      <td>1</td>\n",
       "      <td>1</td>\n",
       "      <td>1</td>\n",
       "      <td>1</td>\n",
       "      <td>522.3</td>\n",
       "      <td>473.5</td>\n",
       "      <td>448.5</td>\n",
       "      <td>460.8</td>\n",
       "      <td>1</td>\n",
       "      <td>1.0</td>\n",
       "      <td>100.0</td>\n",
       "      <td>140.0</td>\n",
       "      <td>100.0</td>\n",
       "      <td>140.0</td>\n",
       "      <td>120.0</td>\n",
       "      <td>600.0</td>\n",
       "      <td>B</td>\n",
       "    </tr>\n",
       "  </tbody>\n",
       "</table>\n",
       "</div>"
      ],
      "text/plain": [
       "  NU_INSCRICAO  TP_FAIXA_ETARIA TP_SEXO  TP_ESTADO_CIVIL  TP_COR_RACA  \\\n",
       "0     2,10E+11                6       M                1            3   \n",
       "1     2,10E+11                4       F                1            3   \n",
       "\n",
       "   TP_NACIONALIDADE  TP_ST_CONCLUSAO  TP_ESCOLA  IN_TREINEIRO  \\\n",
       "0                 1                1          1             0   \n",
       "1                 1                1          1             0   \n",
       "\n",
       "  NO_MUNICIPIO_ESC NO_MUNICIPIO_PROVA  TP_PRESENCA_CN  TP_PRESENCA_CH  \\\n",
       "0              NaN          Cariacica               1               1   \n",
       "1              NaN           Colatina               1               1   \n",
       "\n",
       "   TP_PRESENCA_LC  TP_PRESENCA_MT  NU_NOTA_CN  NU_NOTA_CH  NU_NOTA_LC  \\\n",
       "0               1               1       490.7       388.6       357.8   \n",
       "1               1               1       522.3       473.5       448.5   \n",
       "\n",
       "   NU_NOTA_MT  TP_LINGUA  TP_STATUS_REDACAO  NU_NOTA_COMP1  NU_NOTA_COMP2  \\\n",
       "0       416.0          1                1.0          120.0           40.0   \n",
       "1       460.8          1                1.0          100.0          140.0   \n",
       "\n",
       "   NU_NOTA_COMP3  NU_NOTA_COMP4  NU_NOTA_COMP5  NU_NOTA_REDACAO Q025  \n",
       "0           40.0          100.0           20.0            320.0    B  \n",
       "1          100.0          140.0          120.0            600.0    B  "
      ]
     },
     "execution_count": 11,
     "metadata": {},
     "output_type": "execute_result"
    }
   ],
   "source": [
    "dados1.head(2)"
   ]
  },
  {
   "cell_type": "markdown",
   "id": "383b572d",
   "metadata": {
    "id": "kOC6EYsrmLT1"
   },
   "source": [
    "Renomeando Variáveis (colunas)"
   ]
  },
  {
   "cell_type": "code",
   "execution_count": 12,
   "id": "c9e42a35",
   "metadata": {
    "id": "eK1hqPsJawER"
   },
   "outputs": [],
   "source": [
    "dados1 = dados1.rename(columns={'NU_NOTA_REDACAO': 'NOTA_REDACAO','NU_NOTA_CN': 'NOTA_CN','NU_NOTA_CH': 'NOTA_CH',\n",
    "                                'NU_NOTA_LC': 'NOTA_LC', 'NU_NOTA_MT': 'NOTA_MT', 'NU_NOTA_COMP1': 'COMP1', \n",
    "                                'NU_NOTA_COMP2': 'COMP2', 'NU_NOTA_COMP3': 'COMP3','NU_NOTA_COMP4': 'COMP4',\n",
    "                                'NU_NOTA_COMP5':'COMP5', 'TP_SEXO': 'SEXO', 'TP_COR_RACA': 'RACA', \n",
    "                                'Q025': 'INTERNET', 'TP_ESCOLA':'ESCOLA', 'TP_FAIXA_ETARIA': 'FAIXA_ETARIA',\n",
    "                               'TP_ESTADO_CIVIL': 'ESTADO_CIVIL', 'TP_NACIONALIDADE': 'NACIONALIDADE'})"
   ]
  },
  {
   "cell_type": "markdown",
   "id": "98fdde0d",
   "metadata": {
    "id": "PFmbTqY2GzAY"
   },
   "source": [
    "Renomeando Registros (Linhas)"
   ]
  },
  {
   "cell_type": "code",
   "execution_count": 13,
   "id": "cb94031e",
   "metadata": {
    "id": "1aU3YcRIGsRo"
   },
   "outputs": [],
   "source": [
    "dados1[\"RACA\"] = dados1[\"RACA\"].replace({0:\"nao_declarado\", 1:\"branca\", 2:\"preta\", 3:\"parda\", 4:\"amarela\", 5:\"indigena\"})"
   ]
  },
  {
   "cell_type": "code",
   "execution_count": 14,
   "id": "6ba4f5ef",
   "metadata": {
    "id": "wVPIXjdxlAcz"
   },
   "outputs": [],
   "source": [
    "# OUTRA MANEIRA\n",
    "# dados1['RACA'] = dados1['RACA'].replace([0,1,2,3,4,5], ['nao_declarado','branca','preta','parda','amarela','indigena'])"
   ]
  },
  {
   "cell_type": "code",
   "execution_count": 15,
   "id": "86a8039c",
   "metadata": {
    "id": "5384wa-m-Hpb"
   },
   "outputs": [],
   "source": [
    "dados1[\"TP_LINGUA\"] = dados1[\"TP_LINGUA\"].replace({0:\"ingles\", 1:\"espanhol\"})"
   ]
  },
  {
   "cell_type": "code",
   "execution_count": 16,
   "id": "0446fc6d",
   "metadata": {
    "id": "bNvg_C8E8Y31"
   },
   "outputs": [],
   "source": [
    "dados1[\"ESCOLA\"] = dados1[\"ESCOLA\"].replace({1:\"nao_respondeu\", 2:\"publica\", 3:\"privada\"})"
   ]
  },
  {
   "cell_type": "code",
   "execution_count": 17,
   "id": "81fd963b",
   "metadata": {
    "id": "LeFfSQy19gkx"
   },
   "outputs": [],
   "source": [
    "dados1[\"INTERNET\"] = dados1[\"INTERNET\"].replace({\"A\":\"nao\", \"B\":\"sim\"})"
   ]
  },
  {
   "cell_type": "code",
   "execution_count": 18,
   "id": "a4450400",
   "metadata": {},
   "outputs": [],
   "source": [
    "dados1['FAIXA_ETARIA'] = dados1['FAIXA_ETARIA'].replace([1,2,3,4,5,6,7,8,9,10,11,12,13,14,15,16,17,18,19,20], \n",
    "                                                        ['<_17','17','18','19','20','21','22','23','24','25',\n",
    "                                                        '26_30','31_35','36_40','41_45','46_50','51_55','56_60',\n",
    "                                                        '61_65','66_70','>_70'])"
   ]
  },
  {
   "cell_type": "code",
   "execution_count": 19,
   "id": "0e5c599d",
   "metadata": {},
   "outputs": [
    {
     "data": {
      "text/html": [
       "<div>\n",
       "<style scoped>\n",
       "    .dataframe tbody tr th:only-of-type {\n",
       "        vertical-align: middle;\n",
       "    }\n",
       "\n",
       "    .dataframe tbody tr th {\n",
       "        vertical-align: top;\n",
       "    }\n",
       "\n",
       "    .dataframe thead th {\n",
       "        text-align: right;\n",
       "    }\n",
       "</style>\n",
       "<table border=\"1\" class=\"dataframe\">\n",
       "  <thead>\n",
       "    <tr style=\"text-align: right;\">\n",
       "      <th></th>\n",
       "      <th>NU_INSCRICAO</th>\n",
       "      <th>FAIXA_ETARIA</th>\n",
       "      <th>SEXO</th>\n",
       "      <th>ESTADO_CIVIL</th>\n",
       "      <th>RACA</th>\n",
       "      <th>NACIONALIDADE</th>\n",
       "      <th>TP_ST_CONCLUSAO</th>\n",
       "      <th>ESCOLA</th>\n",
       "      <th>IN_TREINEIRO</th>\n",
       "      <th>NO_MUNICIPIO_ESC</th>\n",
       "      <th>NO_MUNICIPIO_PROVA</th>\n",
       "      <th>TP_PRESENCA_CN</th>\n",
       "      <th>TP_PRESENCA_CH</th>\n",
       "      <th>TP_PRESENCA_LC</th>\n",
       "      <th>TP_PRESENCA_MT</th>\n",
       "      <th>NOTA_CN</th>\n",
       "      <th>NOTA_CH</th>\n",
       "      <th>NOTA_LC</th>\n",
       "      <th>NOTA_MT</th>\n",
       "      <th>TP_LINGUA</th>\n",
       "      <th>TP_STATUS_REDACAO</th>\n",
       "      <th>COMP1</th>\n",
       "      <th>COMP2</th>\n",
       "      <th>COMP3</th>\n",
       "      <th>COMP4</th>\n",
       "      <th>COMP5</th>\n",
       "      <th>NOTA_REDACAO</th>\n",
       "      <th>INTERNET</th>\n",
       "    </tr>\n",
       "  </thead>\n",
       "  <tbody>\n",
       "    <tr>\n",
       "      <th>0</th>\n",
       "      <td>2,10E+11</td>\n",
       "      <td>21</td>\n",
       "      <td>M</td>\n",
       "      <td>1</td>\n",
       "      <td>parda</td>\n",
       "      <td>1</td>\n",
       "      <td>1</td>\n",
       "      <td>nao_respondeu</td>\n",
       "      <td>0</td>\n",
       "      <td>NaN</td>\n",
       "      <td>Cariacica</td>\n",
       "      <td>1</td>\n",
       "      <td>1</td>\n",
       "      <td>1</td>\n",
       "      <td>1</td>\n",
       "      <td>490.7</td>\n",
       "      <td>388.6</td>\n",
       "      <td>357.8</td>\n",
       "      <td>416.0</td>\n",
       "      <td>espanhol</td>\n",
       "      <td>1.0</td>\n",
       "      <td>120.0</td>\n",
       "      <td>40.0</td>\n",
       "      <td>40.0</td>\n",
       "      <td>100.0</td>\n",
       "      <td>20.0</td>\n",
       "      <td>320.0</td>\n",
       "      <td>sim</td>\n",
       "    </tr>\n",
       "    <tr>\n",
       "      <th>1</th>\n",
       "      <td>2,10E+11</td>\n",
       "      <td>19</td>\n",
       "      <td>F</td>\n",
       "      <td>1</td>\n",
       "      <td>parda</td>\n",
       "      <td>1</td>\n",
       "      <td>1</td>\n",
       "      <td>nao_respondeu</td>\n",
       "      <td>0</td>\n",
       "      <td>NaN</td>\n",
       "      <td>Colatina</td>\n",
       "      <td>1</td>\n",
       "      <td>1</td>\n",
       "      <td>1</td>\n",
       "      <td>1</td>\n",
       "      <td>522.3</td>\n",
       "      <td>473.5</td>\n",
       "      <td>448.5</td>\n",
       "      <td>460.8</td>\n",
       "      <td>espanhol</td>\n",
       "      <td>1.0</td>\n",
       "      <td>100.0</td>\n",
       "      <td>140.0</td>\n",
       "      <td>100.0</td>\n",
       "      <td>140.0</td>\n",
       "      <td>120.0</td>\n",
       "      <td>600.0</td>\n",
       "      <td>sim</td>\n",
       "    </tr>\n",
       "  </tbody>\n",
       "</table>\n",
       "</div>"
      ],
      "text/plain": [
       "  NU_INSCRICAO FAIXA_ETARIA SEXO  ESTADO_CIVIL   RACA  NACIONALIDADE  \\\n",
       "0     2,10E+11           21    M             1  parda              1   \n",
       "1     2,10E+11           19    F             1  parda              1   \n",
       "\n",
       "   TP_ST_CONCLUSAO         ESCOLA  IN_TREINEIRO NO_MUNICIPIO_ESC  \\\n",
       "0                1  nao_respondeu             0              NaN   \n",
       "1                1  nao_respondeu             0              NaN   \n",
       "\n",
       "  NO_MUNICIPIO_PROVA  TP_PRESENCA_CN  TP_PRESENCA_CH  TP_PRESENCA_LC  \\\n",
       "0          Cariacica               1               1               1   \n",
       "1           Colatina               1               1               1   \n",
       "\n",
       "   TP_PRESENCA_MT  NOTA_CN  NOTA_CH  NOTA_LC  NOTA_MT TP_LINGUA  \\\n",
       "0               1    490.7    388.6    357.8    416.0  espanhol   \n",
       "1               1    522.3    473.5    448.5    460.8  espanhol   \n",
       "\n",
       "   TP_STATUS_REDACAO  COMP1  COMP2  COMP3  COMP4  COMP5  NOTA_REDACAO INTERNET  \n",
       "0                1.0  120.0   40.0   40.0  100.0   20.0         320.0      sim  \n",
       "1                1.0  100.0  140.0  100.0  140.0  120.0         600.0      sim  "
      ]
     },
     "execution_count": 19,
     "metadata": {},
     "output_type": "execute_result"
    }
   ],
   "source": [
    "dados1.head(2)"
   ]
  },
  {
   "cell_type": "markdown",
   "id": "35596218",
   "metadata": {
    "id": "6EoxP5zgQz-M"
   },
   "source": [
    "## Análise Exploratória e Transformação dos dados"
   ]
  },
  {
   "cell_type": "markdown",
   "id": "b252a4c2",
   "metadata": {
    "id": "Yqes4ro4BUMS"
   },
   "source": [
    "**Análise das faixa etárias**"
   ]
  },
  {
   "cell_type": "code",
   "execution_count": 20,
   "id": "70c091a8",
   "metadata": {
    "colab": {
     "base_uri": "https://localhost:8080/"
    },
    "id": "F_-iQxfFpTok",
    "outputId": "33aa58f3-9e15-42d2-dcaf-aa9644f95c3a"
   },
   "outputs": [
    {
     "data": {
      "text/plain": [
       "18       5587\n",
       "17       2985\n",
       "19       2636\n",
       "20       1490\n",
       "26_30     982\n",
       "21        918\n",
       "22        652\n",
       "<_17      628\n",
       "31_35     575\n",
       "23        552\n",
       "24        424\n",
       "36_40     392\n",
       "25        316\n",
       "41_45     259\n",
       "46_50     153\n",
       "51_55      91\n",
       "56_60      52\n",
       "61_65      17\n",
       "66_70       6\n",
       ">_70        3\n",
       "Name: FAIXA_ETARIA, dtype: int64"
      ]
     },
     "execution_count": 20,
     "metadata": {},
     "output_type": "execute_result"
    }
   ],
   "source": [
    "dados1['FAIXA_ETARIA'].value_counts()\n"
   ]
  },
  {
   "cell_type": "code",
   "execution_count": 21,
   "id": "9d9fc6ae",
   "metadata": {
    "id": "8rDPKtGEFwR-"
   },
   "outputs": [
    {
     "data": {
      "text/plain": [
       "17       2985\n",
       "18       5587\n",
       "19       2636\n",
       "20       1490\n",
       "21        918\n",
       "22        652\n",
       "23        552\n",
       "24        424\n",
       "25        316\n",
       "26_30     982\n",
       "31_35     575\n",
       "36_40     392\n",
       "41_45     259\n",
       "46_50     153\n",
       "51_55      91\n",
       "56_60      52\n",
       "61_65      17\n",
       "66_70       6\n",
       "<_17      628\n",
       ">_70        3\n",
       "Name: FAIXA_ETARIA, dtype: int64"
      ]
     },
     "execution_count": 21,
     "metadata": {},
     "output_type": "execute_result"
    }
   ],
   "source": [
    "dados1['FAIXA_ETARIA'].value_counts().sort_index()"
   ]
  },
  {
   "cell_type": "code",
   "execution_count": 22,
   "id": "051d2275",
   "metadata": {
    "id": "ZMa7N5pBb3bi"
   },
   "outputs": [],
   "source": [
    "# configura o Pandas para observar XX linhas\n",
    "#pd.set_option('display.max_rows', XX)"
   ]
  },
  {
   "cell_type": "code",
   "execution_count": 23,
   "id": "91d9e2a0",
   "metadata": {
    "id": "8u3FaIlnajQo"
   },
   "outputs": [
    {
     "data": {
      "text/html": [
       "<div>\n",
       "<style scoped>\n",
       "    .dataframe tbody tr th:only-of-type {\n",
       "        vertical-align: middle;\n",
       "    }\n",
       "\n",
       "    .dataframe tbody tr th {\n",
       "        vertical-align: top;\n",
       "    }\n",
       "\n",
       "    .dataframe thead th {\n",
       "        text-align: right;\n",
       "    }\n",
       "</style>\n",
       "<table border=\"1\" class=\"dataframe\">\n",
       "  <thead>\n",
       "    <tr style=\"text-align: right;\">\n",
       "      <th></th>\n",
       "      <th>FAIXA_ETARIA</th>\n",
       "    </tr>\n",
       "  </thead>\n",
       "  <tbody>\n",
       "    <tr>\n",
       "      <th>17</th>\n",
       "      <td>2985</td>\n",
       "    </tr>\n",
       "    <tr>\n",
       "      <th>18</th>\n",
       "      <td>5587</td>\n",
       "    </tr>\n",
       "    <tr>\n",
       "      <th>19</th>\n",
       "      <td>2636</td>\n",
       "    </tr>\n",
       "    <tr>\n",
       "      <th>20</th>\n",
       "      <td>1490</td>\n",
       "    </tr>\n",
       "    <tr>\n",
       "      <th>21</th>\n",
       "      <td>918</td>\n",
       "    </tr>\n",
       "    <tr>\n",
       "      <th>22</th>\n",
       "      <td>652</td>\n",
       "    </tr>\n",
       "    <tr>\n",
       "      <th>23</th>\n",
       "      <td>552</td>\n",
       "    </tr>\n",
       "    <tr>\n",
       "      <th>24</th>\n",
       "      <td>424</td>\n",
       "    </tr>\n",
       "    <tr>\n",
       "      <th>25</th>\n",
       "      <td>316</td>\n",
       "    </tr>\n",
       "    <tr>\n",
       "      <th>26_30</th>\n",
       "      <td>982</td>\n",
       "    </tr>\n",
       "    <tr>\n",
       "      <th>31_35</th>\n",
       "      <td>575</td>\n",
       "    </tr>\n",
       "    <tr>\n",
       "      <th>36_40</th>\n",
       "      <td>392</td>\n",
       "    </tr>\n",
       "    <tr>\n",
       "      <th>41_45</th>\n",
       "      <td>259</td>\n",
       "    </tr>\n",
       "    <tr>\n",
       "      <th>46_50</th>\n",
       "      <td>153</td>\n",
       "    </tr>\n",
       "    <tr>\n",
       "      <th>51_55</th>\n",
       "      <td>91</td>\n",
       "    </tr>\n",
       "    <tr>\n",
       "      <th>56_60</th>\n",
       "      <td>52</td>\n",
       "    </tr>\n",
       "    <tr>\n",
       "      <th>61_65</th>\n",
       "      <td>17</td>\n",
       "    </tr>\n",
       "    <tr>\n",
       "      <th>66_70</th>\n",
       "      <td>6</td>\n",
       "    </tr>\n",
       "    <tr>\n",
       "      <th>&lt;_17</th>\n",
       "      <td>628</td>\n",
       "    </tr>\n",
       "    <tr>\n",
       "      <th>&gt;_70</th>\n",
       "      <td>3</td>\n",
       "    </tr>\n",
       "  </tbody>\n",
       "</table>\n",
       "</div>"
      ],
      "text/plain": [
       "       FAIXA_ETARIA\n",
       "17             2985\n",
       "18             5587\n",
       "19             2636\n",
       "20             1490\n",
       "21              918\n",
       "22              652\n",
       "23              552\n",
       "24              424\n",
       "25              316\n",
       "26_30           982\n",
       "31_35           575\n",
       "36_40           392\n",
       "41_45           259\n",
       "46_50           153\n",
       "51_55            91\n",
       "56_60            52\n",
       "61_65            17\n",
       "66_70             6\n",
       "<_17            628\n",
       ">_70              3"
      ]
     },
     "execution_count": 23,
     "metadata": {},
     "output_type": "execute_result"
    }
   ],
   "source": [
    "# Para ver todas as linhas, primeiro transforme num Dataframe:\n",
    "faixa_etaria = pd.DataFrame(dados1['FAIXA_ETARIA'].value_counts().sort_index())\n",
    "faixa_etaria"
   ]
  },
  {
   "cell_type": "markdown",
   "id": "a015529d",
   "metadata": {
    "id": "p3l9HwM3BsSf"
   },
   "source": [
    "**Treineiros**"
   ]
  },
  {
   "cell_type": "code",
   "execution_count": 24,
   "id": "2a427a86",
   "metadata": {
    "colab": {
     "base_uri": "https://localhost:8080/"
    },
    "id": "CRD9ukIOMdXG",
    "outputId": "08c5e0c5-f00a-42f3-9dcc-44c82ee6fa0e"
   },
   "outputs": [
    {
     "data": {
      "text/plain": [
       "1    1572\n",
       "Name: IN_TREINEIRO, dtype: int64"
      ]
     },
     "execution_count": 24,
     "metadata": {},
     "output_type": "execute_result"
    }
   ],
   "source": [
    "dados1.query('IN_TREINEIRO == 1')['IN_TREINEIRO'].value_counts()"
   ]
  },
  {
   "cell_type": "code",
   "execution_count": 25,
   "id": "a47b60bd",
   "metadata": {
    "id": "qgfvskS5MdgS"
   },
   "outputs": [
    {
     "data": {
      "text/html": [
       "<div>\n",
       "<style scoped>\n",
       "    .dataframe tbody tr th:only-of-type {\n",
       "        vertical-align: middle;\n",
       "    }\n",
       "\n",
       "    .dataframe tbody tr th {\n",
       "        vertical-align: top;\n",
       "    }\n",
       "\n",
       "    .dataframe thead th {\n",
       "        text-align: right;\n",
       "    }\n",
       "</style>\n",
       "<table border=\"1\" class=\"dataframe\">\n",
       "  <thead>\n",
       "    <tr style=\"text-align: right;\">\n",
       "      <th></th>\n",
       "      <th>NU_INSCRICAO</th>\n",
       "      <th>FAIXA_ETARIA</th>\n",
       "      <th>SEXO</th>\n",
       "      <th>ESTADO_CIVIL</th>\n",
       "      <th>RACA</th>\n",
       "      <th>NACIONALIDADE</th>\n",
       "      <th>TP_ST_CONCLUSAO</th>\n",
       "      <th>ESCOLA</th>\n",
       "      <th>IN_TREINEIRO</th>\n",
       "      <th>NO_MUNICIPIO_ESC</th>\n",
       "      <th>NO_MUNICIPIO_PROVA</th>\n",
       "      <th>TP_PRESENCA_CN</th>\n",
       "      <th>TP_PRESENCA_CH</th>\n",
       "      <th>TP_PRESENCA_LC</th>\n",
       "      <th>TP_PRESENCA_MT</th>\n",
       "      <th>NOTA_CN</th>\n",
       "      <th>NOTA_CH</th>\n",
       "      <th>NOTA_LC</th>\n",
       "      <th>NOTA_MT</th>\n",
       "      <th>TP_LINGUA</th>\n",
       "      <th>TP_STATUS_REDACAO</th>\n",
       "      <th>COMP1</th>\n",
       "      <th>COMP2</th>\n",
       "      <th>COMP3</th>\n",
       "      <th>COMP4</th>\n",
       "      <th>COMP5</th>\n",
       "      <th>NOTA_REDACAO</th>\n",
       "      <th>INTERNET</th>\n",
       "    </tr>\n",
       "  </thead>\n",
       "  <tbody>\n",
       "    <tr>\n",
       "      <th>17</th>\n",
       "      <td>2,10E+11</td>\n",
       "      <td>&lt;_17</td>\n",
       "      <td>F</td>\n",
       "      <td>1</td>\n",
       "      <td>preta</td>\n",
       "      <td>1</td>\n",
       "      <td>3</td>\n",
       "      <td>nao_respondeu</td>\n",
       "      <td>1</td>\n",
       "      <td>NaN</td>\n",
       "      <td>Linhares</td>\n",
       "      <td>1</td>\n",
       "      <td>1</td>\n",
       "      <td>1</td>\n",
       "      <td>1</td>\n",
       "      <td>435.6</td>\n",
       "      <td>569.0</td>\n",
       "      <td>562.2</td>\n",
       "      <td>698.8</td>\n",
       "      <td>ingles</td>\n",
       "      <td>1.0</td>\n",
       "      <td>160.0</td>\n",
       "      <td>160.0</td>\n",
       "      <td>160.0</td>\n",
       "      <td>180.0</td>\n",
       "      <td>180.0</td>\n",
       "      <td>840.0</td>\n",
       "      <td>sim</td>\n",
       "    </tr>\n",
       "    <tr>\n",
       "      <th>26</th>\n",
       "      <td>2,10E+11</td>\n",
       "      <td>&lt;_17</td>\n",
       "      <td>M</td>\n",
       "      <td>1</td>\n",
       "      <td>parda</td>\n",
       "      <td>1</td>\n",
       "      <td>3</td>\n",
       "      <td>nao_respondeu</td>\n",
       "      <td>1</td>\n",
       "      <td>NaN</td>\n",
       "      <td>Nova Venécia</td>\n",
       "      <td>1</td>\n",
       "      <td>1</td>\n",
       "      <td>1</td>\n",
       "      <td>1</td>\n",
       "      <td>453.7</td>\n",
       "      <td>543.9</td>\n",
       "      <td>512.7</td>\n",
       "      <td>427.6</td>\n",
       "      <td>ingles</td>\n",
       "      <td>1.0</td>\n",
       "      <td>120.0</td>\n",
       "      <td>200.0</td>\n",
       "      <td>140.0</td>\n",
       "      <td>120.0</td>\n",
       "      <td>140.0</td>\n",
       "      <td>720.0</td>\n",
       "      <td>sim</td>\n",
       "    </tr>\n",
       "  </tbody>\n",
       "</table>\n",
       "</div>"
      ],
      "text/plain": [
       "   NU_INSCRICAO FAIXA_ETARIA SEXO  ESTADO_CIVIL   RACA  NACIONALIDADE  \\\n",
       "17     2,10E+11         <_17    F             1  preta              1   \n",
       "26     2,10E+11         <_17    M             1  parda              1   \n",
       "\n",
       "    TP_ST_CONCLUSAO         ESCOLA  IN_TREINEIRO NO_MUNICIPIO_ESC  \\\n",
       "17                3  nao_respondeu             1              NaN   \n",
       "26                3  nao_respondeu             1              NaN   \n",
       "\n",
       "   NO_MUNICIPIO_PROVA  TP_PRESENCA_CN  TP_PRESENCA_CH  TP_PRESENCA_LC  \\\n",
       "17           Linhares               1               1               1   \n",
       "26       Nova Venécia               1               1               1   \n",
       "\n",
       "    TP_PRESENCA_MT  NOTA_CN  NOTA_CH  NOTA_LC  NOTA_MT TP_LINGUA  \\\n",
       "17               1    435.6    569.0    562.2    698.8    ingles   \n",
       "26               1    453.7    543.9    512.7    427.6    ingles   \n",
       "\n",
       "    TP_STATUS_REDACAO  COMP1  COMP2  COMP3  COMP4  COMP5  NOTA_REDACAO  \\\n",
       "17                1.0  160.0  160.0  160.0  180.0  180.0         840.0   \n",
       "26                1.0  120.0  200.0  140.0  120.0  140.0         720.0   \n",
       "\n",
       "   INTERNET  \n",
       "17      sim  \n",
       "26      sim  "
      ]
     },
     "execution_count": 25,
     "metadata": {},
     "output_type": "execute_result"
    }
   ],
   "source": [
    "treineiros = dados1.loc[dados1.IN_TREINEIRO == 1]\n",
    "treineiros.head(2)"
   ]
  },
  {
   "cell_type": "code",
   "execution_count": 26,
   "id": "ac87cded",
   "metadata": {
    "id": "SgARM58Gcpx6"
   },
   "outputs": [],
   "source": [
    "treineiros.to_csv('treineiros_enem_2022_es.csv', encoding = 'iso-8859-1', index = False)"
   ]
  },
  {
   "cell_type": "code",
   "execution_count": 27,
   "id": "15c2f1c3",
   "metadata": {
    "id": "Gaq-SOFUMdzb"
   },
   "outputs": [
    {
     "data": {
      "text/html": [
       "<div>\n",
       "<style scoped>\n",
       "    .dataframe tbody tr th:only-of-type {\n",
       "        vertical-align: middle;\n",
       "    }\n",
       "\n",
       "    .dataframe tbody tr th {\n",
       "        vertical-align: top;\n",
       "    }\n",
       "\n",
       "    .dataframe thead th {\n",
       "        text-align: right;\n",
       "    }\n",
       "</style>\n",
       "<table border=\"1\" class=\"dataframe\">\n",
       "  <thead>\n",
       "    <tr style=\"text-align: right;\">\n",
       "      <th></th>\n",
       "      <th>NU_INSCRICAO</th>\n",
       "      <th>FAIXA_ETARIA</th>\n",
       "      <th>SEXO</th>\n",
       "      <th>ESTADO_CIVIL</th>\n",
       "      <th>RACA</th>\n",
       "      <th>NACIONALIDADE</th>\n",
       "      <th>TP_ST_CONCLUSAO</th>\n",
       "      <th>ESCOLA</th>\n",
       "      <th>IN_TREINEIRO</th>\n",
       "      <th>NO_MUNICIPIO_ESC</th>\n",
       "      <th>NO_MUNICIPIO_PROVA</th>\n",
       "      <th>TP_PRESENCA_CN</th>\n",
       "      <th>TP_PRESENCA_CH</th>\n",
       "      <th>TP_PRESENCA_LC</th>\n",
       "      <th>TP_PRESENCA_MT</th>\n",
       "      <th>NOTA_CN</th>\n",
       "      <th>NOTA_CH</th>\n",
       "      <th>NOTA_LC</th>\n",
       "      <th>NOTA_MT</th>\n",
       "      <th>TP_LINGUA</th>\n",
       "      <th>TP_STATUS_REDACAO</th>\n",
       "      <th>COMP1</th>\n",
       "      <th>COMP2</th>\n",
       "      <th>COMP3</th>\n",
       "      <th>COMP4</th>\n",
       "      <th>COMP5</th>\n",
       "      <th>NOTA_REDACAO</th>\n",
       "      <th>INTERNET</th>\n",
       "    </tr>\n",
       "  </thead>\n",
       "  <tbody>\n",
       "    <tr>\n",
       "      <th>0</th>\n",
       "      <td>2,10E+11</td>\n",
       "      <td>21</td>\n",
       "      <td>M</td>\n",
       "      <td>1</td>\n",
       "      <td>parda</td>\n",
       "      <td>1</td>\n",
       "      <td>1</td>\n",
       "      <td>nao_respondeu</td>\n",
       "      <td>0</td>\n",
       "      <td>NaN</td>\n",
       "      <td>Cariacica</td>\n",
       "      <td>1</td>\n",
       "      <td>1</td>\n",
       "      <td>1</td>\n",
       "      <td>1</td>\n",
       "      <td>490.7</td>\n",
       "      <td>388.6</td>\n",
       "      <td>357.8</td>\n",
       "      <td>416.0</td>\n",
       "      <td>espanhol</td>\n",
       "      <td>1.0</td>\n",
       "      <td>120.0</td>\n",
       "      <td>40.0</td>\n",
       "      <td>40.0</td>\n",
       "      <td>100.0</td>\n",
       "      <td>20.0</td>\n",
       "      <td>320.0</td>\n",
       "      <td>sim</td>\n",
       "    </tr>\n",
       "    <tr>\n",
       "      <th>1</th>\n",
       "      <td>2,10E+11</td>\n",
       "      <td>19</td>\n",
       "      <td>F</td>\n",
       "      <td>1</td>\n",
       "      <td>parda</td>\n",
       "      <td>1</td>\n",
       "      <td>1</td>\n",
       "      <td>nao_respondeu</td>\n",
       "      <td>0</td>\n",
       "      <td>NaN</td>\n",
       "      <td>Colatina</td>\n",
       "      <td>1</td>\n",
       "      <td>1</td>\n",
       "      <td>1</td>\n",
       "      <td>1</td>\n",
       "      <td>522.3</td>\n",
       "      <td>473.5</td>\n",
       "      <td>448.5</td>\n",
       "      <td>460.8</td>\n",
       "      <td>espanhol</td>\n",
       "      <td>1.0</td>\n",
       "      <td>100.0</td>\n",
       "      <td>140.0</td>\n",
       "      <td>100.0</td>\n",
       "      <td>140.0</td>\n",
       "      <td>120.0</td>\n",
       "      <td>600.0</td>\n",
       "      <td>sim</td>\n",
       "    </tr>\n",
       "  </tbody>\n",
       "</table>\n",
       "</div>"
      ],
      "text/plain": [
       "  NU_INSCRICAO FAIXA_ETARIA SEXO  ESTADO_CIVIL   RACA  NACIONALIDADE  \\\n",
       "0     2,10E+11           21    M             1  parda              1   \n",
       "1     2,10E+11           19    F             1  parda              1   \n",
       "\n",
       "   TP_ST_CONCLUSAO         ESCOLA  IN_TREINEIRO NO_MUNICIPIO_ESC  \\\n",
       "0                1  nao_respondeu             0              NaN   \n",
       "1                1  nao_respondeu             0              NaN   \n",
       "\n",
       "  NO_MUNICIPIO_PROVA  TP_PRESENCA_CN  TP_PRESENCA_CH  TP_PRESENCA_LC  \\\n",
       "0          Cariacica               1               1               1   \n",
       "1           Colatina               1               1               1   \n",
       "\n",
       "   TP_PRESENCA_MT  NOTA_CN  NOTA_CH  NOTA_LC  NOTA_MT TP_LINGUA  \\\n",
       "0               1    490.7    388.6    357.8    416.0  espanhol   \n",
       "1               1    522.3    473.5    448.5    460.8  espanhol   \n",
       "\n",
       "   TP_STATUS_REDACAO  COMP1  COMP2  COMP3  COMP4  COMP5  NOTA_REDACAO INTERNET  \n",
       "0                1.0  120.0   40.0   40.0  100.0   20.0         320.0      sim  \n",
       "1                1.0  100.0  140.0  100.0  140.0  120.0         600.0      sim  "
      ]
     },
     "execution_count": 27,
     "metadata": {},
     "output_type": "execute_result"
    }
   ],
   "source": [
    "# Separação entre os treineiros e os vestibulandos\n",
    "vestibulandos = dados1.loc[dados1.IN_TREINEIRO == 0]\n",
    "vestibulandos.head(2)"
   ]
  },
  {
   "cell_type": "code",
   "execution_count": 28,
   "id": "c88653d2",
   "metadata": {
    "colab": {
     "base_uri": "https://localhost:8080/"
    },
    "id": "Nuoxx9D9Pdvd",
    "outputId": "6e012c7f-040a-4c25-a1b9-230f85c28645"
   },
   "outputs": [
    {
     "data": {
      "text/plain": [
       "(17146, 28)"
      ]
     },
     "execution_count": 28,
     "metadata": {},
     "output_type": "execute_result"
    }
   ],
   "source": [
    "vestibulandos.shape"
   ]
  },
  {
   "cell_type": "markdown",
   "id": "bd55059a",
   "metadata": {
    "id": "mj4zA09oB5gS"
   },
   "source": [
    "**Análise das presenças**\n",
    "\n",
    "obs: ver dicionário de dados"
   ]
  },
  {
   "cell_type": "code",
   "execution_count": 29,
   "id": "a0f3c64b",
   "metadata": {
    "colab": {
     "base_uri": "https://localhost:8080/"
    },
    "id": "j8h9xEweKjIR",
    "outputId": "4a3b4d2b-db40-4120-c1dd-f3f959eed6cd"
   },
   "outputs": [
    {
     "data": {
      "text/plain": [
       "1    11839\n",
       "0     5292\n",
       "2       15\n",
       "Name: TP_PRESENCA_CN, dtype: int64"
      ]
     },
     "execution_count": 29,
     "metadata": {},
     "output_type": "execute_result"
    }
   ],
   "source": [
    "vestibulandos['TP_PRESENCA_CN'].value_counts()"
   ]
  },
  {
   "cell_type": "code",
   "execution_count": 30,
   "id": "f9737503",
   "metadata": {
    "colab": {
     "base_uri": "https://localhost:8080/"
    },
    "id": "BBQvCu7yLLd9",
    "outputId": "bdd14f9f-9d7b-48cf-a146-5473f9437a12"
   },
   "outputs": [
    {
     "data": {
      "text/plain": [
       "1    12495\n",
       "0     4623\n",
       "2       28\n",
       "Name: TP_PRESENCA_CH, dtype: int64"
      ]
     },
     "execution_count": 30,
     "metadata": {},
     "output_type": "execute_result"
    }
   ],
   "source": [
    "vestibulandos['TP_PRESENCA_CH'].value_counts()"
   ]
  },
  {
   "cell_type": "code",
   "execution_count": 31,
   "id": "fe369333",
   "metadata": {
    "colab": {
     "base_uri": "https://localhost:8080/"
    },
    "id": "qKQs-FseLSvZ",
    "outputId": "2911a1c9-156e-4403-a570-34d9193d0b1d"
   },
   "outputs": [
    {
     "data": {
      "text/plain": [
       "1    12495\n",
       "0     4623\n",
       "2       28\n",
       "Name: TP_PRESENCA_LC, dtype: int64"
      ]
     },
     "execution_count": 31,
     "metadata": {},
     "output_type": "execute_result"
    }
   ],
   "source": [
    "vestibulandos['TP_PRESENCA_LC'].value_counts()"
   ]
  },
  {
   "cell_type": "code",
   "execution_count": 32,
   "id": "18f7bea3",
   "metadata": {
    "colab": {
     "base_uri": "https://localhost:8080/"
    },
    "id": "PysS3z9kLVzF",
    "outputId": "65be227b-c8f4-4b91-a847-eb93e86f7a3a"
   },
   "outputs": [
    {
     "data": {
      "text/plain": [
       "1    11839\n",
       "0     5292\n",
       "2       15\n",
       "Name: TP_PRESENCA_MT, dtype: int64"
      ]
     },
     "execution_count": 32,
     "metadata": {},
     "output_type": "execute_result"
    }
   ],
   "source": [
    "vestibulandos['TP_PRESENCA_MT'].value_counts()"
   ]
  },
  {
   "cell_type": "markdown",
   "id": "ac64a363",
   "metadata": {
    "id": "RvEbqZDXEX_x"
   },
   "source": [
    "_______________________________________________________________________\n",
    "RESUMO DA PRESENÇA NAS PROVAS:\n",
    "\n",
    "Ciências da Natureza: 11.839 presentes, 5.292 faltaram e 15 eliminados.\n",
    "\n",
    "Ciências Humanas: 12.495 presentes, 4.623 faltaram e 28 eliminados.\n",
    "\n",
    "Linguagens e Códigos: 12.495 presentes, 4.623 faltaram e 28 eliminados.\n",
    "\n",
    "Matemática: 11.839 presentes, 5.292 faltaram e 15 eliminados.\n",
    "_______________________________________________________________________"
   ]
  },
  {
   "cell_type": "code",
   "execution_count": 33,
   "id": "590085c2",
   "metadata": {
    "colab": {
     "base_uri": "https://localhost:8080/"
    },
    "id": "NJWJp5PxLpBN",
    "outputId": "a5ca8d40-0c01-4d15-e27f-da559bf045c2"
   },
   "outputs": [
    {
     "data": {
      "text/plain": [
       "1.0    11999\n",
       "2.0        6\n",
       "3.0      103\n",
       "4.0      230\n",
       "6.0      104\n",
       "7.0        6\n",
       "8.0       39\n",
       "9.0        8\n",
       "Name: TP_STATUS_REDACAO, dtype: int64"
      ]
     },
     "execution_count": 33,
     "metadata": {},
     "output_type": "execute_result"
    }
   ],
   "source": [
    "vestibulandos['TP_STATUS_REDACAO'].value_counts().sort_index()"
   ]
  },
  {
   "cell_type": "markdown",
   "id": "86639678",
   "metadata": {
    "id": "hHieanAgCU9x"
   },
   "source": [
    "**Valores Ausentes**"
   ]
  },
  {
   "cell_type": "code",
   "execution_count": 34,
   "id": "8efb8da1",
   "metadata": {
    "colab": {
     "base_uri": "https://localhost:8080/"
    },
    "id": "BVNSe7sBdTY1",
    "outputId": "e246dd1a-a709-4039-d51d-a39998828c4d"
   },
   "outputs": [
    {
     "data": {
      "text/plain": [
       "0"
      ]
     },
     "execution_count": 34,
     "metadata": {},
     "output_type": "execute_result"
    }
   ],
   "source": [
    "vestibulandos['FAIXA_ETARIA'].isnull().sum()"
   ]
  },
  {
   "cell_type": "code",
   "execution_count": 35,
   "id": "63b46295",
   "metadata": {
    "id": "kZIbSeR8Pdyt"
   },
   "outputs": [],
   "source": [
    "provas = ['NOTA_REDACAO','NOTA_CN','NOTA_MT','NOTA_LC','NOTA_CH']"
   ]
  },
  {
   "cell_type": "code",
   "execution_count": 36,
   "id": "1111f43f",
   "metadata": {
    "colab": {
     "base_uri": "https://localhost:8080/"
    },
    "id": "CupDbA6qPd03",
    "outputId": "c1911d7d-191b-4572-ad6e-7a7ea9f72504"
   },
   "outputs": [
    {
     "data": {
      "text/plain": [
       "NOTA_REDACAO    4651\n",
       "NOTA_CN         5307\n",
       "NOTA_MT         5307\n",
       "NOTA_LC         4651\n",
       "NOTA_CH         4651\n",
       "dtype: int64"
      ]
     },
     "execution_count": 36,
     "metadata": {},
     "output_type": "execute_result"
    }
   ],
   "source": [
    "# Registros NAN nas notas\n",
    "vestibulandos[provas].isnull().sum()"
   ]
  },
  {
   "cell_type": "code",
   "execution_count": 37,
   "id": "aa853d1f",
   "metadata": {
    "id": "sjr7ySOJbqKq"
   },
   "outputs": [],
   "source": [
    "vestibulandos_classificados = vestibulandos.loc[vestibulandos.TP_PRESENCA_CH == 1]\n",
    "vestibulandos_classificados = vestibulandos_classificados.loc[vestibulandos_classificados.TP_PRESENCA_MT == 1]"
   ]
  },
  {
   "cell_type": "code",
   "execution_count": 38,
   "id": "a1f66e2a",
   "metadata": {
    "colab": {
     "base_uri": "https://localhost:8080/"
    },
    "id": "PToyNsgHd9Bs",
    "outputId": "334bb243-dc21-449c-eb31-49b34b146875"
   },
   "outputs": [
    {
     "data": {
      "text/plain": [
       "1    11817\n",
       "Name: TP_PRESENCA_MT, dtype: int64"
      ]
     },
     "execution_count": 38,
     "metadata": {},
     "output_type": "execute_result"
    }
   ],
   "source": [
    "vestibulandos_classificados['TP_PRESENCA_MT'].value_counts()"
   ]
  },
  {
   "cell_type": "code",
   "execution_count": 39,
   "id": "2be36723",
   "metadata": {
    "colab": {
     "base_uri": "https://localhost:8080/"
    },
    "id": "u1iJjvbu9QH2",
    "outputId": "ab9a1e26-7552-4dce-f2e8-e00f708b5092"
   },
   "outputs": [
    {
     "data": {
      "text/plain": [
       "1    11817\n",
       "Name: TP_PRESENCA_CH, dtype: int64"
      ]
     },
     "execution_count": 39,
     "metadata": {},
     "output_type": "execute_result"
    }
   ],
   "source": [
    "vestibulandos_classificados['TP_PRESENCA_CH'].value_counts()"
   ]
  },
  {
   "cell_type": "code",
   "execution_count": 40,
   "id": "d22a87cf",
   "metadata": {
    "colab": {
     "base_uri": "https://localhost:8080/"
    },
    "id": "6U5xavx3hRRa",
    "outputId": "91ce480e-1329-41de-f693-e1aaf405cd59"
   },
   "outputs": [
    {
     "data": {
      "text/plain": [
       "1    11817\n",
       "Name: TP_PRESENCA_CN, dtype: int64"
      ]
     },
     "execution_count": 40,
     "metadata": {},
     "output_type": "execute_result"
    }
   ],
   "source": [
    "vestibulandos_classificados['TP_PRESENCA_CN'].value_counts()"
   ]
  },
  {
   "cell_type": "code",
   "execution_count": 41,
   "id": "56e2277f",
   "metadata": {
    "colab": {
     "base_uri": "https://localhost:8080/"
    },
    "id": "XE0AG0ZvhXPg",
    "outputId": "598edaae-32bf-47a3-f858-abdb7c28b8f3"
   },
   "outputs": [
    {
     "data": {
      "text/plain": [
       "1    11817\n",
       "Name: TP_PRESENCA_LC, dtype: int64"
      ]
     },
     "execution_count": 41,
     "metadata": {},
     "output_type": "execute_result"
    }
   ],
   "source": [
    "vestibulandos_classificados['TP_PRESENCA_LC'].value_counts()"
   ]
  },
  {
   "cell_type": "code",
   "execution_count": 42,
   "id": "f9fdfb72",
   "metadata": {
    "colab": {
     "base_uri": "https://localhost:8080/"
    },
    "id": "77hYSsYmhGCd",
    "outputId": "5e2cf459-3f85-424d-e297-748a7922c74f"
   },
   "outputs": [
    {
     "data": {
      "text/plain": [
       "NOTA_REDACAO    0\n",
       "NOTA_CN         0\n",
       "NOTA_MT         0\n",
       "NOTA_LC         0\n",
       "NOTA_CH         0\n",
       "dtype: int64"
      ]
     },
     "execution_count": 42,
     "metadata": {},
     "output_type": "execute_result"
    }
   ],
   "source": [
    "vestibulandos_classificados[provas].isnull().sum()"
   ]
  },
  {
   "cell_type": "markdown",
   "id": "a300080a",
   "metadata": {
    "id": "b-eG3RmjDgar"
   },
   "source": [
    "** Notas zeros na Redação**"
   ]
  },
  {
   "cell_type": "code",
   "execution_count": 43,
   "id": "b5acb714",
   "metadata": {
    "id": "NN_QNiqqC3H6"
   },
   "outputs": [
    {
     "data": {
      "text/plain": [
       "{320.0: 71,\n",
       " 600.0: 691,\n",
       " 780.0: 338,\n",
       " 580.0: 570,\n",
       " 660.0: 437,\n",
       " 620.0: 542,\n",
       " 720.0: 425,\n",
       " 540.0: 440,\n",
       " 500.0: 255,\n",
       " 640.0: 591,\n",
       " 480.0: 266,\n",
       " 400.0: 101,\n",
       " 700.0: 383,\n",
       " 560.0: 515,\n",
       " 940.0: 335,\n",
       " 680.0: 538,\n",
       " 820.0: 337,\n",
       " 520.0: 388,\n",
       " 840.0: 383,\n",
       " 440.0: 145,\n",
       " 860.0: 367,\n",
       " 800.0: 372,\n",
       " 760.0: 360,\n",
       " 380.0: 74,\n",
       " 880.0: 414,\n",
       " 340.0: 97,\n",
       " 420.0: 93,\n",
       " 920.0: 457,\n",
       " 460.0: 163,\n",
       " 900.0: 444,\n",
       " 740.0: 328,\n",
       " 360.0: 174,\n",
       " 0.0: 361,\n",
       " 300.0: 53,\n",
       " 960.0: 197,\n",
       " 280.0: 25,\n",
       " 980.0: 56,\n",
       " 260.0: 16,\n",
       " 240.0: 7,\n",
       " 200.0: 3,\n",
       " 180.0: 1,\n",
       " 40.0: 1,\n",
       " 220.0: 3}"
      ]
     },
     "execution_count": 43,
     "metadata": {},
     "output_type": "execute_result"
    }
   ],
   "source": [
    "from collections import Counter\n",
    "dict(Counter(vestibulandos_classificados['NOTA_REDACAO']))"
   ]
  },
  {
   "cell_type": "code",
   "execution_count": 44,
   "id": "f88e3974",
   "metadata": {
    "id": "MP41kN969Saz"
   },
   "outputs": [
    {
     "data": {
      "text/plain": [
       "0.0    361\n",
       "Name: NOTA_REDACAO, dtype: int64"
      ]
     },
     "execution_count": 44,
     "metadata": {},
     "output_type": "execute_result"
    }
   ],
   "source": [
    "vestibulandos_classificados.query('NOTA_REDACAO == 0')['NOTA_REDACAO'].value_counts()"
   ]
  },
  {
   "cell_type": "code",
   "execution_count": 45,
   "id": "66532972",
   "metadata": {
    "id": "jmwHE5j5XjTS"
   },
   "outputs": [
    {
     "data": {
      "text/plain": [
       "0.0    362\n",
       "Name: COMP1, dtype: int64"
      ]
     },
     "execution_count": 45,
     "metadata": {},
     "output_type": "execute_result"
    }
   ],
   "source": [
    "vestibulandos_classificados.query('COMP1 == 0')['COMP1'].value_counts()"
   ]
  },
  {
   "cell_type": "code",
   "execution_count": 46,
   "id": "47ca4fb1",
   "metadata": {
    "id": "qrTvoIfKXW5n"
   },
   "outputs": [
    {
     "data": {
      "text/plain": [
       "0.0    361\n",
       "Name: COMP2, dtype: int64"
      ]
     },
     "execution_count": 46,
     "metadata": {},
     "output_type": "execute_result"
    }
   ],
   "source": [
    "vestibulandos_classificados.query('COMP2 == 0')['COMP2'].value_counts()"
   ]
  },
  {
   "cell_type": "code",
   "execution_count": 47,
   "id": "5250339a",
   "metadata": {
    "id": "VlH_HTVtXXNi"
   },
   "outputs": [
    {
     "data": {
      "text/plain": [
       "0.0    362\n",
       "Name: COMP3, dtype: int64"
      ]
     },
     "execution_count": 47,
     "metadata": {},
     "output_type": "execute_result"
    }
   ],
   "source": [
    "vestibulandos_classificados.query('COMP3 == 0')['COMP3'].value_counts()"
   ]
  },
  {
   "cell_type": "code",
   "execution_count": 48,
   "id": "d7944355",
   "metadata": {
    "id": "EPeuZVq-XXdB"
   },
   "outputs": [
    {
     "data": {
      "text/plain": [
       "0.0    362\n",
       "Name: COMP4, dtype: int64"
      ]
     },
     "execution_count": 48,
     "metadata": {},
     "output_type": "execute_result"
    }
   ],
   "source": [
    "vestibulandos_classificados.query('COMP4 == 0')['COMP4'].value_counts()"
   ]
  },
  {
   "cell_type": "code",
   "execution_count": 49,
   "id": "92a6a242",
   "metadata": {
    "id": "-iORCGQOXXuy"
   },
   "outputs": [
    {
     "data": {
      "text/plain": [
       "0.0    767\n",
       "Name: COMP5, dtype: int64"
      ]
     },
     "execution_count": 49,
     "metadata": {},
     "output_type": "execute_result"
    }
   ],
   "source": [
    "vestibulandos_classificados.query('COMP5 == 0')['COMP5'].value_counts()"
   ]
  },
  {
   "cell_type": "markdown",
   "id": "0a6fbcbb",
   "metadata": {
    "id": "SXBmTtkH_XDS"
   },
   "source": [
    "_______________________________________________________________________\n",
    "NOTAS ZEROS EM REDAÇÃO:\n",
    "\n",
    "REDAÇÃO (final): 361 notas zeros devido a não cumprimento das regras ou tirou zero em todos os cinco componentes.\n",
    "\n",
    "COMPONENTE 1(Demonstrar domínio da modalidade escrita formal da Língua Portuguesa.): 362 notas zeros somente neste item.\n",
    "\n",
    "COMPONENTE 2 (Compreender a proposta de redação e aplicar conceitos das várias áreas de conhecimento para desenvolver o tema, dentro dos limites estruturais do texto dissertativo-argumentativo em prosa): 361 notas zero somente neste item. \n",
    "\n",
    "COMPONENTE 3 (Selecionar, relacionar, organizar e interpretar informações, fatos, opiniões e argumentos em defesa de um ponto de vista): 362 notas zeros somente neste item.\n",
    "\n",
    "COMPONENTE 4 (Demonstrar conhecimento dos mecanismos linguísticos necessários para a construção da argumentação.): 362 notas zeros somente neste item.\n",
    "\n",
    "COMPONENTE 5 (Elaborar proposta de intervenção para o problema abordado, respeitando os direitos humanos): 767 notas zeros somente neste item.\n",
    "_______________________________________________________________________"
   ]
  },
  {
   "cell_type": "code",
   "execution_count": 50,
   "id": "39c4e201",
   "metadata": {
    "id": "gzalNqvXX3Um"
   },
   "outputs": [
    {
     "data": {
      "text/plain": [
       "0.0    9\n",
       "Name: NOTA_CH, dtype: int64"
      ]
     },
     "execution_count": 50,
     "metadata": {},
     "output_type": "execute_result"
    }
   ],
   "source": [
    "vestibulandos_classificados.query('NOTA_CH == 0')['NOTA_CH'].value_counts()"
   ]
  },
  {
   "cell_type": "code",
   "execution_count": 51,
   "id": "ea3a4f5d",
   "metadata": {
    "id": "b_zUC5gidKU_"
   },
   "outputs": [
    {
     "data": {
      "text/plain": [
       "0.0    1\n",
       "Name: NOTA_CN, dtype: int64"
      ]
     },
     "execution_count": 51,
     "metadata": {},
     "output_type": "execute_result"
    }
   ],
   "source": [
    "vestibulandos_classificados.query('NOTA_CN == 0')['NOTA_CN'].value_counts()"
   ]
  },
  {
   "cell_type": "code",
   "execution_count": 52,
   "id": "5714c9ff",
   "metadata": {
    "id": "Uu-SUbkIdKpU"
   },
   "outputs": [
    {
     "data": {
      "text/plain": [
       "0.0    2\n",
       "Name: NOTA_LC, dtype: int64"
      ]
     },
     "execution_count": 52,
     "metadata": {},
     "output_type": "execute_result"
    }
   ],
   "source": [
    "vestibulandos_classificados.query('NOTA_LC == 0')['NOTA_LC'].value_counts()"
   ]
  },
  {
   "cell_type": "code",
   "execution_count": 53,
   "id": "51ad142d",
   "metadata": {
    "id": "7WYG9Sy4dK7v"
   },
   "outputs": [
    {
     "data": {
      "text/plain": [
       "0.0    2\n",
       "Name: NOTA_MT, dtype: int64"
      ]
     },
     "execution_count": 53,
     "metadata": {},
     "output_type": "execute_result"
    }
   ],
   "source": [
    "vestibulandos_classificados.query('NOTA_MT == 0')['NOTA_MT'].value_counts()"
   ]
  },
  {
   "cell_type": "code",
   "execution_count": 54,
   "id": "3e568d9a",
   "metadata": {
    "id": "1QsZ4Yp7dMii"
   },
   "outputs": [
    {
     "data": {
      "text/plain": [
       "0.0    361\n",
       "Name: NOTA_REDACAO, dtype: int64"
      ]
     },
     "execution_count": 54,
     "metadata": {},
     "output_type": "execute_result"
    }
   ],
   "source": [
    "vestibulandos_classificados.query('NOTA_REDACAO == 0')['NOTA_REDACAO'].value_counts()"
   ]
  },
  {
   "cell_type": "markdown",
   "id": "0516a826",
   "metadata": {
    "id": "rK5rF8niYee_"
   },
   "source": [
    "_______________________________________________________________________\n",
    "NOTAS ZEROS DOS INSCRITOS CONCORRENTES AO VESTIBULAR:\n",
    "\n",
    "Ciências Humanas = 9\n",
    "\n",
    "Ciências da Natureza = 1\n",
    "\n",
    "Linguagens e Códigos = 2\n",
    "\n",
    "Matemática = 2\n",
    "\n",
    "Redação = 361\n",
    "_______________________________________________________________________"
   ]
  },
  {
   "cell_type": "code",
   "execution_count": 55,
   "id": "d256937c",
   "metadata": {
    "id": "1ZHasQ_f_Eri"
   },
   "outputs": [
    {
     "data": {
      "text/html": [
       "<div>\n",
       "<style scoped>\n",
       "    .dataframe tbody tr th:only-of-type {\n",
       "        vertical-align: middle;\n",
       "    }\n",
       "\n",
       "    .dataframe tbody tr th {\n",
       "        vertical-align: top;\n",
       "    }\n",
       "\n",
       "    .dataframe thead th {\n",
       "        text-align: right;\n",
       "    }\n",
       "</style>\n",
       "<table border=\"1\" class=\"dataframe\">\n",
       "  <thead>\n",
       "    <tr style=\"text-align: right;\">\n",
       "      <th></th>\n",
       "      <th>NU_INSCRICAO</th>\n",
       "      <th>FAIXA_ETARIA</th>\n",
       "      <th>SEXO</th>\n",
       "      <th>ESTADO_CIVIL</th>\n",
       "      <th>RACA</th>\n",
       "      <th>NACIONALIDADE</th>\n",
       "      <th>TP_ST_CONCLUSAO</th>\n",
       "      <th>ESCOLA</th>\n",
       "      <th>IN_TREINEIRO</th>\n",
       "      <th>NO_MUNICIPIO_ESC</th>\n",
       "      <th>NO_MUNICIPIO_PROVA</th>\n",
       "      <th>TP_PRESENCA_CN</th>\n",
       "      <th>TP_PRESENCA_CH</th>\n",
       "      <th>TP_PRESENCA_LC</th>\n",
       "      <th>TP_PRESENCA_MT</th>\n",
       "      <th>NOTA_CN</th>\n",
       "      <th>NOTA_CH</th>\n",
       "      <th>NOTA_LC</th>\n",
       "      <th>NOTA_MT</th>\n",
       "      <th>TP_LINGUA</th>\n",
       "      <th>TP_STATUS_REDACAO</th>\n",
       "      <th>COMP1</th>\n",
       "      <th>COMP2</th>\n",
       "      <th>COMP3</th>\n",
       "      <th>COMP4</th>\n",
       "      <th>COMP5</th>\n",
       "      <th>NOTA_REDACAO</th>\n",
       "      <th>INTERNET</th>\n",
       "    </tr>\n",
       "  </thead>\n",
       "  <tbody>\n",
       "    <tr>\n",
       "      <th>0</th>\n",
       "      <td>2,10E+11</td>\n",
       "      <td>21</td>\n",
       "      <td>M</td>\n",
       "      <td>1</td>\n",
       "      <td>parda</td>\n",
       "      <td>1</td>\n",
       "      <td>1</td>\n",
       "      <td>nao_respondeu</td>\n",
       "      <td>0</td>\n",
       "      <td>NaN</td>\n",
       "      <td>Cariacica</td>\n",
       "      <td>1</td>\n",
       "      <td>1</td>\n",
       "      <td>1</td>\n",
       "      <td>1</td>\n",
       "      <td>490.7</td>\n",
       "      <td>388.6</td>\n",
       "      <td>357.8</td>\n",
       "      <td>416.0</td>\n",
       "      <td>espanhol</td>\n",
       "      <td>1.0</td>\n",
       "      <td>120.0</td>\n",
       "      <td>40.0</td>\n",
       "      <td>40.0</td>\n",
       "      <td>100.0</td>\n",
       "      <td>20.0</td>\n",
       "      <td>320.0</td>\n",
       "      <td>sim</td>\n",
       "    </tr>\n",
       "    <tr>\n",
       "      <th>1</th>\n",
       "      <td>2,10E+11</td>\n",
       "      <td>19</td>\n",
       "      <td>F</td>\n",
       "      <td>1</td>\n",
       "      <td>parda</td>\n",
       "      <td>1</td>\n",
       "      <td>1</td>\n",
       "      <td>nao_respondeu</td>\n",
       "      <td>0</td>\n",
       "      <td>NaN</td>\n",
       "      <td>Colatina</td>\n",
       "      <td>1</td>\n",
       "      <td>1</td>\n",
       "      <td>1</td>\n",
       "      <td>1</td>\n",
       "      <td>522.3</td>\n",
       "      <td>473.5</td>\n",
       "      <td>448.5</td>\n",
       "      <td>460.8</td>\n",
       "      <td>espanhol</td>\n",
       "      <td>1.0</td>\n",
       "      <td>100.0</td>\n",
       "      <td>140.0</td>\n",
       "      <td>100.0</td>\n",
       "      <td>140.0</td>\n",
       "      <td>120.0</td>\n",
       "      <td>600.0</td>\n",
       "      <td>sim</td>\n",
       "    </tr>\n",
       "    <tr>\n",
       "      <th>3</th>\n",
       "      <td>2,10E+11</td>\n",
       "      <td>17</td>\n",
       "      <td>F</td>\n",
       "      <td>1</td>\n",
       "      <td>parda</td>\n",
       "      <td>1</td>\n",
       "      <td>2</td>\n",
       "      <td>privada</td>\n",
       "      <td>0</td>\n",
       "      <td>NaN</td>\n",
       "      <td>Colatina</td>\n",
       "      <td>1</td>\n",
       "      <td>1</td>\n",
       "      <td>1</td>\n",
       "      <td>1</td>\n",
       "      <td>455.0</td>\n",
       "      <td>450.0</td>\n",
       "      <td>401.5</td>\n",
       "      <td>449.3</td>\n",
       "      <td>espanhol</td>\n",
       "      <td>1.0</td>\n",
       "      <td>160.0</td>\n",
       "      <td>160.0</td>\n",
       "      <td>140.0</td>\n",
       "      <td>160.0</td>\n",
       "      <td>160.0</td>\n",
       "      <td>780.0</td>\n",
       "      <td>sim</td>\n",
       "    </tr>\n",
       "    <tr>\n",
       "      <th>9</th>\n",
       "      <td>2,10E+11</td>\n",
       "      <td>41_45</td>\n",
       "      <td>F</td>\n",
       "      <td>3</td>\n",
       "      <td>parda</td>\n",
       "      <td>1</td>\n",
       "      <td>1</td>\n",
       "      <td>nao_respondeu</td>\n",
       "      <td>0</td>\n",
       "      <td>NaN</td>\n",
       "      <td>Vila Velha</td>\n",
       "      <td>1</td>\n",
       "      <td>1</td>\n",
       "      <td>1</td>\n",
       "      <td>1</td>\n",
       "      <td>383.7</td>\n",
       "      <td>439.0</td>\n",
       "      <td>399.1</td>\n",
       "      <td>437.6</td>\n",
       "      <td>espanhol</td>\n",
       "      <td>1.0</td>\n",
       "      <td>120.0</td>\n",
       "      <td>120.0</td>\n",
       "      <td>120.0</td>\n",
       "      <td>120.0</td>\n",
       "      <td>100.0</td>\n",
       "      <td>580.0</td>\n",
       "      <td>sim</td>\n",
       "    </tr>\n",
       "    <tr>\n",
       "      <th>11</th>\n",
       "      <td>2,10E+11</td>\n",
       "      <td>17</td>\n",
       "      <td>M</td>\n",
       "      <td>1</td>\n",
       "      <td>parda</td>\n",
       "      <td>1</td>\n",
       "      <td>2</td>\n",
       "      <td>publica</td>\n",
       "      <td>0</td>\n",
       "      <td>Viana</td>\n",
       "      <td>Cariacica</td>\n",
       "      <td>1</td>\n",
       "      <td>1</td>\n",
       "      <td>1</td>\n",
       "      <td>1</td>\n",
       "      <td>407.6</td>\n",
       "      <td>542.1</td>\n",
       "      <td>525.4</td>\n",
       "      <td>464.2</td>\n",
       "      <td>ingles</td>\n",
       "      <td>1.0</td>\n",
       "      <td>120.0</td>\n",
       "      <td>120.0</td>\n",
       "      <td>120.0</td>\n",
       "      <td>160.0</td>\n",
       "      <td>140.0</td>\n",
       "      <td>660.0</td>\n",
       "      <td>nao</td>\n",
       "    </tr>\n",
       "  </tbody>\n",
       "</table>\n",
       "</div>"
      ],
      "text/plain": [
       "   NU_INSCRICAO FAIXA_ETARIA SEXO  ESTADO_CIVIL   RACA  NACIONALIDADE  \\\n",
       "0      2,10E+11           21    M             1  parda              1   \n",
       "1      2,10E+11           19    F             1  parda              1   \n",
       "3      2,10E+11           17    F             1  parda              1   \n",
       "9      2,10E+11        41_45    F             3  parda              1   \n",
       "11     2,10E+11           17    M             1  parda              1   \n",
       "\n",
       "    TP_ST_CONCLUSAO         ESCOLA  IN_TREINEIRO NO_MUNICIPIO_ESC  \\\n",
       "0                 1  nao_respondeu             0              NaN   \n",
       "1                 1  nao_respondeu             0              NaN   \n",
       "3                 2        privada             0              NaN   \n",
       "9                 1  nao_respondeu             0              NaN   \n",
       "11                2        publica             0            Viana   \n",
       "\n",
       "   NO_MUNICIPIO_PROVA  TP_PRESENCA_CN  TP_PRESENCA_CH  TP_PRESENCA_LC  \\\n",
       "0           Cariacica               1               1               1   \n",
       "1            Colatina               1               1               1   \n",
       "3            Colatina               1               1               1   \n",
       "9          Vila Velha               1               1               1   \n",
       "11          Cariacica               1               1               1   \n",
       "\n",
       "    TP_PRESENCA_MT  NOTA_CN  NOTA_CH  NOTA_LC  NOTA_MT TP_LINGUA  \\\n",
       "0                1    490.7    388.6    357.8    416.0  espanhol   \n",
       "1                1    522.3    473.5    448.5    460.8  espanhol   \n",
       "3                1    455.0    450.0    401.5    449.3  espanhol   \n",
       "9                1    383.7    439.0    399.1    437.6  espanhol   \n",
       "11               1    407.6    542.1    525.4    464.2    ingles   \n",
       "\n",
       "    TP_STATUS_REDACAO  COMP1  COMP2  COMP3  COMP4  COMP5  NOTA_REDACAO  \\\n",
       "0                 1.0  120.0   40.0   40.0  100.0   20.0         320.0   \n",
       "1                 1.0  100.0  140.0  100.0  140.0  120.0         600.0   \n",
       "3                 1.0  160.0  160.0  140.0  160.0  160.0         780.0   \n",
       "9                 1.0  120.0  120.0  120.0  120.0  100.0         580.0   \n",
       "11                1.0  120.0  120.0  120.0  160.0  140.0         660.0   \n",
       "\n",
       "   INTERNET  \n",
       "0       sim  \n",
       "1       sim  \n",
       "3       sim  \n",
       "9       sim  \n",
       "11      nao  "
      ]
     },
     "execution_count": 55,
     "metadata": {},
     "output_type": "execute_result"
    }
   ],
   "source": [
    "vestibulandos_classificados.head()"
   ]
  },
  {
   "cell_type": "code",
   "execution_count": 56,
   "id": "20e8d589",
   "metadata": {
    "id": "Ojifr3mxeowO"
   },
   "outputs": [],
   "source": [
    "vestibulandos_classificados = vestibulandos_classificados.drop(columns=['IN_TREINEIRO'], )"
   ]
  },
  {
   "cell_type": "code",
   "execution_count": 57,
   "id": "96c5d8ee",
   "metadata": {
    "id": "rWZ4rP2Te_FB"
   },
   "outputs": [
    {
     "data": {
      "text/plain": [
       "(11817, 27)"
      ]
     },
     "execution_count": 57,
     "metadata": {},
     "output_type": "execute_result"
    }
   ],
   "source": [
    "vestibulandos_classificados.shape"
   ]
  },
  {
   "cell_type": "markdown",
   "id": "4e583dd1",
   "metadata": {
    "id": "xJBO2DT_dykz"
   },
   "source": [
    "## **Salvando (Exportando) o Dataframe Tratado**"
   ]
  },
  {
   "cell_type": "code",
   "execution_count": 58,
   "id": "924dfdfc",
   "metadata": {
    "id": "lpVkk2e9XXuF"
   },
   "outputs": [],
   "source": [
    "vestibulandos_classificados.to_csv('enem_2022_es_tratado.csv', encoding = 'iso-8859-1', index = False)"
   ]
  }
 ],
 "metadata": {
  "kernelspec": {
   "display_name": "Python 3 (ipykernel)",
   "language": "python",
   "name": "python3"
  },
  "language_info": {
   "codemirror_mode": {
    "name": "ipython",
    "version": 3
   },
   "file_extension": ".py",
   "mimetype": "text/x-python",
   "name": "python",
   "nbconvert_exporter": "python",
   "pygments_lexer": "ipython3",
   "version": "3.11.4"
  }
 },
 "nbformat": 4,
 "nbformat_minor": 5
}
