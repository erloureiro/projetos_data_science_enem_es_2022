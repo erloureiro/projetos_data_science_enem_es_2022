{
 "cells": [
  {
   "cell_type": "markdown",
   "metadata": {
    "id": "biy20uNx6BPW"
   },
   "source": [
    "## **PROBABILIDADE**"
   ]
  },
  {
   "cell_type": "code",
   "execution_count": 1,
   "metadata": {
    "id": "3uR3MdCr58um"
   },
   "outputs": [],
   "source": [
    "import numpy as np\n",
    "import pandas as pd"
   ]
  },
  {
   "cell_type": "code",
   "execution_count": 2,
   "metadata": {
    "id": "x3pH19kjPSgM"
   },
   "outputs": [],
   "source": [
    "enem_es = pd.read_csv('enem_2022_es_tratado.csv', sep=',', encoding='iso-8859-1')"
   ]
  },
  {
   "cell_type": "code",
   "execution_count": 3,
   "metadata": {},
   "outputs": [
    {
     "data": {
      "text/plain": [
       "Index(['NU_INSCRICAO', 'FAIXA_ETARIA', 'SEXO', 'ESTADO_CIVIL', 'RACA',\n",
       "       'NACIONALIDADE', 'TP_ST_CONCLUSAO', 'ESCOLA', 'NO_MUNICIPIO_ESC',\n",
       "       'NO_MUNICIPIO_PROVA', 'TP_PRESENCA_CN', 'TP_PRESENCA_CH',\n",
       "       'TP_PRESENCA_LC', 'TP_PRESENCA_MT', 'NOTA_CN', 'NOTA_CH', 'NOTA_LC',\n",
       "       'NOTA_MT', 'TP_LINGUA', 'TP_STATUS_REDACAO', 'COMP1', 'COMP2', 'COMP3',\n",
       "       'COMP4', 'COMP5', 'NOTA_REDACAO', 'INTERNET'],\n",
       "      dtype='object')"
      ]
     },
     "execution_count": 3,
     "metadata": {},
     "output_type": "execute_result"
    }
   ],
   "source": [
    "enem_es.columns"
   ]
  },
  {
   "cell_type": "code",
   "execution_count": 4,
   "metadata": {
    "id": "wf-7VaScP18S"
   },
   "outputs": [],
   "source": [
    "enem_serra = enem_es.loc[enem_es.NO_MUNICIPIO_ESC == 'Serra']"
   ]
  },
  {
   "cell_type": "code",
   "execution_count": 5,
   "metadata": {
    "id": "jIRt0WFDRzLj"
   },
   "outputs": [],
   "source": [
    "enem_vitoria = enem_es.loc[enem_es.NO_MUNICIPIO_ESC == 'Vitória']"
   ]
  },
  {
   "cell_type": "code",
   "execution_count": 6,
   "metadata": {
    "colab": {
     "base_uri": "https://localhost:8080/",
     "height": 215
    },
    "id": "fOeKwJmaQM-e",
    "outputId": "cded6235-6307-4fdd-82a3-09e24e6e73bb"
   },
   "outputs": [
    {
     "data": {
      "text/html": [
       "<div>\n",
       "<style scoped>\n",
       "    .dataframe tbody tr th:only-of-type {\n",
       "        vertical-align: middle;\n",
       "    }\n",
       "\n",
       "    .dataframe tbody tr th {\n",
       "        vertical-align: top;\n",
       "    }\n",
       "\n",
       "    .dataframe thead th {\n",
       "        text-align: right;\n",
       "    }\n",
       "</style>\n",
       "<table border=\"1\" class=\"dataframe\">\n",
       "  <thead>\n",
       "    <tr style=\"text-align: right;\">\n",
       "      <th></th>\n",
       "      <th>NU_INSCRICAO</th>\n",
       "      <th>FAIXA_ETARIA</th>\n",
       "      <th>SEXO</th>\n",
       "      <th>ESTADO_CIVIL</th>\n",
       "      <th>RACA</th>\n",
       "      <th>NACIONALIDADE</th>\n",
       "      <th>TP_ST_CONCLUSAO</th>\n",
       "      <th>ESCOLA</th>\n",
       "      <th>NO_MUNICIPIO_ESC</th>\n",
       "      <th>NO_MUNICIPIO_PROVA</th>\n",
       "      <th>...</th>\n",
       "      <th>NOTA_MT</th>\n",
       "      <th>TP_LINGUA</th>\n",
       "      <th>TP_STATUS_REDACAO</th>\n",
       "      <th>COMP1</th>\n",
       "      <th>COMP2</th>\n",
       "      <th>COMP3</th>\n",
       "      <th>COMP4</th>\n",
       "      <th>COMP5</th>\n",
       "      <th>NOTA_REDACAO</th>\n",
       "      <th>INTERNET</th>\n",
       "    </tr>\n",
       "  </thead>\n",
       "  <tbody>\n",
       "    <tr>\n",
       "      <th>53</th>\n",
       "      <td>2,10E+11</td>\n",
       "      <td>18</td>\n",
       "      <td>F</td>\n",
       "      <td>1</td>\n",
       "      <td>parda</td>\n",
       "      <td>1</td>\n",
       "      <td>2</td>\n",
       "      <td>publica</td>\n",
       "      <td>Serra</td>\n",
       "      <td>Serra</td>\n",
       "      <td>...</td>\n",
       "      <td>612.1</td>\n",
       "      <td>ingles</td>\n",
       "      <td>1.0</td>\n",
       "      <td>160.0</td>\n",
       "      <td>200.0</td>\n",
       "      <td>140.0</td>\n",
       "      <td>120.0</td>\n",
       "      <td>80.0</td>\n",
       "      <td>700.0</td>\n",
       "      <td>sim</td>\n",
       "    </tr>\n",
       "    <tr>\n",
       "      <th>94</th>\n",
       "      <td>2,10E+11</td>\n",
       "      <td>26_30</td>\n",
       "      <td>F</td>\n",
       "      <td>0</td>\n",
       "      <td>parda</td>\n",
       "      <td>1</td>\n",
       "      <td>2</td>\n",
       "      <td>publica</td>\n",
       "      <td>Serra</td>\n",
       "      <td>Serra</td>\n",
       "      <td>...</td>\n",
       "      <td>522.9</td>\n",
       "      <td>espanhol</td>\n",
       "      <td>1.0</td>\n",
       "      <td>120.0</td>\n",
       "      <td>120.0</td>\n",
       "      <td>60.0</td>\n",
       "      <td>100.0</td>\n",
       "      <td>80.0</td>\n",
       "      <td>480.0</td>\n",
       "      <td>sim</td>\n",
       "    </tr>\n",
       "    <tr>\n",
       "      <th>106</th>\n",
       "      <td>2,10E+11</td>\n",
       "      <td>18</td>\n",
       "      <td>F</td>\n",
       "      <td>1</td>\n",
       "      <td>parda</td>\n",
       "      <td>1</td>\n",
       "      <td>2</td>\n",
       "      <td>publica</td>\n",
       "      <td>Serra</td>\n",
       "      <td>Serra</td>\n",
       "      <td>...</td>\n",
       "      <td>423.4</td>\n",
       "      <td>espanhol</td>\n",
       "      <td>1.0</td>\n",
       "      <td>100.0</td>\n",
       "      <td>180.0</td>\n",
       "      <td>140.0</td>\n",
       "      <td>120.0</td>\n",
       "      <td>160.0</td>\n",
       "      <td>700.0</td>\n",
       "      <td>nao</td>\n",
       "    </tr>\n",
       "    <tr>\n",
       "      <th>113</th>\n",
       "      <td>2,10E+11</td>\n",
       "      <td>18</td>\n",
       "      <td>M</td>\n",
       "      <td>1</td>\n",
       "      <td>preta</td>\n",
       "      <td>1</td>\n",
       "      <td>2</td>\n",
       "      <td>publica</td>\n",
       "      <td>Serra</td>\n",
       "      <td>Serra</td>\n",
       "      <td>...</td>\n",
       "      <td>669.3</td>\n",
       "      <td>ingles</td>\n",
       "      <td>1.0</td>\n",
       "      <td>120.0</td>\n",
       "      <td>120.0</td>\n",
       "      <td>120.0</td>\n",
       "      <td>120.0</td>\n",
       "      <td>100.0</td>\n",
       "      <td>580.0</td>\n",
       "      <td>sim</td>\n",
       "    </tr>\n",
       "    <tr>\n",
       "      <th>186</th>\n",
       "      <td>2,10E+11</td>\n",
       "      <td>17</td>\n",
       "      <td>F</td>\n",
       "      <td>1</td>\n",
       "      <td>parda</td>\n",
       "      <td>1</td>\n",
       "      <td>2</td>\n",
       "      <td>publica</td>\n",
       "      <td>Serra</td>\n",
       "      <td>Serra</td>\n",
       "      <td>...</td>\n",
       "      <td>675.7</td>\n",
       "      <td>ingles</td>\n",
       "      <td>1.0</td>\n",
       "      <td>140.0</td>\n",
       "      <td>160.0</td>\n",
       "      <td>120.0</td>\n",
       "      <td>120.0</td>\n",
       "      <td>140.0</td>\n",
       "      <td>680.0</td>\n",
       "      <td>sim</td>\n",
       "    </tr>\n",
       "  </tbody>\n",
       "</table>\n",
       "<p>5 rows × 27 columns</p>\n",
       "</div>"
      ],
      "text/plain": [
       "    NU_INSCRICAO FAIXA_ETARIA SEXO  ESTADO_CIVIL   RACA  NACIONALIDADE  \\\n",
       "53      2,10E+11           18    F             1  parda              1   \n",
       "94      2,10E+11        26_30    F             0  parda              1   \n",
       "106     2,10E+11           18    F             1  parda              1   \n",
       "113     2,10E+11           18    M             1  preta              1   \n",
       "186     2,10E+11           17    F             1  parda              1   \n",
       "\n",
       "     TP_ST_CONCLUSAO   ESCOLA NO_MUNICIPIO_ESC NO_MUNICIPIO_PROVA  ...  \\\n",
       "53                 2  publica            Serra              Serra  ...   \n",
       "94                 2  publica            Serra              Serra  ...   \n",
       "106                2  publica            Serra              Serra  ...   \n",
       "113                2  publica            Serra              Serra  ...   \n",
       "186                2  publica            Serra              Serra  ...   \n",
       "\n",
       "     NOTA_MT  TP_LINGUA  TP_STATUS_REDACAO  COMP1  COMP2  COMP3  COMP4  COMP5  \\\n",
       "53     612.1     ingles                1.0  160.0  200.0  140.0  120.0   80.0   \n",
       "94     522.9   espanhol                1.0  120.0  120.0   60.0  100.0   80.0   \n",
       "106    423.4   espanhol                1.0  100.0  180.0  140.0  120.0  160.0   \n",
       "113    669.3     ingles                1.0  120.0  120.0  120.0  120.0  100.0   \n",
       "186    675.7     ingles                1.0  140.0  160.0  120.0  120.0  140.0   \n",
       "\n",
       "    NOTA_REDACAO  INTERNET  \n",
       "53         700.0       sim  \n",
       "94         480.0       sim  \n",
       "106        700.0       nao  \n",
       "113        580.0       sim  \n",
       "186        680.0       sim  \n",
       "\n",
       "[5 rows x 27 columns]"
      ]
     },
     "execution_count": 6,
     "metadata": {},
     "output_type": "execute_result"
    }
   ],
   "source": [
    "enem_serra.head()"
   ]
  },
  {
   "cell_type": "code",
   "execution_count": 7,
   "metadata": {
    "colab": {
     "base_uri": "https://localhost:8080/",
     "height": 215
    },
    "id": "AdCG_aDvR75P",
    "outputId": "1c4612bf-fa35-4d78-f9c7-1911ce470356"
   },
   "outputs": [
    {
     "data": {
      "text/html": [
       "<div>\n",
       "<style scoped>\n",
       "    .dataframe tbody tr th:only-of-type {\n",
       "        vertical-align: middle;\n",
       "    }\n",
       "\n",
       "    .dataframe tbody tr th {\n",
       "        vertical-align: top;\n",
       "    }\n",
       "\n",
       "    .dataframe thead th {\n",
       "        text-align: right;\n",
       "    }\n",
       "</style>\n",
       "<table border=\"1\" class=\"dataframe\">\n",
       "  <thead>\n",
       "    <tr style=\"text-align: right;\">\n",
       "      <th></th>\n",
       "      <th>NU_INSCRICAO</th>\n",
       "      <th>FAIXA_ETARIA</th>\n",
       "      <th>SEXO</th>\n",
       "      <th>ESTADO_CIVIL</th>\n",
       "      <th>RACA</th>\n",
       "      <th>NACIONALIDADE</th>\n",
       "      <th>TP_ST_CONCLUSAO</th>\n",
       "      <th>ESCOLA</th>\n",
       "      <th>NO_MUNICIPIO_ESC</th>\n",
       "      <th>NO_MUNICIPIO_PROVA</th>\n",
       "      <th>...</th>\n",
       "      <th>NOTA_MT</th>\n",
       "      <th>TP_LINGUA</th>\n",
       "      <th>TP_STATUS_REDACAO</th>\n",
       "      <th>COMP1</th>\n",
       "      <th>COMP2</th>\n",
       "      <th>COMP3</th>\n",
       "      <th>COMP4</th>\n",
       "      <th>COMP5</th>\n",
       "      <th>NOTA_REDACAO</th>\n",
       "      <th>INTERNET</th>\n",
       "    </tr>\n",
       "  </thead>\n",
       "  <tbody>\n",
       "    <tr>\n",
       "      <th>11</th>\n",
       "      <td>2,10E+11</td>\n",
       "      <td>19</td>\n",
       "      <td>M</td>\n",
       "      <td>1</td>\n",
       "      <td>parda</td>\n",
       "      <td>1</td>\n",
       "      <td>2</td>\n",
       "      <td>publica</td>\n",
       "      <td>Vitória</td>\n",
       "      <td>Vitória</td>\n",
       "      <td>...</td>\n",
       "      <td>553.1</td>\n",
       "      <td>ingles</td>\n",
       "      <td>1.0</td>\n",
       "      <td>80.0</td>\n",
       "      <td>120.0</td>\n",
       "      <td>80.0</td>\n",
       "      <td>120.0</td>\n",
       "      <td>100.0</td>\n",
       "      <td>500.0</td>\n",
       "      <td>sim</td>\n",
       "    </tr>\n",
       "    <tr>\n",
       "      <th>52</th>\n",
       "      <td>2,10E+11</td>\n",
       "      <td>18</td>\n",
       "      <td>M</td>\n",
       "      <td>1</td>\n",
       "      <td>parda</td>\n",
       "      <td>1</td>\n",
       "      <td>2</td>\n",
       "      <td>publica</td>\n",
       "      <td>Vitória</td>\n",
       "      <td>Vitória</td>\n",
       "      <td>...</td>\n",
       "      <td>545.0</td>\n",
       "      <td>espanhol</td>\n",
       "      <td>1.0</td>\n",
       "      <td>100.0</td>\n",
       "      <td>180.0</td>\n",
       "      <td>140.0</td>\n",
       "      <td>140.0</td>\n",
       "      <td>140.0</td>\n",
       "      <td>700.0</td>\n",
       "      <td>sim</td>\n",
       "    </tr>\n",
       "    <tr>\n",
       "      <th>61</th>\n",
       "      <td>2,10E+11</td>\n",
       "      <td>19</td>\n",
       "      <td>F</td>\n",
       "      <td>1</td>\n",
       "      <td>parda</td>\n",
       "      <td>1</td>\n",
       "      <td>2</td>\n",
       "      <td>publica</td>\n",
       "      <td>Vitória</td>\n",
       "      <td>Vitória</td>\n",
       "      <td>...</td>\n",
       "      <td>443.4</td>\n",
       "      <td>ingles</td>\n",
       "      <td>1.0</td>\n",
       "      <td>120.0</td>\n",
       "      <td>100.0</td>\n",
       "      <td>80.0</td>\n",
       "      <td>120.0</td>\n",
       "      <td>0.0</td>\n",
       "      <td>420.0</td>\n",
       "      <td>sim</td>\n",
       "    </tr>\n",
       "    <tr>\n",
       "      <th>63</th>\n",
       "      <td>2,10E+11</td>\n",
       "      <td>18</td>\n",
       "      <td>M</td>\n",
       "      <td>1</td>\n",
       "      <td>parda</td>\n",
       "      <td>1</td>\n",
       "      <td>2</td>\n",
       "      <td>publica</td>\n",
       "      <td>Vitória</td>\n",
       "      <td>Vitória</td>\n",
       "      <td>...</td>\n",
       "      <td>579.2</td>\n",
       "      <td>ingles</td>\n",
       "      <td>1.0</td>\n",
       "      <td>160.0</td>\n",
       "      <td>200.0</td>\n",
       "      <td>160.0</td>\n",
       "      <td>180.0</td>\n",
       "      <td>160.0</td>\n",
       "      <td>860.0</td>\n",
       "      <td>sim</td>\n",
       "    </tr>\n",
       "    <tr>\n",
       "      <th>70</th>\n",
       "      <td>2,10E+11</td>\n",
       "      <td>18</td>\n",
       "      <td>F</td>\n",
       "      <td>1</td>\n",
       "      <td>preta</td>\n",
       "      <td>1</td>\n",
       "      <td>2</td>\n",
       "      <td>publica</td>\n",
       "      <td>Vitória</td>\n",
       "      <td>Serra</td>\n",
       "      <td>...</td>\n",
       "      <td>501.6</td>\n",
       "      <td>espanhol</td>\n",
       "      <td>1.0</td>\n",
       "      <td>160.0</td>\n",
       "      <td>200.0</td>\n",
       "      <td>160.0</td>\n",
       "      <td>200.0</td>\n",
       "      <td>200.0</td>\n",
       "      <td>920.0</td>\n",
       "      <td>sim</td>\n",
       "    </tr>\n",
       "  </tbody>\n",
       "</table>\n",
       "<p>5 rows × 27 columns</p>\n",
       "</div>"
      ],
      "text/plain": [
       "   NU_INSCRICAO FAIXA_ETARIA SEXO  ESTADO_CIVIL   RACA  NACIONALIDADE  \\\n",
       "11     2,10E+11           19    M             1  parda              1   \n",
       "52     2,10E+11           18    M             1  parda              1   \n",
       "61     2,10E+11           19    F             1  parda              1   \n",
       "63     2,10E+11           18    M             1  parda              1   \n",
       "70     2,10E+11           18    F             1  preta              1   \n",
       "\n",
       "    TP_ST_CONCLUSAO   ESCOLA NO_MUNICIPIO_ESC NO_MUNICIPIO_PROVA  ...  \\\n",
       "11                2  publica          Vitória            Vitória  ...   \n",
       "52                2  publica          Vitória            Vitória  ...   \n",
       "61                2  publica          Vitória            Vitória  ...   \n",
       "63                2  publica          Vitória            Vitória  ...   \n",
       "70                2  publica          Vitória              Serra  ...   \n",
       "\n",
       "    NOTA_MT  TP_LINGUA  TP_STATUS_REDACAO  COMP1  COMP2  COMP3  COMP4  COMP5  \\\n",
       "11    553.1     ingles                1.0   80.0  120.0   80.0  120.0  100.0   \n",
       "52    545.0   espanhol                1.0  100.0  180.0  140.0  140.0  140.0   \n",
       "61    443.4     ingles                1.0  120.0  100.0   80.0  120.0    0.0   \n",
       "63    579.2     ingles                1.0  160.0  200.0  160.0  180.0  160.0   \n",
       "70    501.6   espanhol                1.0  160.0  200.0  160.0  200.0  200.0   \n",
       "\n",
       "   NOTA_REDACAO  INTERNET  \n",
       "11        500.0       sim  \n",
       "52        700.0       sim  \n",
       "61        420.0       sim  \n",
       "63        860.0       sim  \n",
       "70        920.0       sim  \n",
       "\n",
       "[5 rows x 27 columns]"
      ]
     },
     "execution_count": 7,
     "metadata": {},
     "output_type": "execute_result"
    }
   ],
   "source": [
    "enem_vitoria.head()"
   ]
  },
  {
   "cell_type": "code",
   "execution_count": 8,
   "metadata": {
    "colab": {
     "base_uri": "https://localhost:8080/"
    },
    "id": "nbag0QeZgEBW",
    "outputId": "a453f767-f5fa-44a3-cf50-79becf417892"
   },
   "outputs": [
    {
     "data": {
      "text/plain": [
       "(448, 27)"
      ]
     },
     "execution_count": 8,
     "metadata": {},
     "output_type": "execute_result"
    }
   ],
   "source": [
    "enem_serra.shape"
   ]
  },
  {
   "cell_type": "code",
   "execution_count": 9,
   "metadata": {
    "colab": {
     "base_uri": "https://localhost:8080/"
    },
    "id": "cueDYROOQ2M2",
    "outputId": "a3b6a53d-02f8-487a-8ca3-9087ee3de4cb"
   },
   "outputs": [
    {
     "data": {
      "text/plain": [
       "448"
      ]
     },
     "execution_count": 9,
     "metadata": {},
     "output_type": "execute_result"
    }
   ],
   "source": [
    "len(enem_serra)"
   ]
  },
  {
   "cell_type": "code",
   "execution_count": 10,
   "metadata": {
    "colab": {
     "base_uri": "https://localhost:8080/"
    },
    "id": "sU1wzDFFSAMv",
    "outputId": "06866e9d-c75a-4694-bc9c-503aa3d4b240"
   },
   "outputs": [
    {
     "data": {
      "text/plain": [
       "819"
      ]
     },
     "execution_count": 10,
     "metadata": {},
     "output_type": "execute_result"
    }
   ],
   "source": [
    "len(enem_vitoria)"
   ]
  },
  {
   "cell_type": "code",
   "execution_count": 11,
   "metadata": {
    "colab": {
     "base_uri": "https://localhost:8080/"
    },
    "id": "wkFU_0sURWub",
    "outputId": "6ec3e43c-6216-4e06-9141-f399991ebac4"
   },
   "outputs": [
    {
     "data": {
      "text/plain": [
       "11817"
      ]
     },
     "execution_count": 11,
     "metadata": {},
     "output_type": "execute_result"
    }
   ],
   "source": [
    "len(enem_es)"
   ]
  },
  {
   "cell_type": "code",
   "execution_count": 12,
   "metadata": {
    "id": "t3WCuuzOSV5_"
   },
   "outputs": [],
   "source": [
    "# CRIANDO FUNÇÃO PROBABILIDADE\n",
    "def probab (A, E):\n",
    "  resultado = (A / E)*100 \n",
    "  print('{:.2f}'.format(resultado))"
   ]
  },
  {
   "cell_type": "code",
   "execution_count": 13,
   "metadata": {
    "colab": {
     "base_uri": "https://localhost:8080/"
    },
    "id": "0u-SkNvESoVu",
    "outputId": "4f1adb31-8f27-4875-e4a9-9d47932fa363"
   },
   "outputs": [
    {
     "name": "stdout",
     "output_type": "stream",
     "text": [
      "3.79\n"
     ]
    }
   ],
   "source": [
    "# PROBABILIDADE DE RETIRAR UM VESTIBULANDO DE SERRA\n",
    "probab (len(enem_serra), len(enem_es))\n",
    "# mostra a probabilidade de selecionar um vestibulando do município de Serra no espaço amostral."
   ]
  },
  {
   "cell_type": "code",
   "execution_count": 14,
   "metadata": {
    "colab": {
     "base_uri": "https://localhost:8080/"
    },
    "id": "Pl1lRjWGUI-b",
    "outputId": "ea9537a2-259f-4f4f-b78a-cf7533a03b3c"
   },
   "outputs": [
    {
     "name": "stdout",
     "output_type": "stream",
     "text": [
      "6.93\n"
     ]
    }
   ],
   "source": [
    "# PROBABILIDADE DE RETIRAR UM VESTIBULANDO DE VITÓRIA\n",
    "probab (len(enem_vitoria), len(enem_es))"
   ]
  },
  {
   "cell_type": "markdown",
   "metadata": {
    "id": "Pt5xR_yNVY7n"
   },
   "source": [
    "## Probabilidade de não ocorrer um evento"
   ]
  },
  {
   "cell_type": "code",
   "execution_count": 15,
   "metadata": {
    "id": "gknkvP4_VFRB"
   },
   "outputs": [],
   "source": [
    "# CRIANDO FUNÇÃO PROBABILIDADE DE NÃO OCORRER UM EVENTO\n",
    "def probab_nao (A, E):\n",
    "  resultado = (1- (A / E))*100 \n",
    "  print('{:.2f}'.format(resultado))"
   ]
  },
  {
   "cell_type": "code",
   "execution_count": 16,
   "metadata": {
    "colab": {
     "base_uri": "https://localhost:8080/"
    },
    "id": "ofFqS-q0V8-X",
    "outputId": "024a9bb6-38ac-489e-c9f8-f245677c056b"
   },
   "outputs": [
    {
     "name": "stdout",
     "output_type": "stream",
     "text": [
      "96.21\n"
     ]
    }
   ],
   "source": [
    "# PROBABILIDADE DE NÃO RETIRAR UM VESTIBULANDO DE SERRA\n",
    "probab_nao (len(enem_serra), len(enem_es))"
   ]
  },
  {
   "cell_type": "code",
   "execution_count": 17,
   "metadata": {
    "colab": {
     "base_uri": "https://localhost:8080/"
    },
    "id": "3zHaScWJV_0t",
    "outputId": "e6372d10-1f3a-430f-826d-4e576a2a1672"
   },
   "outputs": [
    {
     "name": "stdout",
     "output_type": "stream",
     "text": [
      "89.28\n"
     ]
    }
   ],
   "source": [
    "# PROBABILIDADE DE NÃO RETIRAR UM VESTIBULANDO DE SERRA E NEM DE VITÓRIA\n",
    "probab_nao (len(enem_serra)+len(enem_vitoria), len(enem_es))"
   ]
  },
  {
   "cell_type": "markdown",
   "metadata": {
    "id": "OuzfunoSWnZi"
   },
   "source": [
    "## Probabilidade da união mutuamente exclusivos (AUB)"
   ]
  },
  {
   "cell_type": "code",
   "execution_count": 18,
   "metadata": {
    "id": "xWB6868WWl-0"
   },
   "outputs": [],
   "source": [
    "# CRIANDO FUNÇÃO PROBABILIDADE DA UNIÃO MUTUAMENTE EXCLUSIVOS (AUB)\n",
    "def probab_uniao (A, B, E):\n",
    "  resultado = (A/E + B/E)*100\n",
    "  print('{:.2f}'.format(resultado))"
   ]
  },
  {
   "cell_type": "code",
   "execution_count": 19,
   "metadata": {
    "colab": {
     "base_uri": "https://localhost:8080/"
    },
    "id": "2750xWCYXQ96",
    "outputId": "75d56340-84b6-4596-9c29-8a115d5c0ef3"
   },
   "outputs": [
    {
     "name": "stdout",
     "output_type": "stream",
     "text": [
      "10.72\n"
     ]
    }
   ],
   "source": [
    "# PROBABILIDADE DE RETIRAR UM VESTIBULANDO DE SERRA OU DE VITÓRIA\n",
    "probab_uniao(len(enem_serra),len(enem_vitoria),len(enem_es))"
   ]
  },
  {
   "cell_type": "markdown",
   "metadata": {
    "id": "nYMPJWMjYRw2"
   },
   "source": [
    "## Probabilidade da Intersecção de dois eventos"
   ]
  },
  {
   "cell_type": "code",
   "execution_count": 20,
   "metadata": {
    "id": "vtEgI0ZkYetW"
   },
   "outputs": [],
   "source": [
    "# CRIANDO FUNÇÃO PROBABILIDADE DA INTERSECÇÃO DE DOIS EVENTOS\n",
    "def probab_inter (A, B, E):\n",
    "  resultado = (A/E * B/E)*100\n",
    "  print('{:.3f}'.format(resultado))"
   ]
  },
  {
   "cell_type": "code",
   "execution_count": 21,
   "metadata": {
    "colab": {
     "base_uri": "https://localhost:8080/"
    },
    "id": "-TVs4oxGY11_",
    "outputId": "6d71861c-021b-4bb8-e37a-c9140ad5e5da"
   },
   "outputs": [
    {
     "name": "stdout",
     "output_type": "stream",
     "text": [
      "0.263\n"
     ]
    }
   ],
   "source": [
    "#PROBABILIDADE DE RETIRAR UM VESTIBULANDO DE SERRA E DE VITÓRIA (com reposição)\n",
    "probab_inter(len(enem_serra),len(enem_vitoria),len(enem_es))"
   ]
  },
  {
   "cell_type": "markdown",
   "metadata": {
    "id": "NR3oVUGBZgyk"
   },
   "source": [
    "## Probabilidade Condicional"
   ]
  },
  {
   "cell_type": "code",
   "execution_count": 22,
   "metadata": {
    "id": "58m_7tCdZtwL"
   },
   "outputs": [],
   "source": [
    "#CRIANDO FUNÇÃO PROBABILIDADE CONDICIONAL\n",
    "def probab_cond (AB, B):\n",
    "  resultado = (AB / B)*100\n",
    "  print('{:.2f}'.format(resultado))"
   ]
  },
  {
   "cell_type": "code",
   "execution_count": 23,
   "metadata": {
    "id": "oUB3oCeXaTSg"
   },
   "outputs": [],
   "source": [
    "#PROBABILIDADE DE RETIRAR UMA MULHER PARDA\n",
    "mulher = enem_es.loc[enem_es.SEXO == 'F']\n",
    "mulher_parda = mulher.loc[mulher.RACA == 'parda']"
   ]
  },
  {
   "cell_type": "code",
   "execution_count": 24,
   "metadata": {
    "id": "oQg0Gxpqa2AH"
   },
   "outputs": [
    {
     "data": {
      "text/html": [
       "<div>\n",
       "<style scoped>\n",
       "    .dataframe tbody tr th:only-of-type {\n",
       "        vertical-align: middle;\n",
       "    }\n",
       "\n",
       "    .dataframe tbody tr th {\n",
       "        vertical-align: top;\n",
       "    }\n",
       "\n",
       "    .dataframe thead th {\n",
       "        text-align: right;\n",
       "    }\n",
       "</style>\n",
       "<table border=\"1\" class=\"dataframe\">\n",
       "  <thead>\n",
       "    <tr style=\"text-align: right;\">\n",
       "      <th></th>\n",
       "      <th>NU_INSCRICAO</th>\n",
       "      <th>FAIXA_ETARIA</th>\n",
       "      <th>SEXO</th>\n",
       "      <th>ESTADO_CIVIL</th>\n",
       "      <th>RACA</th>\n",
       "      <th>NACIONALIDADE</th>\n",
       "      <th>TP_ST_CONCLUSAO</th>\n",
       "      <th>ESCOLA</th>\n",
       "      <th>NO_MUNICIPIO_ESC</th>\n",
       "      <th>NO_MUNICIPIO_PROVA</th>\n",
       "      <th>...</th>\n",
       "      <th>NOTA_MT</th>\n",
       "      <th>TP_LINGUA</th>\n",
       "      <th>TP_STATUS_REDACAO</th>\n",
       "      <th>COMP1</th>\n",
       "      <th>COMP2</th>\n",
       "      <th>COMP3</th>\n",
       "      <th>COMP4</th>\n",
       "      <th>COMP5</th>\n",
       "      <th>NOTA_REDACAO</th>\n",
       "      <th>INTERNET</th>\n",
       "    </tr>\n",
       "  </thead>\n",
       "  <tbody>\n",
       "    <tr>\n",
       "      <th>1</th>\n",
       "      <td>2,10E+11</td>\n",
       "      <td>19</td>\n",
       "      <td>F</td>\n",
       "      <td>1</td>\n",
       "      <td>parda</td>\n",
       "      <td>1</td>\n",
       "      <td>1</td>\n",
       "      <td>nao_respondeu</td>\n",
       "      <td>NaN</td>\n",
       "      <td>Colatina</td>\n",
       "      <td>...</td>\n",
       "      <td>460.8</td>\n",
       "      <td>espanhol</td>\n",
       "      <td>1.0</td>\n",
       "      <td>100.0</td>\n",
       "      <td>140.0</td>\n",
       "      <td>100.0</td>\n",
       "      <td>140.0</td>\n",
       "      <td>120.0</td>\n",
       "      <td>600.0</td>\n",
       "      <td>sim</td>\n",
       "    </tr>\n",
       "    <tr>\n",
       "      <th>2</th>\n",
       "      <td>2,10E+11</td>\n",
       "      <td>17</td>\n",
       "      <td>F</td>\n",
       "      <td>1</td>\n",
       "      <td>parda</td>\n",
       "      <td>1</td>\n",
       "      <td>2</td>\n",
       "      <td>privada</td>\n",
       "      <td>NaN</td>\n",
       "      <td>Colatina</td>\n",
       "      <td>...</td>\n",
       "      <td>449.3</td>\n",
       "      <td>espanhol</td>\n",
       "      <td>1.0</td>\n",
       "      <td>160.0</td>\n",
       "      <td>160.0</td>\n",
       "      <td>140.0</td>\n",
       "      <td>160.0</td>\n",
       "      <td>160.0</td>\n",
       "      <td>780.0</td>\n",
       "      <td>sim</td>\n",
       "    </tr>\n",
       "    <tr>\n",
       "      <th>3</th>\n",
       "      <td>2,10E+11</td>\n",
       "      <td>41_45</td>\n",
       "      <td>F</td>\n",
       "      <td>3</td>\n",
       "      <td>parda</td>\n",
       "      <td>1</td>\n",
       "      <td>1</td>\n",
       "      <td>nao_respondeu</td>\n",
       "      <td>NaN</td>\n",
       "      <td>Vila Velha</td>\n",
       "      <td>...</td>\n",
       "      <td>437.6</td>\n",
       "      <td>espanhol</td>\n",
       "      <td>1.0</td>\n",
       "      <td>120.0</td>\n",
       "      <td>120.0</td>\n",
       "      <td>120.0</td>\n",
       "      <td>120.0</td>\n",
       "      <td>100.0</td>\n",
       "      <td>580.0</td>\n",
       "      <td>sim</td>\n",
       "    </tr>\n",
       "    <tr>\n",
       "      <th>5</th>\n",
       "      <td>2,10E+11</td>\n",
       "      <td>22</td>\n",
       "      <td>F</td>\n",
       "      <td>1</td>\n",
       "      <td>parda</td>\n",
       "      <td>1</td>\n",
       "      <td>1</td>\n",
       "      <td>nao_respondeu</td>\n",
       "      <td>NaN</td>\n",
       "      <td>Mimoso do Sul</td>\n",
       "      <td>...</td>\n",
       "      <td>451.2</td>\n",
       "      <td>ingles</td>\n",
       "      <td>1.0</td>\n",
       "      <td>120.0</td>\n",
       "      <td>160.0</td>\n",
       "      <td>120.0</td>\n",
       "      <td>120.0</td>\n",
       "      <td>80.0</td>\n",
       "      <td>600.0</td>\n",
       "      <td>sim</td>\n",
       "    </tr>\n",
       "    <tr>\n",
       "      <th>6</th>\n",
       "      <td>2,10E+11</td>\n",
       "      <td>31_35</td>\n",
       "      <td>F</td>\n",
       "      <td>1</td>\n",
       "      <td>parda</td>\n",
       "      <td>1</td>\n",
       "      <td>1</td>\n",
       "      <td>nao_respondeu</td>\n",
       "      <td>NaN</td>\n",
       "      <td>Serra</td>\n",
       "      <td>...</td>\n",
       "      <td>535.4</td>\n",
       "      <td>espanhol</td>\n",
       "      <td>1.0</td>\n",
       "      <td>120.0</td>\n",
       "      <td>120.0</td>\n",
       "      <td>140.0</td>\n",
       "      <td>120.0</td>\n",
       "      <td>80.0</td>\n",
       "      <td>580.0</td>\n",
       "      <td>sim</td>\n",
       "    </tr>\n",
       "    <tr>\n",
       "      <th>7</th>\n",
       "      <td>2,10E+11</td>\n",
       "      <td>17</td>\n",
       "      <td>F</td>\n",
       "      <td>1</td>\n",
       "      <td>parda</td>\n",
       "      <td>1</td>\n",
       "      <td>2</td>\n",
       "      <td>publica</td>\n",
       "      <td>Cariacica</td>\n",
       "      <td>Cariacica</td>\n",
       "      <td>...</td>\n",
       "      <td>524.9</td>\n",
       "      <td>espanhol</td>\n",
       "      <td>1.0</td>\n",
       "      <td>140.0</td>\n",
       "      <td>140.0</td>\n",
       "      <td>100.0</td>\n",
       "      <td>120.0</td>\n",
       "      <td>120.0</td>\n",
       "      <td>620.0</td>\n",
       "      <td>sim</td>\n",
       "    </tr>\n",
       "    <tr>\n",
       "      <th>9</th>\n",
       "      <td>2,10E+11</td>\n",
       "      <td>21</td>\n",
       "      <td>F</td>\n",
       "      <td>1</td>\n",
       "      <td>parda</td>\n",
       "      <td>1</td>\n",
       "      <td>1</td>\n",
       "      <td>nao_respondeu</td>\n",
       "      <td>NaN</td>\n",
       "      <td>Cariacica</td>\n",
       "      <td>...</td>\n",
       "      <td>426.0</td>\n",
       "      <td>espanhol</td>\n",
       "      <td>1.0</td>\n",
       "      <td>100.0</td>\n",
       "      <td>40.0</td>\n",
       "      <td>40.0</td>\n",
       "      <td>100.0</td>\n",
       "      <td>40.0</td>\n",
       "      <td>320.0</td>\n",
       "      <td>sim</td>\n",
       "    </tr>\n",
       "    <tr>\n",
       "      <th>13</th>\n",
       "      <td>2,10E+11</td>\n",
       "      <td>31_35</td>\n",
       "      <td>F</td>\n",
       "      <td>2</td>\n",
       "      <td>parda</td>\n",
       "      <td>1</td>\n",
       "      <td>1</td>\n",
       "      <td>nao_respondeu</td>\n",
       "      <td>NaN</td>\n",
       "      <td>São Mateus</td>\n",
       "      <td>...</td>\n",
       "      <td>403.2</td>\n",
       "      <td>espanhol</td>\n",
       "      <td>1.0</td>\n",
       "      <td>120.0</td>\n",
       "      <td>120.0</td>\n",
       "      <td>120.0</td>\n",
       "      <td>120.0</td>\n",
       "      <td>160.0</td>\n",
       "      <td>640.0</td>\n",
       "      <td>sim</td>\n",
       "    </tr>\n",
       "    <tr>\n",
       "      <th>14</th>\n",
       "      <td>2,10E+11</td>\n",
       "      <td>18</td>\n",
       "      <td>F</td>\n",
       "      <td>1</td>\n",
       "      <td>parda</td>\n",
       "      <td>2</td>\n",
       "      <td>2</td>\n",
       "      <td>publica</td>\n",
       "      <td>Vila Velha</td>\n",
       "      <td>Vila Velha</td>\n",
       "      <td>...</td>\n",
       "      <td>382.8</td>\n",
       "      <td>espanhol</td>\n",
       "      <td>1.0</td>\n",
       "      <td>100.0</td>\n",
       "      <td>120.0</td>\n",
       "      <td>80.0</td>\n",
       "      <td>80.0</td>\n",
       "      <td>100.0</td>\n",
       "      <td>480.0</td>\n",
       "      <td>sim</td>\n",
       "    </tr>\n",
       "    <tr>\n",
       "      <th>17</th>\n",
       "      <td>2,10E+11</td>\n",
       "      <td>31_35</td>\n",
       "      <td>F</td>\n",
       "      <td>1</td>\n",
       "      <td>parda</td>\n",
       "      <td>1</td>\n",
       "      <td>1</td>\n",
       "      <td>nao_respondeu</td>\n",
       "      <td>NaN</td>\n",
       "      <td>Serra</td>\n",
       "      <td>...</td>\n",
       "      <td>461.5</td>\n",
       "      <td>ingles</td>\n",
       "      <td>1.0</td>\n",
       "      <td>120.0</td>\n",
       "      <td>120.0</td>\n",
       "      <td>80.0</td>\n",
       "      <td>80.0</td>\n",
       "      <td>0.0</td>\n",
       "      <td>400.0</td>\n",
       "      <td>nao</td>\n",
       "    </tr>\n",
       "    <tr>\n",
       "      <th>19</th>\n",
       "      <td>2,10E+11</td>\n",
       "      <td>19</td>\n",
       "      <td>F</td>\n",
       "      <td>1</td>\n",
       "      <td>parda</td>\n",
       "      <td>1</td>\n",
       "      <td>1</td>\n",
       "      <td>nao_respondeu</td>\n",
       "      <td>NaN</td>\n",
       "      <td>Vila Velha</td>\n",
       "      <td>...</td>\n",
       "      <td>642.8</td>\n",
       "      <td>ingles</td>\n",
       "      <td>1.0</td>\n",
       "      <td>120.0</td>\n",
       "      <td>180.0</td>\n",
       "      <td>120.0</td>\n",
       "      <td>140.0</td>\n",
       "      <td>160.0</td>\n",
       "      <td>720.0</td>\n",
       "      <td>sim</td>\n",
       "    </tr>\n",
       "    <tr>\n",
       "      <th>24</th>\n",
       "      <td>2,10E+11</td>\n",
       "      <td>19</td>\n",
       "      <td>F</td>\n",
       "      <td>1</td>\n",
       "      <td>parda</td>\n",
       "      <td>1</td>\n",
       "      <td>1</td>\n",
       "      <td>nao_respondeu</td>\n",
       "      <td>NaN</td>\n",
       "      <td>Vitória</td>\n",
       "      <td>...</td>\n",
       "      <td>530.8</td>\n",
       "      <td>espanhol</td>\n",
       "      <td>1.0</td>\n",
       "      <td>120.0</td>\n",
       "      <td>100.0</td>\n",
       "      <td>120.0</td>\n",
       "      <td>120.0</td>\n",
       "      <td>100.0</td>\n",
       "      <td>560.0</td>\n",
       "      <td>sim</td>\n",
       "    </tr>\n",
       "    <tr>\n",
       "      <th>31</th>\n",
       "      <td>2,10E+11</td>\n",
       "      <td>19</td>\n",
       "      <td>F</td>\n",
       "      <td>1</td>\n",
       "      <td>parda</td>\n",
       "      <td>1</td>\n",
       "      <td>1</td>\n",
       "      <td>nao_respondeu</td>\n",
       "      <td>NaN</td>\n",
       "      <td>Vila Velha</td>\n",
       "      <td>...</td>\n",
       "      <td>589.8</td>\n",
       "      <td>espanhol</td>\n",
       "      <td>1.0</td>\n",
       "      <td>100.0</td>\n",
       "      <td>180.0</td>\n",
       "      <td>100.0</td>\n",
       "      <td>140.0</td>\n",
       "      <td>120.0</td>\n",
       "      <td>640.0</td>\n",
       "      <td>sim</td>\n",
       "    </tr>\n",
       "    <tr>\n",
       "      <th>33</th>\n",
       "      <td>2,10E+11</td>\n",
       "      <td>17</td>\n",
       "      <td>F</td>\n",
       "      <td>1</td>\n",
       "      <td>parda</td>\n",
       "      <td>1</td>\n",
       "      <td>2</td>\n",
       "      <td>publica</td>\n",
       "      <td>NaN</td>\n",
       "      <td>Cariacica</td>\n",
       "      <td>...</td>\n",
       "      <td>392.7</td>\n",
       "      <td>ingles</td>\n",
       "      <td>1.0</td>\n",
       "      <td>80.0</td>\n",
       "      <td>120.0</td>\n",
       "      <td>80.0</td>\n",
       "      <td>100.0</td>\n",
       "      <td>60.0</td>\n",
       "      <td>440.0</td>\n",
       "      <td>sim</td>\n",
       "    </tr>\n",
       "    <tr>\n",
       "      <th>36</th>\n",
       "      <td>2,10E+11</td>\n",
       "      <td>20</td>\n",
       "      <td>F</td>\n",
       "      <td>0</td>\n",
       "      <td>parda</td>\n",
       "      <td>1</td>\n",
       "      <td>1</td>\n",
       "      <td>nao_respondeu</td>\n",
       "      <td>NaN</td>\n",
       "      <td>Linhares</td>\n",
       "      <td>...</td>\n",
       "      <td>606.6</td>\n",
       "      <td>espanhol</td>\n",
       "      <td>1.0</td>\n",
       "      <td>120.0</td>\n",
       "      <td>120.0</td>\n",
       "      <td>100.0</td>\n",
       "      <td>120.0</td>\n",
       "      <td>40.0</td>\n",
       "      <td>500.0</td>\n",
       "      <td>sim</td>\n",
       "    </tr>\n",
       "    <tr>\n",
       "      <th>46</th>\n",
       "      <td>2,10E+11</td>\n",
       "      <td>31_35</td>\n",
       "      <td>F</td>\n",
       "      <td>2</td>\n",
       "      <td>parda</td>\n",
       "      <td>1</td>\n",
       "      <td>1</td>\n",
       "      <td>nao_respondeu</td>\n",
       "      <td>NaN</td>\n",
       "      <td>Vila Velha</td>\n",
       "      <td>...</td>\n",
       "      <td>542.8</td>\n",
       "      <td>espanhol</td>\n",
       "      <td>1.0</td>\n",
       "      <td>120.0</td>\n",
       "      <td>120.0</td>\n",
       "      <td>100.0</td>\n",
       "      <td>120.0</td>\n",
       "      <td>120.0</td>\n",
       "      <td>580.0</td>\n",
       "      <td>sim</td>\n",
       "    </tr>\n",
       "    <tr>\n",
       "      <th>50</th>\n",
       "      <td>2,10E+11</td>\n",
       "      <td>18</td>\n",
       "      <td>F</td>\n",
       "      <td>1</td>\n",
       "      <td>parda</td>\n",
       "      <td>1</td>\n",
       "      <td>2</td>\n",
       "      <td>publica</td>\n",
       "      <td>Rio Novo do Sul</td>\n",
       "      <td>Cachoeiro de Itapemirim</td>\n",
       "      <td>...</td>\n",
       "      <td>448.3</td>\n",
       "      <td>espanhol</td>\n",
       "      <td>1.0</td>\n",
       "      <td>80.0</td>\n",
       "      <td>200.0</td>\n",
       "      <td>140.0</td>\n",
       "      <td>120.0</td>\n",
       "      <td>140.0</td>\n",
       "      <td>680.0</td>\n",
       "      <td>sim</td>\n",
       "    </tr>\n",
       "    <tr>\n",
       "      <th>53</th>\n",
       "      <td>2,10E+11</td>\n",
       "      <td>18</td>\n",
       "      <td>F</td>\n",
       "      <td>1</td>\n",
       "      <td>parda</td>\n",
       "      <td>1</td>\n",
       "      <td>2</td>\n",
       "      <td>publica</td>\n",
       "      <td>Serra</td>\n",
       "      <td>Serra</td>\n",
       "      <td>...</td>\n",
       "      <td>612.1</td>\n",
       "      <td>ingles</td>\n",
       "      <td>1.0</td>\n",
       "      <td>160.0</td>\n",
       "      <td>200.0</td>\n",
       "      <td>140.0</td>\n",
       "      <td>120.0</td>\n",
       "      <td>80.0</td>\n",
       "      <td>700.0</td>\n",
       "      <td>sim</td>\n",
       "    </tr>\n",
       "    <tr>\n",
       "      <th>54</th>\n",
       "      <td>2,10E+11</td>\n",
       "      <td>19</td>\n",
       "      <td>F</td>\n",
       "      <td>1</td>\n",
       "      <td>parda</td>\n",
       "      <td>1</td>\n",
       "      <td>1</td>\n",
       "      <td>nao_respondeu</td>\n",
       "      <td>NaN</td>\n",
       "      <td>Vila Velha</td>\n",
       "      <td>...</td>\n",
       "      <td>559.2</td>\n",
       "      <td>ingles</td>\n",
       "      <td>1.0</td>\n",
       "      <td>160.0</td>\n",
       "      <td>200.0</td>\n",
       "      <td>140.0</td>\n",
       "      <td>180.0</td>\n",
       "      <td>200.0</td>\n",
       "      <td>880.0</td>\n",
       "      <td>sim</td>\n",
       "    </tr>\n",
       "    <tr>\n",
       "      <th>60</th>\n",
       "      <td>2,10E+11</td>\n",
       "      <td>20</td>\n",
       "      <td>F</td>\n",
       "      <td>1</td>\n",
       "      <td>parda</td>\n",
       "      <td>1</td>\n",
       "      <td>1</td>\n",
       "      <td>nao_respondeu</td>\n",
       "      <td>NaN</td>\n",
       "      <td>Cariacica</td>\n",
       "      <td>...</td>\n",
       "      <td>450.9</td>\n",
       "      <td>ingles</td>\n",
       "      <td>1.0</td>\n",
       "      <td>100.0</td>\n",
       "      <td>120.0</td>\n",
       "      <td>100.0</td>\n",
       "      <td>120.0</td>\n",
       "      <td>60.0</td>\n",
       "      <td>500.0</td>\n",
       "      <td>sim</td>\n",
       "    </tr>\n",
       "  </tbody>\n",
       "</table>\n",
       "<p>20 rows × 27 columns</p>\n",
       "</div>"
      ],
      "text/plain": [
       "   NU_INSCRICAO FAIXA_ETARIA SEXO  ESTADO_CIVIL   RACA  NACIONALIDADE  \\\n",
       "1      2,10E+11           19    F             1  parda              1   \n",
       "2      2,10E+11           17    F             1  parda              1   \n",
       "3      2,10E+11        41_45    F             3  parda              1   \n",
       "5      2,10E+11           22    F             1  parda              1   \n",
       "6      2,10E+11        31_35    F             1  parda              1   \n",
       "7      2,10E+11           17    F             1  parda              1   \n",
       "9      2,10E+11           21    F             1  parda              1   \n",
       "13     2,10E+11        31_35    F             2  parda              1   \n",
       "14     2,10E+11           18    F             1  parda              2   \n",
       "17     2,10E+11        31_35    F             1  parda              1   \n",
       "19     2,10E+11           19    F             1  parda              1   \n",
       "24     2,10E+11           19    F             1  parda              1   \n",
       "31     2,10E+11           19    F             1  parda              1   \n",
       "33     2,10E+11           17    F             1  parda              1   \n",
       "36     2,10E+11           20    F             0  parda              1   \n",
       "46     2,10E+11        31_35    F             2  parda              1   \n",
       "50     2,10E+11           18    F             1  parda              1   \n",
       "53     2,10E+11           18    F             1  parda              1   \n",
       "54     2,10E+11           19    F             1  parda              1   \n",
       "60     2,10E+11           20    F             1  parda              1   \n",
       "\n",
       "    TP_ST_CONCLUSAO         ESCOLA NO_MUNICIPIO_ESC       NO_MUNICIPIO_PROVA  \\\n",
       "1                 1  nao_respondeu              NaN                 Colatina   \n",
       "2                 2        privada              NaN                 Colatina   \n",
       "3                 1  nao_respondeu              NaN               Vila Velha   \n",
       "5                 1  nao_respondeu              NaN            Mimoso do Sul   \n",
       "6                 1  nao_respondeu              NaN                    Serra   \n",
       "7                 2        publica        Cariacica                Cariacica   \n",
       "9                 1  nao_respondeu              NaN                Cariacica   \n",
       "13                1  nao_respondeu              NaN               São Mateus   \n",
       "14                2        publica       Vila Velha               Vila Velha   \n",
       "17                1  nao_respondeu              NaN                    Serra   \n",
       "19                1  nao_respondeu              NaN               Vila Velha   \n",
       "24                1  nao_respondeu              NaN                  Vitória   \n",
       "31                1  nao_respondeu              NaN               Vila Velha   \n",
       "33                2        publica              NaN                Cariacica   \n",
       "36                1  nao_respondeu              NaN                 Linhares   \n",
       "46                1  nao_respondeu              NaN               Vila Velha   \n",
       "50                2        publica  Rio Novo do Sul  Cachoeiro de Itapemirim   \n",
       "53                2        publica            Serra                    Serra   \n",
       "54                1  nao_respondeu              NaN               Vila Velha   \n",
       "60                1  nao_respondeu              NaN                Cariacica   \n",
       "\n",
       "    ...  NOTA_MT  TP_LINGUA  TP_STATUS_REDACAO  COMP1  COMP2  COMP3  COMP4  \\\n",
       "1   ...    460.8   espanhol                1.0  100.0  140.0  100.0  140.0   \n",
       "2   ...    449.3   espanhol                1.0  160.0  160.0  140.0  160.0   \n",
       "3   ...    437.6   espanhol                1.0  120.0  120.0  120.0  120.0   \n",
       "5   ...    451.2     ingles                1.0  120.0  160.0  120.0  120.0   \n",
       "6   ...    535.4   espanhol                1.0  120.0  120.0  140.0  120.0   \n",
       "7   ...    524.9   espanhol                1.0  140.0  140.0  100.0  120.0   \n",
       "9   ...    426.0   espanhol                1.0  100.0   40.0   40.0  100.0   \n",
       "13  ...    403.2   espanhol                1.0  120.0  120.0  120.0  120.0   \n",
       "14  ...    382.8   espanhol                1.0  100.0  120.0   80.0   80.0   \n",
       "17  ...    461.5     ingles                1.0  120.0  120.0   80.0   80.0   \n",
       "19  ...    642.8     ingles                1.0  120.0  180.0  120.0  140.0   \n",
       "24  ...    530.8   espanhol                1.0  120.0  100.0  120.0  120.0   \n",
       "31  ...    589.8   espanhol                1.0  100.0  180.0  100.0  140.0   \n",
       "33  ...    392.7     ingles                1.0   80.0  120.0   80.0  100.0   \n",
       "36  ...    606.6   espanhol                1.0  120.0  120.0  100.0  120.0   \n",
       "46  ...    542.8   espanhol                1.0  120.0  120.0  100.0  120.0   \n",
       "50  ...    448.3   espanhol                1.0   80.0  200.0  140.0  120.0   \n",
       "53  ...    612.1     ingles                1.0  160.0  200.0  140.0  120.0   \n",
       "54  ...    559.2     ingles                1.0  160.0  200.0  140.0  180.0   \n",
       "60  ...    450.9     ingles                1.0  100.0  120.0  100.0  120.0   \n",
       "\n",
       "    COMP5 NOTA_REDACAO  INTERNET  \n",
       "1   120.0        600.0       sim  \n",
       "2   160.0        780.0       sim  \n",
       "3   100.0        580.0       sim  \n",
       "5    80.0        600.0       sim  \n",
       "6    80.0        580.0       sim  \n",
       "7   120.0        620.0       sim  \n",
       "9    40.0        320.0       sim  \n",
       "13  160.0        640.0       sim  \n",
       "14  100.0        480.0       sim  \n",
       "17    0.0        400.0       nao  \n",
       "19  160.0        720.0       sim  \n",
       "24  100.0        560.0       sim  \n",
       "31  120.0        640.0       sim  \n",
       "33   60.0        440.0       sim  \n",
       "36   40.0        500.0       sim  \n",
       "46  120.0        580.0       sim  \n",
       "50  140.0        680.0       sim  \n",
       "53   80.0        700.0       sim  \n",
       "54  200.0        880.0       sim  \n",
       "60   60.0        500.0       sim  \n",
       "\n",
       "[20 rows x 27 columns]"
      ]
     },
     "execution_count": 24,
     "metadata": {},
     "output_type": "execute_result"
    }
   ],
   "source": [
    "mulher_parda.head(20)"
   ]
  },
  {
   "cell_type": "code",
   "execution_count": 25,
   "metadata": {
    "colab": {
     "base_uri": "https://localhost:8080/"
    },
    "id": "b_Og0dE9bPZg",
    "outputId": "1045c6a4-51b5-43b0-f8cd-c190d192bf6a"
   },
   "outputs": [
    {
     "name": "stdout",
     "output_type": "stream",
     "text": [
      "43.71\n"
     ]
    }
   ],
   "source": [
    "probab_cond(len(mulher_parda),len(mulher))"
   ]
  }
 ],
 "metadata": {
  "colab": {
   "name": "probabilidade.ipynb",
   "provenance": []
  },
  "kernelspec": {
   "display_name": "Python 3 (ipykernel)",
   "language": "python",
   "name": "python3"
  },
  "language_info": {
   "codemirror_mode": {
    "name": "ipython",
    "version": 3
   },
   "file_extension": ".py",
   "mimetype": "text/x-python",
   "name": "python",
   "nbconvert_exporter": "python",
   "pygments_lexer": "ipython3",
   "version": "3.11.4"
  }
 },
 "nbformat": 4,
 "nbformat_minor": 1
}
