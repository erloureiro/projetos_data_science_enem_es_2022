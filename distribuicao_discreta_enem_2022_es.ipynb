{
 "cells": [
  {
   "cell_type": "markdown",
   "metadata": {
    "id": "o1l_Hn4Y205Y"
   },
   "source": [
    "# **Distribuição Discreta**"
   ]
  },
  {
   "cell_type": "markdown",
   "metadata": {},
   "source": [
    "Lista cada valor possível que a variável aleatória pode assumir, assim como a sua probabilidade. \\\n",
    "Condições: \\\n",
    "Probabilidade cada valor é entre 0 e 1:     0 ≤ P(x) ≤ 1 \\\n",
    "A soma das probabilidades deve ser igual a 1:   Σ P(x) = 1"
   ]
  },
  {
   "cell_type": "code",
   "execution_count": 1,
   "metadata": {
    "id": "KyCE-Wmy24Uv"
   },
   "outputs": [],
   "source": [
    "import numpy as np\n",
    "import pandas as pd"
   ]
  },
  {
   "cell_type": "code",
   "execution_count": 2,
   "metadata": {
    "id": "GMQGhQnt3B8-"
   },
   "outputs": [],
   "source": [
    "enem_es = pd.read_csv('enem_2022_es_tratado.csv', sep=',', encoding='iso-8859-1')"
   ]
  },
  {
   "cell_type": "markdown",
   "metadata": {
    "id": "sX7FY6UX61QV"
   },
   "source": [
    "## Distribuição Binomial"
   ]
  },
  {
   "cell_type": "markdown",
   "metadata": {},
   "source": [
    "Possibilidade de apenas dois resultados. \\\n",
    "Tentativas idênticas e independentes."
   ]
  },
  {
   "cell_type": "code",
   "execution_count": 3,
   "metadata": {
    "id": "6HNMC-mQ2zVa"
   },
   "outputs": [],
   "source": [
    "from scipy.stats import binom  "
   ]
  },
  {
   "cell_type": "code",
   "execution_count": 4,
   "metadata": {
    "id": "44vb3Ow_8VSi"
   },
   "outputs": [],
   "source": [
    "# PROBABILIDADE DE RETIRAR UMA MULHER\n",
    "mulher_enem = enem_es.loc[enem_es.SEXO == 'F']"
   ]
  },
  {
   "cell_type": "code",
   "execution_count": 5,
   "metadata": {
    "colab": {
     "base_uri": "https://localhost:8080/"
    },
    "id": "NeE5KHytQkRS",
    "outputId": "80c0a1c5-b15c-43ed-f3eb-bd0e91e6a030"
   },
   "outputs": [
    {
     "data": {
      "text/plain": [
       "0.6747059321316747"
      ]
     },
     "execution_count": 5,
     "metadata": {},
     "output_type": "execute_result"
    }
   ],
   "source": [
    "p = len(mulher_enem) / len(enem_es)\n",
    "p"
   ]
  },
  {
   "cell_type": "markdown",
   "metadata": {
    "id": "CI9vWO8M9h-2"
   },
   "source": [
    "binom.pmf = valor pontual\n",
    "\n",
    "binom.cdf = faixa de valores (acumulada)"
   ]
  },
  {
   "cell_type": "code",
   "execution_count": 6,
   "metadata": {
    "colab": {
     "base_uri": "https://localhost:8080/"
    },
    "id": "Mts7Oo6A9NH_",
    "outputId": "c952257c-9299-4250-ce7e-6ca32b4bca5d"
   },
   "outputs": [
    {
     "data": {
      "text/plain": [
       "0.05156253608167793"
      ]
     },
     "execution_count": 6,
     "metadata": {},
     "output_type": "execute_result"
    }
   ],
   "source": [
    "# PROBABILIDADE DE RETIRAR EXATAMENTE 4 MULHERES NUM TOTAL DE 10 AMOSTRAS\n",
    "\n",
    "binom.pmf(4,10,p)\n",
    "\n",
    "# Primeiro parâmetro:valor ou limite que se está pretendo calcular\n",
    "# Segundo: número de tentativas\n",
    "# Terceiro: probabilidade de um sucesso."
   ]
  },
  {
   "cell_type": "code",
   "execution_count": 7,
   "metadata": {
    "colab": {
     "base_uri": "https://localhost:8080/"
    },
    "id": "HvOI10drC_GF",
    "outputId": "a196f0f7-7aa8-4555-a19a-b8b457e5838a"
   },
   "outputs": [
    {
     "data": {
      "text/plain": [
       "0.9999867333450232"
      ]
     },
     "execution_count": 7,
     "metadata": {},
     "output_type": "execute_result"
    }
   ],
   "source": [
    "# PROBABILIDADE DE RETIRAR PELO MENOS UMA MULHER NUM TOTAL DE 10 AMOSTRAS\n",
    "\n",
    "p0 = 1 - binom.pmf(0,10,p)\n",
    "p0"
   ]
  },
  {
   "cell_type": "code",
   "execution_count": 8,
   "metadata": {
    "colab": {
     "base_uri": "https://localhost:8080/"
    },
    "id": "NQ52M4UPDbdq",
    "outputId": "679088fc-6184-476e-ef74-2d2d4ae3ce67"
   },
   "outputs": [
    {
     "data": {
      "text/plain": [
       "0.9997115641459337"
      ]
     },
     "execution_count": 8,
     "metadata": {},
     "output_type": "execute_result"
    }
   ],
   "source": [
    "# PROBABILIDADE DE RETIRAR MAIS DO QUE 1 MULHER NUM TOTAL DE 10 AMOSTRAS\n",
    "p1 = 1 - (binom.pmf(0,10,p)+binom.pmf(1,10,p))\n",
    "p1"
   ]
  },
  {
   "cell_type": "code",
   "execution_count": 9,
   "metadata": {
    "colab": {
     "base_uri": "https://localhost:8080/"
    },
    "id": "B83PrmCcDxbj",
    "outputId": "8f13186b-3354-4e9f-e8cc-ee82cb00f6ac"
   },
   "outputs": [
    {
     "data": {
      "text/plain": [
       "0.9829376918730067"
      ]
     },
     "execution_count": 9,
     "metadata": {},
     "output_type": "execute_result"
    }
   ],
   "source": [
    "# PROBABILIDADE DE RETIRAR MAIS DO QUE 3 MULHERES NUM TOTAL DE 10 AMOSTRAS\n",
    "\n",
    "p2 = 1 - (binom.pmf(0,10,p)+binom.pmf(1,10,p)+binom.pmf(2,10,p)+binom.pmf(3,10,p))\n",
    "p2"
   ]
  },
  {
   "cell_type": "code",
   "execution_count": 10,
   "metadata": {
    "colab": {
     "base_uri": "https://localhost:8080/"
    },
    "id": "Yf_QuuZKMUNB",
    "outputId": "31cf927c-e1b7-4a84-ebe8-53477c10ebf7"
   },
   "outputs": [
    {
     "data": {
      "text/plain": [
       "0.9829376918730061"
      ]
     },
     "execution_count": 10,
     "metadata": {},
     "output_type": "execute_result"
    }
   ],
   "source": [
    "# outra forma de fazer a probabilidade de retirar mais do que 3 mulheres num total de 10 amostras\n",
    "p2 = binom.pmf(4,10,p)+binom.pmf(5,10,p)+binom.pmf(6,10,p)+binom.pmf(7,10,p)+ \\\n",
    "binom.pmf(8,10,p)+binom.pmf(9,10,p)+binom.pmf(10,10,p)\n",
    "p2"
   ]
  },
  {
   "cell_type": "code",
   "execution_count": 11,
   "metadata": {
    "colab": {
     "base_uri": "https://localhost:8080/"
    },
    "id": "qrc8OWVdEGSS",
    "outputId": "da50d7c1-ec0c-4280-8558-19d5e59f9a18"
   },
   "outputs": [
    {
     "data": {
      "text/plain": [
       "0.9829376918730067"
      ]
     },
     "execution_count": 11,
     "metadata": {},
     "output_type": "execute_result"
    }
   ],
   "source": [
    "# outra forma de fazer a probabilidade de retirar mais do que 3 mulheres num total de 10 amostras\n",
    "p3 = 1 - binom.cdf(3, 10, p)\n",
    "p3"
   ]
  },
  {
   "cell_type": "code",
   "execution_count": 12,
   "metadata": {
    "colab": {
     "base_uri": "https://localhost:8080/"
    },
    "id": "Qblfs10VFjuv",
    "outputId": "f55bc85d-e273-4928-8ec4-052caa528ed7"
   },
   "outputs": [
    {
     "data": {
      "text/plain": [
       "0.11380547673509062"
      ]
     },
     "execution_count": 12,
     "metadata": {},
     "output_type": "execute_result"
    }
   ],
   "source": [
    "# PROBABILIDADE DE RETIRAR MAIS DO QUE 8 MULHERES NUM TOTAL DE 10 AMOSTRAS\n",
    "p4 = binom.pmf(9,10,p)+binom.pmf(10,10,p)\n",
    "p4"
   ]
  },
  {
   "cell_type": "code",
   "execution_count": 13,
   "metadata": {
    "colab": {
     "base_uri": "https://localhost:8080/"
    },
    "id": "hZOwxY22F17D",
    "outputId": "6ec98260-23d8-4688-d078-633643bd1209"
   },
   "outputs": [
    {
     "data": {
      "text/plain": [
       "0.11380547673509078"
      ]
     },
     "execution_count": 13,
     "metadata": {},
     "output_type": "execute_result"
    }
   ],
   "source": [
    "# outra forma de fazer a probabilidade de retirar mais do que 8 mulheres num total de 10 amostras\n",
    "p5 = binom.cdf(10, 10, p) - binom.cdf(8, 10, p)\n",
    "p5"
   ]
  },
  {
   "cell_type": "markdown",
   "metadata": {
    "id": "nvMHLvJfIoDf"
   },
   "source": [
    "## Distribuição Geométrica"
   ]
  },
  {
   "cell_type": "markdown",
   "metadata": {},
   "source": [
    "Probabilidade de repetidas tentativas até que o sucesso ocorra. \\\n",
    "Tentativas independentes. \\\n",
    "A probabilidade de sucesso é constante para todas as tentativas."
   ]
  },
  {
   "cell_type": "code",
   "execution_count": 14,
   "metadata": {
    "id": "IR1g2RkFI5ER"
   },
   "outputs": [],
   "source": [
    "from scipy.stats import geom"
   ]
  },
  {
   "cell_type": "code",
   "execution_count": 15,
   "metadata": {
    "colab": {
     "base_uri": "https://localhost:8080/"
    },
    "id": "Ft7_jnHaI7J8",
    "outputId": "5d5624a2-3afd-4e9c-9f3e-bdc7d12d6ec9"
   },
   "outputs": [
    {
     "data": {
      "text/plain": [
       "0.023224317438874435"
      ]
     },
     "execution_count": 15,
     "metadata": {},
     "output_type": "execute_result"
    }
   ],
   "source": [
    "# PROBABILIDADE DE RETIRAR 3 AMOSTRAS E NENHUMA SER MULHER\n",
    "# geom.pmf(x,p) x representa a tentativa que se obteve sucesso e p a probabilidade\n",
    "geom.pmf(4, p)"
   ]
  },
  {
   "cell_type": "markdown",
   "metadata": {
    "id": "ipFZGhUYGGq8"
   },
   "source": [
    "## Distribuição de Poisson"
   ]
  },
  {
   "cell_type": "markdown",
   "metadata": {},
   "source": [
    "Número de vezes que um evento ocorre num determinado intervalo (tempo, área ou volume). \\\n",
    "Probabilidade do evento ocorrer é a mesma para cada intervalo. \\\n",
    "Número de ocorrências nos intervalos são independentes."
   ]
  },
  {
   "cell_type": "code",
   "execution_count": 16,
   "metadata": {
    "id": "v-f6tec8GF2L"
   },
   "outputs": [],
   "source": [
    "from scipy.stats import poisson"
   ]
  },
  {
   "cell_type": "code",
   "execution_count": 17,
   "metadata": {
    "colab": {
     "base_uri": "https://localhost:8080/"
    },
    "id": "q6f8mGj5Huw4",
    "outputId": "635931e5-bccf-4a8e-ce5f-f8823e52313f"
   },
   "outputs": [
    {
     "data": {
      "text/plain": [
       "0.025038944623030353"
      ]
     },
     "execution_count": 17,
     "metadata": {},
     "output_type": "execute_result"
    }
   ],
   "source": [
    "# Num local de prova, 100 vestibulandos, normalmente, terminaram a prova em 2 horas (tempo mínimo).\n",
    "# Probabilidade de exatamente 90 vestibulandos terminarem a prova em 2h.\n",
    "\n",
    "# poisson.pmf(x, m) x é a quantidade de ocorrências EM ESTUDO e m é a taxa de ocorrências.\n",
    "\n",
    "poisson.pmf(90,100)"
   ]
  }
 ],
 "metadata": {
  "colab": {
   "collapsed_sections": [],
   "name": "distribuicao_discreta.ipynb",
   "provenance": []
  },
  "kernelspec": {
   "display_name": "Python 3 (ipykernel)",
   "language": "python",
   "name": "python3"
  },
  "language_info": {
   "codemirror_mode": {
    "name": "ipython",
    "version": 3
   },
   "file_extension": ".py",
   "mimetype": "text/x-python",
   "name": "python",
   "nbconvert_exporter": "python",
   "pygments_lexer": "ipython3",
   "version": "3.11.4"
  }
 },
 "nbformat": 4,
 "nbformat_minor": 1
}
